{
 "cells": [
  {
   "cell_type": "markdown",
   "metadata": {},
   "source": [
    "# 1001. [网格照明](https://leetcode-cn.com/problems/grid-illumination/)"
   ]
  },
  {
   "cell_type": "code",
   "execution_count": 8,
   "metadata": {},
   "outputs": [
    {
     "data": {
      "text/plain": [
       "[1, 1, 0]"
      ]
     },
     "execution_count": 8,
     "metadata": {},
     "output_type": "execute_result"
    }
   ],
   "source": [
    "# 暴力超时了\n",
    "from typing import List\n",
    "class Solution:\n",
    "    def gridIllumination(self, n: int, lamps: List[List[int]], queries: List[List[int]]) -> List[int]:\n",
    "        n = len(queries)\n",
    "        ans = [0] * n\n",
    "        for i in range(n):\n",
    "            r, c = queries[i]\n",
    "            for j in range(len(lamps)):\n",
    "                x, y = lamps.pop()\n",
    "                a = abs(x - r)\n",
    "                b = abs(y - c)\n",
    "                if a == b or a == 0 or b == 0:\n",
    "                    ans[i] = 1\n",
    "                if a > 1 or b > 1:\n",
    "                    lamps.insert(0, [x, y])\n",
    "        return ans\n",
    "Solution().gridIllumination(n = 5, lamps = [[0,0],[0,4]], queries = [[0,4],[0,1],[1,4]])\n",
    "                \n",
    "\n"
   ]
  },
  {
   "cell_type": "code",
   "execution_count": 10,
   "metadata": {},
   "outputs": [
    {
     "data": {
      "text/plain": [
       "[1, 1, 0]"
      ]
     },
     "execution_count": 10,
     "metadata": {},
     "output_type": "execute_result"
    }
   ],
   "source": [
    "from typing import List\n",
    "from collections import defaultdict\n",
    "class Solution:\n",
    "    def gridIllumination(self, n: int, lamps: List[List[int]], queries: List[List[int]]) -> List[int]:\n",
    "        ans = []\n",
    "        _x, _y, _sum, _diff = defaultdict(int), defaultdict(int), defaultdict(int), defaultdict(int)\n",
    "        lampset = set()\n",
    "        for x, y in lamps:\n",
    "            if (x, y) in lampset:\n",
    "                continue\n",
    "            lampset.add((x, y))\n",
    "            _x[x] += 1\n",
    "            _y[y] += 1\n",
    "            _sum[x + y] += 1\n",
    "            _diff[x - y] += 1\n",
    "        \n",
    "        for x, y in queries:\n",
    "            if _x[x] or _y[y] or _sum[x + y] or _diff[x - y]:\n",
    "                ans.append(1)\n",
    "            else:\n",
    "                ans.append(0)\n",
    "            \n",
    "            for i in [-1, 0, 1]:\n",
    "                for j in [-1, 0, 1]:\n",
    "                    nx, ny = x + i, y + j\n",
    "                    if (nx, ny) in lampset:\n",
    "                        lampset.remove((nx, ny))\n",
    "                        _x[nx] -= 1\n",
    "                        _y[ny] -= 1\n",
    "                        _sum[nx + ny] -= 1\n",
    "                        _diff[nx - ny] -= 1\n",
    "        \n",
    "        return ans\n",
    "Solution().gridIllumination(n = 5, lamps = [[0,0],[0,4]], queries = [[0,4],[0,1],[1,4]])\n",
    "                \n",
    "\n"
   ]
  }
 ],
 "metadata": {
  "interpreter": {
   "hash": "3a57da47d7432be2ebf54640945d9cc60b99e6d1ae25722168e2af822ccabf93"
  },
  "kernelspec": {
   "display_name": "Python 3.8.10 64-bit ('.venv': venv)",
   "language": "python",
   "name": "python3"
  },
  "language_info": {
   "codemirror_mode": {
    "name": "ipython",
    "version": 3
   },
   "file_extension": ".py",
   "mimetype": "text/x-python",
   "name": "python",
   "nbconvert_exporter": "python",
   "pygments_lexer": "ipython3",
   "version": "3.8.10"
  },
  "orig_nbformat": 4
 },
 "nbformat": 4,
 "nbformat_minor": 2
}
