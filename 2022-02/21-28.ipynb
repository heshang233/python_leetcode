{
 "cells": [
  {
   "cell_type": "markdown",
   "metadata": {},
   "source": [
    "# 838. [推多米诺](https://leetcode-cn.com/problems/push-dominoes/)"
   ]
  },
  {
   "cell_type": "code",
   "execution_count": 12,
   "metadata": {},
   "outputs": [
    {
     "data": {
      "text/plain": [
       "'LLLLL.....RRRRRRRLLLLL...RR.L..RRRRRR.LLLL.RRRR.LLLLLLL.RRRRRRR'"
      ]
     },
     "execution_count": 12,
     "metadata": {},
     "output_type": "execute_result"
    }
   ],
   "source": [
    "class Solution:\n",
    "    def pushDominoes(self, dominoes: str) -> str:\n",
    "        n = len(dominoes)\n",
    "        ans = ''\n",
    "        flag, s = False, 0\n",
    "        for i in range(n):\n",
    "            if dominoes[i] == '.':\n",
    "                s += 1\n",
    "            elif dominoes[i] == 'L':\n",
    "                if s > 0:\n",
    "                    if flag:\n",
    "                        ans += 'R'*(s//2)\n",
    "                        ans += '.'*(s%2)\n",
    "                        ans += 'L'*(s//2)\n",
    "                    else:\n",
    "                        ans += 'L'*s\n",
    "                    s = 0\n",
    "                ans += 'L'\n",
    "                flag = False\n",
    "            else:\n",
    "                if s > 0:\n",
    "                    if flag:\n",
    "                        ans += 'R'*s\n",
    "                    else:\n",
    "                        ans += '.'*s\n",
    "                    s = 0\n",
    "                flag = True\n",
    "                ans += 'R'\n",
    "        if s > 0:\n",
    "            if flag:\n",
    "                ans += 'R'*s\n",
    "            else:\n",
    "                ans += '.'*s\n",
    "        return ans\n",
    "Solution().pushDominoes(dominoes = \"....L.....R...RRRLLLLL...RR.L..R...R...L.L.RRRR.L.L.L.L.R......\")"
   ]
  }
 ],
 "metadata": {
  "interpreter": {
   "hash": "3a57da47d7432be2ebf54640945d9cc60b99e6d1ae25722168e2af822ccabf93"
  },
  "kernelspec": {
   "display_name": "Python 3.8.10 ('.venv': venv)",
   "language": "python",
   "name": "python3"
  },
  "language_info": {
   "codemirror_mode": {
    "name": "ipython",
    "version": 3
   },
   "file_extension": ".py",
   "mimetype": "text/x-python",
   "name": "python",
   "nbconvert_exporter": "python",
   "pygments_lexer": "ipython3",
   "version": "3.8.10"
  },
  "orig_nbformat": 4
 },
 "nbformat": 4,
 "nbformat_minor": 2
}
