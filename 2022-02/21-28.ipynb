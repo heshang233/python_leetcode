{
 "cells": [
  {
   "cell_type": "markdown",
   "metadata": {},
   "source": [
    "# 838. [推多米诺](https://leetcode-cn.com/problems/push-dominoes/)"
   ]
  },
  {
   "cell_type": "code",
   "execution_count": null,
   "metadata": {},
   "outputs": [],
   "source": [
    "class Solution:\n",
    "    def pushDominoes(self, dominoes: str) -> str:\n",
    "        n = len(dominoes)\n",
    "        ans = ''\n",
    "        flag, s = False, 0\n",
    "        for i in range(n):\n",
    "            if dominoes[i] == '.':\n",
    "                s += 1\n",
    "            elif dominoes[i] == 'L':\n",
    "                if s > 0:\n",
    "                    if flag:\n",
    "                        ans += 'R'*(s//2)\n",
    "                        ans += '.'*(s%2)\n",
    "                        ans += 'L'*(s//2)\n",
    "                    else:\n",
    "                        ans += 'L'*s\n",
    "                    s = 0\n",
    "                ans += 'L'\n",
    "                flag = False\n",
    "            else:\n",
    "                if s > 0:\n",
    "                    if flag:\n",
    "                        ans += 'R'*s\n",
    "                    else:\n",
    "                        ans += '.'*s\n",
    "                    s = 0\n",
    "                flag = True\n",
    "                ans += 'R'\n",
    "        if s > 0:\n",
    "            if flag:\n",
    "                ans += 'R'*s\n",
    "            else:\n",
    "                ans += '.'*s\n",
    "        return ans\n",
    "Solution().pushDominoes(dominoes = \"....L.....R...RRRLLLLL...RR.L..R...R...L.L.RRRR.L.L.L.L.R......\")"
   ]
  },
  {
   "cell_type": "markdown",
   "metadata": {},
   "source": [
    "# 1994. [好子集的数目](https://leetcode-cn.com/problems/the-number-of-good-subsets/)\n",
    "\n",
    "解题思路\n",
    "因为1 <= nums[i] <= 30，这个范围非常小，我们可以直接计算。\n",
    "\n",
    "1、先统计每个数出现的次数，记作count。\n",
    "\n",
    "2、数字1比较特殊，它本身不能构成一个合法的subset，但是任意合法的subset加上任意个1，都仍然是合法的subset。所以其它任何合法的subset个数都需要乘以1的子集个数，即power(2, count[1])。\n",
    "\n",
    "3、明显不合法的数invalid = [4,8,9,12,16,18,20,24,25,27,28]。这些数本身就包含同一个质因子多次，所以可以直接删除。\n",
    "\n",
    "4、所有质数primes = [2,3,5,7,11,13,17,19,23,29]。每种质数选择1个，都能够构成一个合法的subset。那么总的subsets是多少呢？对于每个prime，可以不选它，也可以选count[prime]中的任意一个，所以有count[prime] + 1种方法。总的subsets就是所有count[prime] + 1的乘积。但是本题中空集不是一个合法的subset，所以最后要减1，即不能所有prime都不选。\n",
    "\n",
    "5、所有合数composites = [6,10,14,15,21,22,26,30]。分三种情况讨论：\n",
    "\n",
    "a、subset中包含一个composite，比如6。显然，选择了6以后，就不能再选择2和3。我们将count[2]和count[3]清零，然后计算只包含primes的subsets个数（注意此时可以包含空集），再在每个subset后面添加任意一个6，都能构成一个合法的subset。同样的方法可以计算其它合数的情况。\n",
    "\n",
    "b、subset中包含2个composites，只有6种情况：[15,14]、[15,22]、[15,26]、[21,10]、[21,22]、[21,26]，其它任意两个合数的组合都将导致质因子冲突。同样采用上面的方法计算每种情况的subsets。\n",
    "\n",
    "c、3个及以上的composites，这种情况不存在，任意3个composites都将导致质因子冲突。\n",
    "\n",
    "以上就是所有情况了，计算每一个合法subsets并求和即可。"
   ]
  },
  {
   "cell_type": "code",
   "execution_count": null,
   "metadata": {},
   "outputs": [],
   "source": [
    "from typing import List\n",
    "from collections import Counter\n",
    "from collections import defaultdict\n",
    "import math\n",
    "class Solution:\n",
    "    def numberOfGoodSubsets(self, nums: List[int]) -> int:\n",
    "        count, mod = Counter(nums), 10**9+7\n",
    "        d = defaultdict(int)\n",
    "        d[1] = (1 << count[1]) % mod\n",
    "        pos = [2,3,5,6,7,10,11,13,14,15,21,22,26,30]\n",
    "        for num in pos:\n",
    "            for x in list(d):\n",
    "                if math.gcd(num, x) == 1:\n",
    "                    d[num * x] += count[num] * d[x]\n",
    "                    d[num * x] %= mod\n",
    "        return (sum(d.values()) - d[1]) % mod"
   ]
  },
  {
   "cell_type": "markdown",
   "metadata": {},
   "source": [
    "# 1706. [球会落何处](https://leetcode-cn.com/problems/where-will-the-ball-fall/)"
   ]
  },
  {
   "cell_type": "code",
   "execution_count": 7,
   "metadata": {},
   "outputs": [
    {
     "data": {
      "text/plain": [
       "[0, 1, 2, 3, 4, -1]"
      ]
     },
     "execution_count": 7,
     "metadata": {},
     "output_type": "execute_result"
    }
   ],
   "source": [
    "from typing import List\n",
    "class Solution:\n",
    "    def findBall(self, grid: List[List[int]]) -> List[int]:\n",
    "        m, n = len(grid), len(grid[0])\n",
    "        map = [[[-2]*2 for _ in range(n)] for _ in range(m+1)]\n",
    "        def dfs(x: int, y: int, flag: int, grid: List[List[int]]):\n",
    "            # print(x, y, flag)\n",
    "            if map[x][y][flag] > -2:\n",
    "                return map[x][y][flag]\n",
    "            if x == m:\n",
    "                map[x][y][flag] = y\n",
    "            elif 0 <= y < n:\n",
    "                map[x][y][flag] = -1\n",
    "                if flag:\n",
    "                    if 0 <= y + grid[x][y] < n:\n",
    "                        tflag = 0 if grid[x][y] == grid[x][y + grid[x][y]] else 1\n",
    "                        map[x][y][flag] = dfs(x, y + grid[x][y], tflag ,grid)\n",
    "                else:\n",
    "                    map[x][y][flag] = dfs(x + 1, y, 1, grid)\n",
    "            else:\n",
    "                map[x][y][flag] = -1\n",
    "            return map[x][y][flag]\n",
    "        return [dfs(0, i, 1, grid) for i in range(n)]\n",
    "Solution().findBall(grid = [[1,1,1,1,1,1],[-1,-1,-1,-1,-1,-1],[1,1,1,1,1,1],[-1,-1,-1,-1,-1,-1]])\n",
    "        "
   ]
  },
  {
   "cell_type": "markdown",
   "metadata": {},
   "source": [
    "递归dfs还是弱鸡 完全没有必要记忆化"
   ]
  },
  {
   "cell_type": "code",
   "execution_count": null,
   "metadata": {},
   "outputs": [],
   "source": [
    "class Solution:\n",
    "    def findBall(self, grid: List[List[int]]) -> List[int]:\n",
    "        n = len(grid[0])\n",
    "        ans = [-1] * n\n",
    "        for j in range(n):\n",
    "            col = j  # 球的初始列\n",
    "            for row in grid:\n",
    "                dir = row[col]\n",
    "                col += dir  # 移动球\n",
    "                if col < 0 or col == n or row[col] != dir:  # 到达侧边或 V 形\n",
    "                    break\n",
    "            else:  # 成功到达底部\n",
    "                ans[j] = col\n",
    "            # python的for-else独特语法, 循环未结束 会走else代码\n",
    "        return ans\n",
    "Solution().findBall(grid = [[1,1,1,1,1,1],[-1,-1,-1,-1,-1,-1],[1,1,1,1,1,1],[-1,-1,-1,-1,-1,-1]])"
   ]
  },
  {
   "cell_type": "markdown",
   "metadata": {},
   "source": [
    "# 537. [复数乘法](https://leetcode-cn.com/problems/complex-number-multiplication/)"
   ]
  },
  {
   "cell_type": "code",
   "execution_count": 10,
   "metadata": {},
   "outputs": [
    {
     "data": {
      "text/plain": [
       "'0+0i'"
      ]
     },
     "execution_count": 10,
     "metadata": {},
     "output_type": "execute_result"
    }
   ],
   "source": [
    "class Solution:\n",
    "    def complexNumberMultiply(self, num1: str, num2: str) -> str:\n",
    "        a1, b1 = map(int, num1[0:-1].split('+'))\n",
    "        a2, b2 = map(int, num2[0:-1].split('+'))\n",
    "        return str(a1*a2 - b1*b2) + '+' + str(a1*b2 + a2*b1) + 'i'\n",
    "\n",
    "Solution().complexNumberMultiply('1+-1i', '0+0i')"
   ]
  }
 ],
 "metadata": {
  "interpreter": {
   "hash": "3a57da47d7432be2ebf54640945d9cc60b99e6d1ae25722168e2af822ccabf93"
  },
  "kernelspec": {
   "display_name": "Python 3.8.10 ('.venv': venv)",
   "language": "python",
   "name": "python3"
  },
  "language_info": {
   "codemirror_mode": {
    "name": "ipython",
    "version": 3
   },
   "file_extension": ".py",
   "mimetype": "text/x-python",
   "name": "python",
   "nbconvert_exporter": "python",
   "pygments_lexer": "ipython3",
   "version": "3.8.10"
  },
  "orig_nbformat": 4
 },
 "nbformat": 4,
 "nbformat_minor": 2
}
