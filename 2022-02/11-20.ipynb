{
 "cells": [
  {
   "cell_type": "markdown",
   "metadata": {},
   "source": [
    "# 540. [有序数组中的单一元素](https://leetcode-cn.com/problems/single-element-in-a-sorted-array/)"
   ]
  },
  {
   "cell_type": "code",
   "execution_count": 22,
   "metadata": {},
   "outputs": [
    {
     "name": "stdout",
     "output_type": "stream",
     "text": [
      "0 2 1\n"
     ]
    },
    {
     "data": {
      "text/plain": [
       "0"
      ]
     },
     "execution_count": 22,
     "metadata": {},
     "output_type": "execute_result"
    }
   ],
   "source": [
    "from typing import List\n",
    "class Solution:\n",
    "    def singleNonDuplicate(self, nums: List[int]) -> int:\n",
    "        if len(nums) == 1:\n",
    "            return nums[0]\n",
    "        l = 0\n",
    "        r = len(nums) - 1\n",
    "        ans = -1\n",
    "        while l < r:\n",
    "            m = (r + l) // 2 \n",
    "            print(l, r, m)\n",
    "            if m % 2 == 1:\n",
    "                if nums[m] == nums[m + 1]:\n",
    "                    r = m - 1\n",
    "                else:\n",
    "                    l = m + 1\n",
    "            else:\n",
    "                if nums[m] == nums[m + 1]:\n",
    "                    l = m + 1\n",
    "                elif nums[m] == nums[m - 1]:\n",
    "                    r = m - 1\n",
    "                else:\n",
    "                    ans = nums[m]\n",
    "                    break\n",
    "            if l == r:\n",
    "                ans = nums[r]\n",
    "        return ans\n",
    "Solution().singleNonDuplicate([0,1,1])"
   ]
  },
  {
   "cell_type": "code",
   "execution_count": 28,
   "metadata": {},
   "outputs": [
    {
     "name": "stdout",
     "output_type": "stream",
     "text": [
      "1 0\n",
      "0 1\n"
     ]
    },
    {
     "data": {
      "text/plain": [
       "0"
      ]
     },
     "execution_count": 28,
     "metadata": {},
     "output_type": "execute_result"
    }
   ],
   "source": [
    "# 如果 m为奇数 m - 1 = m ^ 1\n",
    "# 如果 m为偶数 m + 1 = m ^ 1\n",
    "from typing import List\n",
    "class Solution:\n",
    "    def singleNonDuplicate(self, nums: List[int]) -> int:\n",
    "        l = 0\n",
    "        r = len(nums) - 1\n",
    "        while l < r:\n",
    "            m = (r + l) // 2 \n",
    "            print(m, m^1)\n",
    "            if nums[m] == nums[m ^ 1]:\n",
    "                l = m + 1\n",
    "            else:\n",
    "                r = m\n",
    "        return nums[l]\n",
    "Solution().singleNonDuplicate([0,1,1])"
   ]
  },
  {
   "cell_type": "markdown",
   "metadata": {},
   "source": [
    "# 1719. [重构一棵树的方案数](https://leetcode-cn.com/problems/number-of-ways-to-reconstruct-a-tree/)\n",
    "\n",
    "据说是leetcode最难的一道题, [leetcode题目难度天梯](https://zerotrac.github.io/leetcode_problem_rating/)"
   ]
  },
  {
   "cell_type": "code",
   "execution_count": 11,
   "metadata": {},
   "outputs": [
    {
     "data": {
      "text/plain": [
       "2"
      ]
     },
     "execution_count": 11,
     "metadata": {},
     "output_type": "execute_result"
    }
   ],
   "source": [
    "from typing import List\n",
    "from collections import Counter\n",
    "from collections import defaultdict\n",
    "class Solution:\n",
    "    def checkWays(self, pairs: List[List[int]]) -> int:\n",
    "        ans = 1\n",
    "        c = Counter()\n",
    "        g = defaultdict(list)\n",
    "        for u, v in pairs:\n",
    "            c[u] += 1\n",
    "            c[v] += 1\n",
    "            g[u].append(v)\n",
    "            g[v].append(u)\n",
    "        n = len(c)\n",
    "        res = sorted(c.keys(), key=lambda x: -c[x])\n",
    "        for u, v in pairs:\n",
    "            if c[u] == c[v]:\n",
    "                ans = 2\n",
    "        par = {}\n",
    "        if c[res[0]] != n - 1:\n",
    "            ans = 0\n",
    "        else:\n",
    "            for i in res:\n",
    "                par[i] = res[0]\n",
    "            f = True\n",
    "            vis = {res[0]}\n",
    "            for i in range(1, n):\n",
    "                for v in g[res[i]]:\n",
    "                    # 这块儿的判断看不懂。。\n",
    "                    if v not in vis:\n",
    "                        if par[v] != par[res[i]]:\n",
    "                            ans = 0\n",
    "                            f = False\n",
    "                            break\n",
    "                        par[v] = res[i]\n",
    "                if not f:\n",
    "                    break\n",
    "                vis.add(res[i])\n",
    "        return ans\n",
    "\n",
    "Solution().checkWays(pairs = [[1,2],[2,3],[2,4],[1,5],[2,5]])"
   ]
  },
  {
   "cell_type": "markdown",
   "metadata": {},
   "source": [
    "# 688. [骑士在棋盘上的概率](https://leetcode-cn.com/problems/knight-probability-in-chessboard/)"
   ]
  },
  {
   "cell_type": "code",
   "execution_count": null,
   "metadata": {},
   "outputs": [],
   "source": [
    "class Solution:\n",
    "    def knightProbability(self, n: int, k: int, row: int, column: int) -> float:\n",
    "        map = [[[0]*n for _ in range(n)] for _ in range(k + 1)]\n",
    "        for step in range(k + 1):\n",
    "            for i in range(n):\n",
    "                for j in range(n):\n",
    "                    if step == 0:\n",
    "                        map[step][i][j] = 1\n",
    "                    else:\n",
    "                        t = 0\n",
    "                        for x, y in [(2, 1), (2, -1), (-2, 1), (-2, -1), (1, 2), (-1, 2), (1, -2), (-1, -2)]:\n",
    "                            ni, nj = i + x, j + y\n",
    "                            if 0 <= ni < n and 0 <= nj < n:\n",
    "                                map[step][i][j] += map[step - 1][ni][nj]/8\n",
    "        return map[k][row][column]"
   ]
  }
 ],
 "metadata": {
  "interpreter": {
   "hash": "3a57da47d7432be2ebf54640945d9cc60b99e6d1ae25722168e2af822ccabf93"
  },
  "kernelspec": {
   "display_name": "Python 3.8.10 64-bit ('.venv': venv)",
   "language": "python",
   "name": "python3"
  },
  "language_info": {
   "codemirror_mode": {
    "name": "ipython",
    "version": 3
   },
   "file_extension": ".py",
   "mimetype": "text/x-python",
   "name": "python",
   "nbconvert_exporter": "python",
   "pygments_lexer": "ipython3",
   "version": "3.8.10"
  },
  "orig_nbformat": 4
 },
 "nbformat": 4,
 "nbformat_minor": 2
}
