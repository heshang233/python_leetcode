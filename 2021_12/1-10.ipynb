{
 "cells": [
  {
   "cell_type": "markdown",
   "metadata": {},
   "source": [
    "# 1446. [连续字符](https://leetcode-cn.com/problems/consecutive-characters/)"
   ]
  },
  {
   "cell_type": "code",
   "execution_count": null,
   "metadata": {},
   "outputs": [
    {
     "name": "stdout",
     "output_type": "stream",
     "text": [
      "4\n",
      "2\n",
      "5\n",
      "5\n",
      "11\n",
      "1\n"
     ]
    }
   ],
   "source": [
    "from collections import Counter\n",
    "class Solution:\n",
    "    def maxPower(self, s: str) -> int:\n",
    "        arr = [1]*len(s)\n",
    "        pre = s[0]\n",
    "        for i in range(1, len(s)):\n",
    "            if pre == s[i]:\n",
    "                arr[i] += arr[i-1]\n",
    "            pre = s[i]\n",
    "        return max(arr)\n",
    "\n",
    "print(Solution().maxPower('asdervsddddewfawqdasvwds'))\n",
    "# leetcode\n",
    "print(Solution().maxPower('leetcode'))\n",
    "# abbcccddddeeeeedcba\n",
    "print(Solution().maxPower('abbcccddddeeeeedcba'))\n",
    "# triplepillooooow\n",
    "print(Solution().maxPower('triplepillooooow'))\n",
    "# hooraaaaaaaaaaay\n",
    "print(Solution().maxPower('hooraaaaaaaaaaay'))\n",
    "# tourist\n",
    "print(Solution().maxPower('tourist'))"
   ]
  },
  {
   "cell_type": "code",
   "execution_count": null,
   "metadata": {},
   "outputs": [
    {
     "name": "stdout",
     "output_type": "stream",
     "text": [
      "4\n",
      "2\n",
      "5\n",
      "5\n",
      "11\n",
      "1\n"
     ]
    }
   ],
   "source": [
    "from collections import Counter\n",
    "class Solution:\n",
    "    def maxPower(self, s: str) -> int:\n",
    "        ans, c = 1, 1\n",
    "        for i in range(1, len(s)):\n",
    "            if s[i] == s[i-1]:\n",
    "                c += 1\n",
    "                ans = max(ans, c)\n",
    "            else:\n",
    "                c = 1\n",
    "        return ans\n",
    "\n",
    "print(Solution().maxPower('asdervsddddewfawqdasvwds'))\n",
    "# leetcode\n",
    "print(Solution().maxPower('leetcode'))\n",
    "# abbcccddddeeeeedcba\n",
    "print(Solution().maxPower('abbcccddddeeeeedcba'))\n",
    "# triplepillooooow\n",
    "print(Solution().maxPower('triplepillooooow'))\n",
    "# hooraaaaaaaaaaay\n",
    "print(Solution().maxPower('hooraaaaaaaaaaay'))\n",
    "# tourist\n",
    "print(Solution().maxPower('tourist'))"
   ]
  },
  {
   "cell_type": "markdown",
   "metadata": {},
   "source": [
    "# 506. [相对名次](https://leetcode-cn.com/problems/relative-ranks/)"
   ]
  },
  {
   "cell_type": "code",
   "execution_count": null,
   "metadata": {},
   "outputs": [
    {
     "name": "stdout",
     "output_type": "stream",
     "text": [
      "['Gold Medal', 'Silver Medal', 'Bronze Medal', '4', '5']\n",
      "['Gold Medal', '5', 'Bronze Medal', 'Silver Medal', '4']\n",
      "['Silver Medal', 'Bronze Medal', '4', 'Gold Medal']\n"
     ]
    }
   ],
   "source": [
    "from typing import List\n",
    "from queue import PriorityQueue\n",
    "\n",
    "class Solution:\n",
    "    def findRelativeRanks(self, score: List[int]) -> List[str]:\n",
    "        f,s,t = \"Gold Medal\",\"Silver Medal\",\"Bronze Medal\"\n",
    "        q = PriorityQueue()\n",
    "        for i, v in enumerate(score):\n",
    "            q.put([-v,i])\n",
    "        \n",
    "        ans = [\"\"]*len(score)\n",
    "        \n",
    "\n",
    "        if not q.empty():\n",
    "            ans[q.get()[1]] = \"Gold Medal\"\n",
    "        if not q.empty():\n",
    "            ans[q.get()[1]] = \"Silver Medal\"\n",
    "        if not q.empty():\n",
    "            ans[q.get()[1]] = \"Bronze Medal\"\n",
    "\n",
    "        for i in range(4, len(score)+1):\n",
    "            if not q.empty():\n",
    "                ans[q.get()[1]] = str(i)\n",
    "        return ans\n",
    "print(Solution().findRelativeRanks([5,4,3,2,1]))\n",
    "print(Solution().findRelativeRanks([10,3,8,9,4]))\n",
    "print(Solution().findRelativeRanks([3,2,1,4]))\n"
   ]
  },
  {
   "cell_type": "code",
   "execution_count": null,
   "metadata": {},
   "outputs": [
    {
     "name": "stdout",
     "output_type": "stream",
     "text": [
      "['Gold Medal', 'Silver Medal', 'Bronze Medal', '4', '5']\n",
      "['Gold Medal', '5', 'Bronze Medal', 'Silver Medal', '4']\n",
      "['Silver Medal', 'Bronze Medal', '4', 'Gold Medal']\n"
     ]
    }
   ],
   "source": [
    "from typing import List\n",
    "from queue import PriorityQueue\n",
    "\n",
    "class Solution:\n",
    "    gold = (\"Gold Medal\",\"Silver Medal\",\"Bronze Medal\")\n",
    "    \n",
    "    def findRelativeRanks(self, score: List[int]) -> List[str]:\n",
    "        ans = [\"\"]*len(score)\n",
    "        map = sorted(enumerate(score), key=lambda x:-x[1])\n",
    "        for i, (idx,_) in enumerate(map):\n",
    "            ans[idx] = self.gold[i] if i<3 else str(i + 1)\n",
    "        return ans\n",
    "print(Solution().findRelativeRanks([5,4,3,2,1]))\n",
    "print(Solution().findRelativeRanks([10,3,8,9,4]))\n",
    "print(Solution().findRelativeRanks([3,2,1,4]))\n"
   ]
  },
  {
   "cell_type": "markdown",
   "metadata": {},
   "source": [
    "# 1005. [K 次取反后最大化的数组和](https://leetcode-cn.com/problems/maximize-sum-of-array-after-k-negations/)"
   ]
  },
  {
   "cell_type": "code",
   "execution_count": 19,
   "metadata": {},
   "outputs": [
    {
     "name": "stdout",
     "output_type": "stream",
     "text": [
      "5\n",
      "6\n",
      "13\n",
      "20\n"
     ]
    }
   ],
   "source": [
    "from typing import List\n",
    "class Solution:\n",
    "    def largestSumAfterKNegations(self, nums: List[int], k: int) -> int:\n",
    "        count = 0\n",
    "        nums.sort()\n",
    "        mix = abs(nums[0])\n",
    "        mif = True\n",
    "        for n in nums:\n",
    "            if k > 0 and n < 0:\n",
    "                k -= 1\n",
    "                n = -n\n",
    "            count += n\n",
    "            if mix > abs(n):\n",
    "                mix = abs(n)\n",
    "                mif = False if n < 0 else True\n",
    "        if k > 0 and k % 2 != 0:\n",
    "            count += -2*mix if mif else 2*mix\n",
    "        return count\n",
    "print(Solution().largestSumAfterKNegations([4,3,2], 1))\n",
    "print(Solution().largestSumAfterKNegations([3,-1,0,2], 3))\n",
    "print(Solution().largestSumAfterKNegations([2,-3,-1,5,-4], 2))\n",
    "print(Solution().largestSumAfterKNegations([5,6,9,-3,3], 2))\n"
   ]
  },
  {
   "cell_type": "markdown",
   "metadata": {},
   "source": [
    "# 383. [赎金信](https://leetcode-cn.com/problems/ransom-note/)"
   ]
  },
  {
   "cell_type": "code",
   "execution_count": 3,
   "metadata": {},
   "outputs": [
    {
     "name": "stdout",
     "output_type": "stream",
     "text": [
      "True\n",
      "False\n",
      "False\n"
     ]
    }
   ],
   "source": [
    "class Solution:\n",
    "    def canConstruct(self, ransomNote: str, magazine: str) -> bool:\n",
    "        lr = len(ransomNote)\n",
    "        lm = len(magazine)\n",
    "        if lr > lm:\n",
    "            return False\n",
    "        map = [0]*26\n",
    "        for i in range(lm):\n",
    "            map[ord(magazine[i]) - 97] += 1\n",
    "            if i < lr:\n",
    "                map[ord(ransomNote[i]) - 97] -= 1\n",
    "        if [i for m in map if m < 0]:\n",
    "            return False\n",
    "        return True\n",
    "print(Solution().canConstruct(\"aa\", \"aab\"))\n",
    "print(Solution().canConstruct(\"aa\", \"ab\"))\n",
    "print(Solution().canConstruct(\"a\", \"b\"))\n",
    "\n"
   ]
  },
  {
   "cell_type": "markdown",
   "metadata": {},
   "source": [
    "Counter计数器的神奇用法：counter相减, 相同的key的value相减，只保留正值得value  \n",
    "https://www.cnblogs.com/nisen/p/6052895.html"
   ]
  },
  {
   "cell_type": "code",
   "execution_count": 5,
   "metadata": {},
   "outputs": [
    {
     "name": "stdout",
     "output_type": "stream",
     "text": [
      "Counter()\n",
      "True\n",
      "Counter({'a': 1})\n",
      "False\n",
      "Counter({'a': 1})\n",
      "False\n"
     ]
    }
   ],
   "source": [
    "from collections import Counter\n",
    "class Solution:\n",
    "    def canConstruct(self, ransomNote: str, magazine: str) -> bool:\n",
    "        if len(ransomNote) > len(magazine):\n",
    "            return False\n",
    "        print(Counter(ransomNote) - Counter(magazine))\n",
    "        return not Counter(ransomNote) - Counter(magazine)\n",
    "print(Solution().canConstruct(\"aa\", \"aab\"))\n",
    "print(Solution().canConstruct(\"aa\", \"ab\"))\n",
    "print(Solution().canConstruct(\"a\", \"b\"))\n",
    "\n"
   ]
  },
  {
   "cell_type": "markdown",
   "metadata": {},
   "source": [
    "一次循环就能解决的方法"
   ]
  },
  {
   "cell_type": "code",
   "execution_count": 8,
   "metadata": {},
   "outputs": [
    {
     "name": "stdout",
     "output_type": "stream",
     "text": [
      "True\n",
      "False\n",
      "False\n"
     ]
    }
   ],
   "source": [
    "from collections import Counter\n",
    "class Solution:\n",
    "    def canConstruct(self, ransomNote: str, magazine: str) -> bool:\n",
    "        if len(ransomNote) > len(magazine):\n",
    "            return False\n",
    "        for m in ransomNote:\n",
    "            if m not in magazine:\n",
    "                return False\n",
    "            magazine = magazine.replace(m, '', 1)\n",
    "        return True\n",
    "print(Solution().canConstruct(\"aa\", \"aab\"))\n",
    "print(Solution().canConstruct(\"aa\", \"ab\"))\n",
    "print(Solution().canConstruct(\"a\", \"b\"))\n",
    "\n"
   ]
  },
  {
   "cell_type": "markdown",
   "metadata": {},
   "source": [
    "# 372. [超级次方](https://leetcode-cn.com/problems/super-pow/)"
   ]
  },
  {
   "cell_type": "code",
   "execution_count": 39,
   "metadata": {},
   "outputs": [
    {
     "name": "stdout",
     "output_type": "stream",
     "text": [
      "0 32 33\n",
      "0 32 32\n",
      "1 32 32\n",
      "0 32 32\n",
      "1 31 32\n",
      "[5, 5, 4, 4, 7, 4, 0, 6, 7, 0, 2, 9, 0, 1, 5, 6, 5, 4, 1, 0, 1, 8, 6, 2, 8, 0, 9, 6, 7, 5, 1]\n",
      "[1, 1, 0, 8, 9, 4, 8, 1, 3, 4, 0, 5, 8, 0, 3, 1, 3, 0, 8, 2, 0, 3, 7, 2, 5, 6, 1, 9, 3, 5, 0, 3]\n"
     ]
    }
   ],
   "source": [
    "from typing import List\n",
    "class Solution:\n",
    "    def divi(self, num: int, b: List[int]):\n",
    "        re = 0\n",
    "        ans = []\n",
    "        for n in b:\n",
    "            if re > 0:\n",
    "                n = re*10+n \n",
    "            if 0 < n < num:\n",
    "                re = n\n",
    "                if ans:\n",
    "                    ans.append(0)\n",
    "                continue\n",
    "            re = n % num\n",
    "            ans.append(n//num)\n",
    "        return re, ans\n",
    "b = [1,7,7,4,3,1,7,0,1,4,4,9,2,8,5,0,0,9,3,1,2,5,9,6,0,9,9,0,9,6,0,5,2]\n",
    "x = Solution().divi(2, b)\n",
    "print(x[0], len(x[1]), len(b))\n",
    "b = x[1]\n",
    "\n",
    "x = Solution().divi(2, b)\n",
    "print(x[0], len(x[1]), len(b))\n",
    "b = x[1]\n",
    "\n",
    "x = Solution().divi(2, b)\n",
    "print(x[0], len(x[1]), len(b))\n",
    "b = x[1]\n",
    "\n",
    "x = Solution().divi(2, b)\n",
    "print(x[0], len(x[1]), len(b))\n",
    "b = x[1]\n",
    "\n",
    "x = Solution().divi(2, b)\n",
    "print(x[0], len(x[1]), len(b))\n",
    "print(x[1])\n",
    "print(b)\n",
    "b = x[1]\n"
   ]
  },
  {
   "cell_type": "code",
   "execution_count": 43,
   "metadata": {},
   "outputs": [
    {
     "name": "stdout",
     "output_type": "stream",
     "text": [
      "1198\n",
      "8\n",
      "1024\n",
      "1\n"
     ]
    }
   ],
   "source": [
    "# 2147483647*2147483647 % 1337\n",
    "# > (1337*x + 932)*(1337*x + 932) % 1337\n",
    "# > (a*a + 932*a*2 + 932*932) % 1337 且 a = 1337*x\n",
    "# > 932*932 % 1337\n",
    "# 2147483647^b % 1337\n",
    "# > 932^b %1337\n",
    "# > b为 奇数 (911^(2//b) * 932) %1337 或 b为 偶数 911^(2/b) %1337\n",
    "# 1337->37->12->7->5->4->3->2\n",
    "#     2   3   4  5   6   7  11\n",
    "from typing import List\n",
    "from math import pow\n",
    "class Solution:\n",
    "    def superPow(self, a: int, b: List[int]) -> int:\n",
    "        if a == 1 or a % 1337 == 0:\n",
    "            return a % 1337\n",
    "        re = []\n",
    "        nm = [(1336, 37, 2), (36, 12, 3), (11, 7, 4), (6, 5, 5), (4, 4, 6), (3, 3, 7), (2, 2, 11)]\n",
    "\n",
    "        if a > 1337:\n",
    "            a %= 1337\n",
    "        while True:\n",
    "            n = 0\n",
    "            for x in nm:\n",
    "                if x[0] >= a >= x[1]:\n",
    "                    n = x[2]\n",
    "                    break\n",
    "            \n",
    "            d = self.divi(n, b)\n",
    "            if d[1]:\n",
    "                if d[0] > 0:\n",
    "                    re.append(pow(a, d[0])) \n",
    "                b = d[1]\n",
    "                a = pow(a, n) % 1337\n",
    "            else:\n",
    "                re.append(pow(a, d[0]))\n",
    "                break\n",
    "        ans = 1\n",
    "        for r in re:\n",
    "            ans *= r\n",
    "            if ans > 1337:\n",
    "                ans %= 1337\n",
    "        return int(ans)\n",
    "\n",
    "    def divi(self, num: int, b: List[int]):\n",
    "        re = 0\n",
    "        ans = []\n",
    "        for n in b:\n",
    "            if re > 0:\n",
    "                n = re*10+n \n",
    "            if 0 < n < num:\n",
    "                re = n\n",
    "                if ans:\n",
    "                    ans.append(0)\n",
    "                continue\n",
    "            re = n % num\n",
    "            ans.append(n//num)\n",
    "        return re, ans\n",
    "            \n",
    "x = Solution().superPow(2147483647, [2,0,0])\n",
    "print(x)\n",
    "\n",
    "x = Solution().superPow(2, [3])\n",
    "print(x)\n",
    "\n",
    "x = Solution().superPow(2, [1,0])\n",
    "print(x)\n",
    "\n",
    "x = Solution().superPow(1, [4,3,3,8,5,2])\n",
    "print(x)\n",
    "\n"
   ]
  },
  {
   "cell_type": "markdown",
   "metadata": {},
   "source": [
    "用循环写的超级慢 竟然也通过了。。。。。"
   ]
  },
  {
   "cell_type": "code",
   "execution_count": 45,
   "metadata": {},
   "outputs": [
    {
     "name": "stdout",
     "output_type": "stream",
     "text": [
      "1198\n",
      "8\n",
      "1024\n",
      "1\n"
     ]
    }
   ],
   "source": [
    "MOD = 1337\n",
    "class Solution:\n",
    "    def superPow(self, a: int, b: List[int]) -> int:\n",
    "        def dfs(i):\n",
    "            if i == -1:\n",
    "                return 1\n",
    "            return quickPow(dfs(i - 1), 10) * quickPow(a, b[i]) % MOD\n",
    "        \n",
    "        def quickPow(x, y):\n",
    "            ans = 1\n",
    "            x %= MOD\n",
    "            while y:\n",
    "                if y & 1:\n",
    "                    ans = ans * x % MOD\n",
    "                x = x * x % MOD\n",
    "                y >>= 1\n",
    "            return ans\n",
    "        \n",
    "        a %= MOD\n",
    "        return dfs(len(b) - 1)\n",
    "\n",
    "x = Solution().superPow(2147483647, [2,0,0])\n",
    "print(x)\n",
    "\n",
    "x = Solution().superPow(2, [3])\n",
    "print(x)\n",
    "\n",
    "x = Solution().superPow(2, [1,0])\n",
    "print(x)\n",
    "\n",
    "x = Solution().superPow(1, [4,3,3,8,5,2])\n",
    "print(x)"
   ]
  },
  {
   "cell_type": "markdown",
   "metadata": {},
   "source": [
    "# 1816. [截断句子](https://leetcode-cn.com/problems/truncate-sentence/)"
   ]
  },
  {
   "cell_type": "code",
   "execution_count": 12,
   "metadata": {},
   "outputs": [
    {
     "name": "stdout",
     "output_type": "stream",
     "text": [
      "chopper is not a tanuki\n",
      "What is the solution\n"
     ]
    }
   ],
   "source": [
    "class Solution:\n",
    "    def truncateSentence(self, s: str, k: int) -> str:\n",
    "        space = [i for i,x in enumerate(s) if x == ' ']\n",
    "        if k <= len(space):\n",
    "            return s[:space[k-1]]\n",
    "        return s\n",
    "    \n",
    "print(Solution().truncateSentence(\"chopper is not a tanuki\", 5))\n",
    "print(Solution().truncateSentence(\"What is the solution to this problem\", 4))\n",
    "            "
   ]
  },
  {
   "cell_type": "markdown",
   "metadata": {},
   "source": [
    "官方例子在我本地比我的还要慢"
   ]
  },
  {
   "cell_type": "code",
   "execution_count": 13,
   "metadata": {},
   "outputs": [
    {
     "name": "stdout",
     "output_type": "stream",
     "text": [
      "chopper is not a tanuki\n",
      "What is the solution\n"
     ]
    }
   ],
   "source": [
    "class Solution:\n",
    "    def truncateSentence(self, s: str, k: int) -> str:\n",
    "        n, c, e = len(s), 0, 0\n",
    "        for i in range(1, n+1):\n",
    "            if i == n or s[i] == ' ':\n",
    "                c += 1\n",
    "                if c == k:\n",
    "                    e = i\n",
    "                    break\n",
    "        return s[:e]\n",
    "    \n",
    "print(Solution().truncateSentence(\"chopper is not a tanuki\", 5))\n",
    "print(Solution().truncateSentence(\"What is the solution to this problem\", 4))\n",
    "            "
   ]
  },
  {
   "cell_type": "markdown",
   "metadata": {},
   "source": [
    "# 1034. [边界着色](https://leetcode-cn.com/problems/coloring-a-border/)"
   ]
  },
  {
   "cell_type": "code",
   "execution_count": 19,
   "metadata": {},
   "outputs": [
    {
     "name": "stdout",
     "output_type": "stream",
     "text": [
      "[[1, 2, 2], [2, 3, 2]]\n",
      "[[1, 3, 3], [2, 3, 3]]\n",
      "[[1, 3, 3], [2, 3, 3]]\n",
      "[[1, 1, 1], [1, 1, 1], [1, 1, 1]]\n",
      "[[2, 2, 2], [2, 1, 2], [2, 2, 2]]\n",
      "[[2, 2, 2], [2, 1, 2], [2, 2, 2]]\n",
      "[[1, 2, 1, 2, 1, 2], [2, 2, 2, 2, 1, 2], [1, 2, 2, 2, 1, 2]]\n",
      "[[1, 1, 1, 1, 1, 2], [1, 2, 1, 1, 1, 2], [1, 1, 1, 1, 1, 2]]\n",
      "[[1, 1, 1, 1, 1, 2], [1, 2, 1, 1, 1, 2], [1, 1, 1, 1, 1, 2]]\n"
     ]
    }
   ],
   "source": [
    "from typing import List\n",
    "class Solution:\n",
    "    def colorBorder(self, grid: List[List[int]], row: int, col: int, color: int) -> List[List[int]]:\n",
    "        self.n = grid[row][col]\n",
    "        self.rn = len(grid)\n",
    "        self.cn = len(grid[0])\n",
    "        self.color = color\n",
    "        self.grid = grid\n",
    "        self.mem = []\n",
    "        self.dfs(row, col)\n",
    "        return self.grid\n",
    "\n",
    "    def dfs(self, row: int, col: int) -> bool:\n",
    "        if row < 0 or col < 0 or row >= self.rn or col >= self.cn:\n",
    "            return True\n",
    "        if (row, col) in self.mem:\n",
    "            return False\n",
    "        if self.grid[row][col] != self.n:\n",
    "            return True\n",
    "        \n",
    "        self.mem.append((row, col))\n",
    "        \n",
    "        up = self.dfs(row - 1, col)\n",
    "        down = self.dfs(row + 1, col) \n",
    "        left = self.dfs(row, col - 1)\n",
    "        right = self.dfs(row, col + 1)\n",
    "        if up or down or left or right:\n",
    "            self.grid[row][col] = self.color\n",
    "        return False\n",
    "            \n",
    "            \n",
    "    \n",
    "print([[1,2,2],[2,3,2]])\n",
    "print(Solution().colorBorder([[1,2,2],[2,3,2]], 0, 1, 3))\n",
    "print([[1,3,3],[2,3,3]])\n",
    "\n",
    "print([[1,1,1],[1,1,1],[1,1,1]])\n",
    "print(Solution().colorBorder([[1,1,1],[1,1,1],[1,1,1]], 1, 1, 2))\n",
    "print([[2,2,2],[2,1,2],[2,2,2]])\n",
    "\n",
    "print([[1,2,1,2,1,2],[2,2,2,2,1,2],[1,2,2,2,1,2]])\n",
    "print(Solution().colorBorder([[1,2,1,2,1,2],[2,2,2,2,1,2],[1,2,2,2,1,2]], 1, 3, 1))\n",
    "print([[1,1,1,1,1,2],[1,2,1,1,1,2],[1,1,1,1,1,2]])\n"
   ]
  },
  {
   "cell_type": "markdown",
   "metadata": {},
   "source": [
    "# 689. [三个无重叠子数组的最大和](https://leetcode-cn.com/problems/maximum-sum-of-3-non-overlapping-subarrays/)"
   ]
  },
  {
   "cell_type": "markdown",
   "metadata": {},
   "source": [
    "给定一个整数数组nums和一个整数k，找到三个长度为k且总和最大的非重叠子数组并返回它们。  \n",
    "\n",
    "以索引列表的形式返回结果，这些索引表示每个间隔的起始位置（0索引）。如果有多个答案，请返回按字典顺序排列的最小答案。  \n",
    "\n",
    "Constraints:\n",
    "\n",
    "1 <= nums.length <= 2 * 104\n",
    "1 <= nums[i] < 216\n",
    "1 <= k <= floor(nums.length / 3)\n"
   ]
  },
  {
   "cell_type": "code",
   "execution_count": 23,
   "metadata": {},
   "outputs": [
    {
     "name": "stdout",
     "output_type": "stream",
     "text": [
      "[3, 5, 8]\n",
      "[0, 3, 5]\n",
      "[0, 2, 4]\n",
      "[0, 1, 2]\n"
     ]
    }
   ],
   "source": [
    "from typing import List\n",
    "class Solution:\n",
    "    def maxSumOfThreeSubarrays(self, nums: List[int], k: int) -> List[int]:\n",
    "        nc = []\n",
    "        for i in range(len(nums) - k + 1):\n",
    "            nc.append(sum(nums[i:i+k]))\n",
    "        maxc = 0\n",
    "        ans = []\n",
    "        for i in range(len(nc)-(2*k)):\n",
    "            for j in range(i+k, len(nc)-k):\n",
    "                for x in range(j+k, len(nc)):\n",
    "                    sc = nc[i] + nc[j] + nc[x]\n",
    "                    if maxc < sc:\n",
    "                        maxc = sc\n",
    "                        ans = [i, j, x]\n",
    "        return ans\n",
    "            \n",
    "print(Solution().maxSumOfThreeSubarrays([1,2,3,4,5,6,7,3,4,12,2], 2))\n",
    "# nums = [1,2,1,2,6,7,5,1], k = 2\n",
    "print(Solution().maxSumOfThreeSubarrays([1,2,1,2,6,7,5,1], 2))\n",
    "# nums = [1,2,1,2,1,2,1,2,1], k = 2\n",
    "print(Solution().maxSumOfThreeSubarrays(nums = [1,2,1,2,1,2,1,2,1], k = 2))\n",
    "print(Solution().maxSumOfThreeSubarrays(nums = [1,2,3], k = 1))"
   ]
  },
  {
   "cell_type": "markdown",
   "metadata": {},
   "source": [
    "暴力穷举超时咯，换个思路"
   ]
  },
  {
   "cell_type": "code",
   "execution_count": 37,
   "metadata": {},
   "outputs": [
    {
     "name": "stdout",
     "output_type": "stream",
     "text": [
      "25\n"
     ]
    }
   ],
   "source": [
    "from typing import List\n",
    "class Solution:\n",
    "    def maxThreeSum(self, nums: List[int]):\n",
    "        m1, m12, m123 = 0,0,0\n",
    "        for i in range(len(nums)-2):\n",
    "            i1 = nums[i]\n",
    "            i2 = nums[i+1]\n",
    "            i3 = nums[i+2]\n",
    "            m1 = max(i1, m1)\n",
    "            m12 = max(m1+i2, m12)\n",
    "            m123 = max(m12+i3, m123)\n",
    "        return m123\n",
    "            \n",
    "print(Solution().maxThreeSum([1,2,3,4,5,6,7,3,4,12,2]))"
   ]
  },
  {
   "cell_type": "code",
   "execution_count": 33,
   "metadata": {},
   "outputs": [
    {
     "name": "stdout",
     "output_type": "stream",
     "text": [
      "[5, 8]\n"
     ]
    }
   ],
   "source": [
    "from typing import List\n",
    "class Solution:\n",
    "    def maxSumOfTwoSubarrays(self, nums: List[int], k: int) -> List[int]:\n",
    "        # maxSum1, maxSum12, maxi1, maxi12 = 0, 0, 0, []\n",
    "        # for i in range(len(nums) - k - 1):\n",
    "        #     sum1 = sum(nums[i : i + k])\n",
    "        #     sum2 = sum(nums[i + k : i + 2 * k])\n",
    "        #     if maxSum1 < sum1 :\n",
    "        #         maxSum1 = sum1\n",
    "        #         maxi1 = i\n",
    "        #     if maxSum12 < maxSum1 + sum2 :\n",
    "        #         maxSum12 = maxSum1 + sum2\n",
    "        #         maxi12 = [maxi1, i+k]\n",
    "        maxSum1, maxSum12, maxi1, maxi12 = 0, 0, 0, []\n",
    "        sum1, sum2 = 0, 0\n",
    "        for i in range(k, len(nums)):\n",
    "            sum1 += nums[i - k]\n",
    "            sum2 += nums[i]\n",
    "            if i >= 2*k-1:\n",
    "                if maxSum1 < sum1:\n",
    "                    maxSum1 = sum1\n",
    "                    maxi1 = i - 2 * k + 1\n",
    "                if maxSum12 < maxSum1 + sum2 :\n",
    "                    maxSum12 = maxSum1 + sum2\n",
    "                    maxi12 = [maxi1, i - k + 1]\n",
    "                sum1 -= nums[i - 2 * k + 1]\n",
    "                sum2 -= nums[i - k + 1]\n",
    "        return maxi12\n",
    "            \n",
    "print(Solution().maxSumOfTwoSubarrays([1,2,3,4,5,6,7,3,4,12,2], 2))\n",
    "# print(Solution().maxSumOfTwoSubarrays([1,2,1,2,6,7,5,1], 2))\n",
    "# print(Solution().maxSumOfTwoSubarrays(nums = [1,2,1,2,1,2,1,2,1], k = 2))\n",
    "# print(Solution().maxSumOfTwoSubarrays(nums = [1,2,3], k = 1))"
   ]
  },
  {
   "cell_type": "code",
   "execution_count": 35,
   "metadata": {},
   "outputs": [
    {
     "name": "stdout",
     "output_type": "stream",
     "text": [
      "[3, 5, 8]\n",
      "[0, 3, 5]\n",
      "[0, 2, 4]\n",
      "[0, 1, 2]\n"
     ]
    }
   ],
   "source": [
    "from typing import List\n",
    "class Solution:\n",
    "    def maxSumOfThreeSubarrays(self, nums: List[int], k: int) -> List[int]:\n",
    "        maxSum1, maxSum12, maxSum123, maxi1, maxi12, maxi123 = 0, 0, 0, 0, [], []\n",
    "        sum1, sum2, sum3 = 0, 0, 0\n",
    "        for i in range(2 * k, len(nums)):\n",
    "            sum1 += nums[i - 2 * k]\n",
    "            sum2 += nums[i - k]\n",
    "            sum3 += nums[i]\n",
    "            if i >= 3 * k - 1:\n",
    "                if maxSum1 < sum1:\n",
    "                    maxSum1 = sum1\n",
    "                    maxi1 = i - 3 * k + 1\n",
    "                if maxSum12 < maxSum1 + sum2 :\n",
    "                    maxSum12 = maxSum1 + sum2\n",
    "                    maxi12 = [maxi1, i - 2 * k + 1]\n",
    "                if maxSum123 < maxSum12 + sum3 :\n",
    "                    maxSum123 = maxSum12 + sum3\n",
    "                    maxi123 = [maxi12[0], maxi12[1], i - k + 1]\n",
    "                sum1 -= nums[i - 3 * k + 1]\n",
    "                sum2 -= nums[i - 2 * k + 1]\n",
    "                sum3 -= nums[i - k + 1]\n",
    "        return maxi123\n",
    "            \n",
    "print(Solution().maxSumOfThreeSubarrays([1,2,3,4,5,6,7,3,4,12,2], 2))\n",
    "print(Solution().maxSumOfThreeSubarrays([1,2,1,2,6,7,5,1], 2))\n",
    "print(Solution().maxSumOfThreeSubarrays(nums = [1,2,1,2,1,2,1,2,1], k = 2))\n",
    "print(Solution().maxSumOfThreeSubarrays(nums = [1,2,3], k = 1))"
   ]
  },
  {
   "cell_type": "markdown",
   "metadata": {},
   "source": [
    "动态转移方程看不懂\n"
   ]
  }
 ],
 "metadata": {
  "interpreter": {
   "hash": "3a57da47d7432be2ebf54640945d9cc60b99e6d1ae25722168e2af822ccabf93"
  },
  "kernelspec": {
   "display_name": "Python 3.8.10 64-bit ('.venv': venv)",
   "language": "python",
   "name": "python3"
  },
  "language_info": {
   "codemirror_mode": {
    "name": "ipython",
    "version": 3
   },
   "file_extension": ".py",
   "mimetype": "text/x-python",
   "name": "python",
   "nbconvert_exporter": "python",
   "pygments_lexer": "ipython3",
   "version": "3.8.10"
  },
  "orig_nbformat": 4
 },
 "nbformat": 4,
 "nbformat_minor": 2
}
