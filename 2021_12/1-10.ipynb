{
 "cells": [
  {
   "cell_type": "markdown",
   "metadata": {},
   "source": [
    "# 1446. [连续字符](https://leetcode-cn.com/problems/consecutive-characters/)"
   ]
  },
  {
   "cell_type": "code",
   "execution_count": null,
   "metadata": {},
   "outputs": [
    {
     "name": "stdout",
     "output_type": "stream",
     "text": [
      "4\n",
      "2\n",
      "5\n",
      "5\n",
      "11\n",
      "1\n"
     ]
    }
   ],
   "source": [
    "from collections import Counter\n",
    "class Solution:\n",
    "    def maxPower(self, s: str) -> int:\n",
    "        arr = [1]*len(s)\n",
    "        pre = s[0]\n",
    "        for i in range(1, len(s)):\n",
    "            if pre == s[i]:\n",
    "                arr[i] += arr[i-1]\n",
    "            pre = s[i]\n",
    "        return max(arr)\n",
    "\n",
    "print(Solution().maxPower('asdervsddddewfawqdasvwds'))\n",
    "# leetcode\n",
    "print(Solution().maxPower('leetcode'))\n",
    "# abbcccddddeeeeedcba\n",
    "print(Solution().maxPower('abbcccddddeeeeedcba'))\n",
    "# triplepillooooow\n",
    "print(Solution().maxPower('triplepillooooow'))\n",
    "# hooraaaaaaaaaaay\n",
    "print(Solution().maxPower('hooraaaaaaaaaaay'))\n",
    "# tourist\n",
    "print(Solution().maxPower('tourist'))"
   ]
  },
  {
   "cell_type": "code",
   "execution_count": null,
   "metadata": {},
   "outputs": [
    {
     "name": "stdout",
     "output_type": "stream",
     "text": [
      "4\n",
      "2\n",
      "5\n",
      "5\n",
      "11\n",
      "1\n"
     ]
    }
   ],
   "source": [
    "from collections import Counter\n",
    "class Solution:\n",
    "    def maxPower(self, s: str) -> int:\n",
    "        ans, c = 1, 1\n",
    "        for i in range(1, len(s)):\n",
    "            if s[i] == s[i-1]:\n",
    "                c += 1\n",
    "                ans = max(ans, c)\n",
    "            else:\n",
    "                c = 1\n",
    "        return ans\n",
    "\n",
    "print(Solution().maxPower('asdervsddddewfawqdasvwds'))\n",
    "# leetcode\n",
    "print(Solution().maxPower('leetcode'))\n",
    "# abbcccddddeeeeedcba\n",
    "print(Solution().maxPower('abbcccddddeeeeedcba'))\n",
    "# triplepillooooow\n",
    "print(Solution().maxPower('triplepillooooow'))\n",
    "# hooraaaaaaaaaaay\n",
    "print(Solution().maxPower('hooraaaaaaaaaaay'))\n",
    "# tourist\n",
    "print(Solution().maxPower('tourist'))"
   ]
  },
  {
   "cell_type": "markdown",
   "metadata": {},
   "source": [
    "# 506. [相对名次](https://leetcode-cn.com/problems/relative-ranks/)"
   ]
  },
  {
   "cell_type": "code",
   "execution_count": null,
   "metadata": {},
   "outputs": [
    {
     "name": "stdout",
     "output_type": "stream",
     "text": [
      "['Gold Medal', 'Silver Medal', 'Bronze Medal', '4', '5']\n",
      "['Gold Medal', '5', 'Bronze Medal', 'Silver Medal', '4']\n",
      "['Silver Medal', 'Bronze Medal', '4', 'Gold Medal']\n"
     ]
    }
   ],
   "source": [
    "from typing import List\n",
    "from queue import PriorityQueue\n",
    "\n",
    "class Solution:\n",
    "    def findRelativeRanks(self, score: List[int]) -> List[str]:\n",
    "        f,s,t = \"Gold Medal\",\"Silver Medal\",\"Bronze Medal\"\n",
    "        q = PriorityQueue()\n",
    "        for i, v in enumerate(score):\n",
    "            q.put([-v,i])\n",
    "        \n",
    "        ans = [\"\"]*len(score)\n",
    "        \n",
    "\n",
    "        if not q.empty():\n",
    "            ans[q.get()[1]] = \"Gold Medal\"\n",
    "        if not q.empty():\n",
    "            ans[q.get()[1]] = \"Silver Medal\"\n",
    "        if not q.empty():\n",
    "            ans[q.get()[1]] = \"Bronze Medal\"\n",
    "\n",
    "        for i in range(4, len(score)+1):\n",
    "            if not q.empty():\n",
    "                ans[q.get()[1]] = str(i)\n",
    "        return ans\n",
    "print(Solution().findRelativeRanks([5,4,3,2,1]))\n",
    "print(Solution().findRelativeRanks([10,3,8,9,4]))\n",
    "print(Solution().findRelativeRanks([3,2,1,4]))\n"
   ]
  },
  {
   "cell_type": "code",
   "execution_count": null,
   "metadata": {},
   "outputs": [
    {
     "name": "stdout",
     "output_type": "stream",
     "text": [
      "['Gold Medal', 'Silver Medal', 'Bronze Medal', '4', '5']\n",
      "['Gold Medal', '5', 'Bronze Medal', 'Silver Medal', '4']\n",
      "['Silver Medal', 'Bronze Medal', '4', 'Gold Medal']\n"
     ]
    }
   ],
   "source": [
    "from typing import List\n",
    "from queue import PriorityQueue\n",
    "\n",
    "class Solution:\n",
    "    gold = (\"Gold Medal\",\"Silver Medal\",\"Bronze Medal\")\n",
    "    \n",
    "    def findRelativeRanks(self, score: List[int]) -> List[str]:\n",
    "        ans = [\"\"]*len(score)\n",
    "        map = sorted(enumerate(score), key=lambda x:-x[1])\n",
    "        for i, (idx,_) in enumerate(map):\n",
    "            ans[idx] = self.gold[i] if i<3 else str(i + 1)\n",
    "        return ans\n",
    "print(Solution().findRelativeRanks([5,4,3,2,1]))\n",
    "print(Solution().findRelativeRanks([10,3,8,9,4]))\n",
    "print(Solution().findRelativeRanks([3,2,1,4]))\n"
   ]
  },
  {
   "cell_type": "markdown",
   "metadata": {},
   "source": [
    "# 1005. [K 次取反后最大化的数组和](https://leetcode-cn.com/problems/maximize-sum-of-array-after-k-negations/)"
   ]
  },
  {
   "cell_type": "code",
   "execution_count": 19,
   "metadata": {},
   "outputs": [
    {
     "name": "stdout",
     "output_type": "stream",
     "text": [
      "5\n",
      "6\n",
      "13\n",
      "20\n"
     ]
    }
   ],
   "source": [
    "from typing import List\n",
    "class Solution:\n",
    "    def largestSumAfterKNegations(self, nums: List[int], k: int) -> int:\n",
    "        count = 0\n",
    "        nums.sort()\n",
    "        mix = abs(nums[0])\n",
    "        mif = True\n",
    "        for n in nums:\n",
    "            if k > 0 and n < 0:\n",
    "                k -= 1\n",
    "                n = -n\n",
    "            count += n\n",
    "            if mix > abs(n):\n",
    "                mix = abs(n)\n",
    "                mif = False if n < 0 else True\n",
    "        if k > 0 and k % 2 != 0:\n",
    "            count += -2*mix if mif else 2*mix\n",
    "        return count\n",
    "print(Solution().largestSumAfterKNegations([4,3,2], 1))\n",
    "print(Solution().largestSumAfterKNegations([3,-1,0,2], 3))\n",
    "print(Solution().largestSumAfterKNegations([2,-3,-1,5,-4], 2))\n",
    "print(Solution().largestSumAfterKNegations([5,6,9,-3,3], 2))\n"
   ]
  },
  {
   "cell_type": "markdown",
   "metadata": {},
   "source": [
    "# 383. [赎金信](https://leetcode-cn.com/problems/ransom-note/)"
   ]
  },
  {
   "cell_type": "code",
   "execution_count": 3,
   "metadata": {},
   "outputs": [
    {
     "name": "stdout",
     "output_type": "stream",
     "text": [
      "True\n",
      "False\n",
      "False\n"
     ]
    }
   ],
   "source": [
    "class Solution:\n",
    "    def canConstruct(self, ransomNote: str, magazine: str) -> bool:\n",
    "        lr = len(ransomNote)\n",
    "        lm = len(magazine)\n",
    "        if lr > lm:\n",
    "            return False\n",
    "        map = [0]*26\n",
    "        for i in range(lm):\n",
    "            map[ord(magazine[i]) - 97] += 1\n",
    "            if i < lr:\n",
    "                map[ord(ransomNote[i]) - 97] -= 1\n",
    "        if [i for m in map if m < 0]:\n",
    "            return False\n",
    "        return True\n",
    "print(Solution().canConstruct(\"aa\", \"aab\"))\n",
    "print(Solution().canConstruct(\"aa\", \"ab\"))\n",
    "print(Solution().canConstruct(\"a\", \"b\"))\n",
    "\n"
   ]
  },
  {
   "cell_type": "markdown",
   "metadata": {},
   "source": [
    "Counter计数器的神奇用法：counter相减, 相同的key的value相减，只保留正值得value  \n",
    "https://www.cnblogs.com/nisen/p/6052895.html"
   ]
  },
  {
   "cell_type": "code",
   "execution_count": 5,
   "metadata": {},
   "outputs": [
    {
     "name": "stdout",
     "output_type": "stream",
     "text": [
      "Counter()\n",
      "True\n",
      "Counter({'a': 1})\n",
      "False\n",
      "Counter({'a': 1})\n",
      "False\n"
     ]
    }
   ],
   "source": [
    "from collections import Counter\n",
    "class Solution:\n",
    "    def canConstruct(self, ransomNote: str, magazine: str) -> bool:\n",
    "        if len(ransomNote) > len(magazine):\n",
    "            return False\n",
    "        print(Counter(ransomNote) - Counter(magazine))\n",
    "        return not Counter(ransomNote) - Counter(magazine)\n",
    "print(Solution().canConstruct(\"aa\", \"aab\"))\n",
    "print(Solution().canConstruct(\"aa\", \"ab\"))\n",
    "print(Solution().canConstruct(\"a\", \"b\"))\n",
    "\n"
   ]
  },
  {
   "cell_type": "markdown",
   "metadata": {},
   "source": [
    "一次循环就能解决的方法"
   ]
  },
  {
   "cell_type": "code",
   "execution_count": 8,
   "metadata": {},
   "outputs": [
    {
     "name": "stdout",
     "output_type": "stream",
     "text": [
      "True\n",
      "False\n",
      "False\n"
     ]
    }
   ],
   "source": [
    "from collections import Counter\n",
    "class Solution:\n",
    "    def canConstruct(self, ransomNote: str, magazine: str) -> bool:\n",
    "        if len(ransomNote) > len(magazine):\n",
    "            return False\n",
    "        for m in ransomNote:\n",
    "            if m not in magazine:\n",
    "                return False\n",
    "            magazine = magazine.replace(m, '', 1)\n",
    "        return True\n",
    "print(Solution().canConstruct(\"aa\", \"aab\"))\n",
    "print(Solution().canConstruct(\"aa\", \"ab\"))\n",
    "print(Solution().canConstruct(\"a\", \"b\"))\n",
    "\n"
   ]
  }
 ],
 "metadata": {
  "interpreter": {
   "hash": "3a57da47d7432be2ebf54640945d9cc60b99e6d1ae25722168e2af822ccabf93"
  },
  "kernelspec": {
   "display_name": "Python 3.8.10 64-bit ('.venv': venv)",
   "language": "python",
   "name": "python3"
  },
  "language_info": {
   "codemirror_mode": {
    "name": "ipython",
    "version": 3
   },
   "file_extension": ".py",
   "mimetype": "text/x-python",
   "name": "python",
   "nbconvert_exporter": "python",
   "pygments_lexer": "ipython3",
   "version": "3.8.0"
  },
  "orig_nbformat": 4
 },
 "nbformat": 4,
 "nbformat_minor": 2
}
