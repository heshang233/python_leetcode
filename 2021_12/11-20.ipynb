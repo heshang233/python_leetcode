{
 "cells": [
  {
   "cell_type": "markdown",
   "metadata": {},
   "source": [
    "# 911. [在线选举](https://leetcode-cn.com/problems/online-election/)"
   ]
  },
  {
   "cell_type": "code",
   "execution_count": 10,
   "metadata": {},
   "outputs": [
    {
     "name": "stdout",
     "output_type": "stream",
     "text": [
      "0\n",
      "0\n",
      "1\n",
      "1\n",
      "1\n",
      "0\n"
     ]
    }
   ],
   "source": [
    "from typing import List\n",
    "from queue import PriorityQueue\n",
    "class TopVotedCandidate:\n",
    "\n",
    "    def __init__(self, persons: List[int], times: List[int]):\n",
    "        self.persons = persons\n",
    "        self.times = times\n",
    "        self.votes = [0] * len(persons)\n",
    "        maxc = 0\n",
    "        maxv = 0\n",
    "        self.result = []\n",
    "        for i in persons:\n",
    "            self.votes[i] += 1\n",
    "            if maxc <= self.votes[i]:\n",
    "                maxc = self.votes[i]\n",
    "                maxv = i\n",
    "            self.result.append(maxv)\n",
    "\n",
    "\n",
    "\n",
    "\n",
    "    def q(self, t: int) -> int:\n",
    "\n",
    "        left, right = 0, len(self.times)\n",
    "        while left < right:\n",
    "            mid = (left + right) // 2\n",
    "            if self.times[mid] <= t:\n",
    "                left = mid + 1\n",
    "            else:\n",
    "                right = mid\n",
    "        # print(left, right)\n",
    "        return self.result[left-1]\n",
    "\n",
    "\n",
    "\n",
    "# Your TopVotedCandidate object will be instantiated and called as such:\n",
    "# obj = TopVotedCandidate(persons, times)\n",
    "# param_1 = obj.q(t)\n",
    "# obj = TopVotedCandidate([0, 1, 1, 0, 0, 1, 0], [0, 5, 10, 15, 20, 25, 30])\n",
    "# print(obj.q(3))\n",
    "# print(obj.q(12))\n",
    "# print(obj.q(25))\n",
    "# print(obj.q(15))\n",
    "# print(obj.q(24))\n",
    "# print(obj.q(8))\n",
    "\n",
    "# [0,1,0,1,1],[24,29,31,76,81]\n",
    "\n",
    "obj = TopVotedCandidate([0,1,0,1,1],[24,29,31,76,81])\n",
    "print(obj.q(28))\n",
    "print(obj.q(24))\n",
    "print(obj.q(29))\n",
    "print(obj.q(77))\n",
    "print(obj.q(30))\n",
    "print(obj.q(25))\n"
   ]
  },
  {
   "cell_type": "markdown",
   "metadata": {},
   "source": [
    "# 807. [保持城市天际线](https://leetcode-cn.com/problems/max-increase-to-keep-city-skyline/)"
   ]
  },
  {
   "cell_type": "code",
   "execution_count": 8,
   "metadata": {},
   "outputs": [
    {
     "data": {
      "text/plain": [
       "35"
      ]
     },
     "execution_count": 8,
     "metadata": {},
     "output_type": "execute_result"
    }
   ],
   "source": [
    "from typing import List\n",
    "class Solution:\n",
    "    def maxIncreaseKeepingSkyline(self, grid: List[List[int]]) -> int:\n",
    "        n = len(grid)\n",
    "        maxc = [0] * n\n",
    "        maxr = [0] * n\n",
    "        for i in range(n):\n",
    "            for j in range(n):\n",
    "                x = grid[i][j]\n",
    "                maxc[j] = max(x, maxc[j])\n",
    "                maxr[i] = max(x, maxr[i])\n",
    "        sum = 0\n",
    "        for i in range(n):\n",
    "            for j in range(n):\n",
    "                x = grid[i][j]\n",
    "                sum += min(maxc[j], maxr[i]) - x\n",
    "        return sum\n",
    "# grid = [[3,0,8,4],[2,4,5,7],[9,2,6,3],[0,3,1,0]]\n",
    "Solution().maxIncreaseKeepingSkyline(grid = [[3,0,8,4],[2,4,5,7],[9,2,6,3],[0,3,1,0]])\n",
    "\n"
   ]
  }
 ],
 "metadata": {
  "interpreter": {
   "hash": "7e39ddccd74c9392b8bafa3abb5bd496fecd707f9b16768d04c49cfb73305cd6"
  },
  "kernelspec": {
   "display_name": "Python 3.8.0 64-bit ('.venv': venv)",
   "language": "python",
   "name": "python3"
  },
  "language_info": {
   "codemirror_mode": {
    "name": "ipython",
    "version": 3
   },
   "file_extension": ".py",
   "mimetype": "text/x-python",
   "name": "python",
   "nbconvert_exporter": "python",
   "pygments_lexer": "ipython3",
   "version": "3.8.10"
  },
  "orig_nbformat": 4
 },
 "nbformat": 4,
 "nbformat_minor": 2
}
