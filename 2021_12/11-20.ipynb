{
 "cells": [
  {
   "cell_type": "markdown",
   "metadata": {},
   "source": [
    "# 911. [在线选举](https://leetcode-cn.com/problems/online-election/)"
   ]
  },
  {
   "cell_type": "code",
   "execution_count": 10,
   "metadata": {},
   "outputs": [
    {
     "name": "stdout",
     "output_type": "stream",
     "text": [
      "0\n",
      "0\n",
      "1\n",
      "1\n",
      "1\n",
      "0\n"
     ]
    }
   ],
   "source": [
    "from typing import List\n",
    "from queue import PriorityQueue\n",
    "class TopVotedCandidate:\n",
    "\n",
    "    def __init__(self, persons: List[int], times: List[int]):\n",
    "        self.persons = persons\n",
    "        self.times = times\n",
    "        self.votes = [0] * len(persons)\n",
    "        maxc = 0\n",
    "        maxv = 0\n",
    "        self.result = []\n",
    "        for i in persons:\n",
    "            self.votes[i] += 1\n",
    "            if maxc <= self.votes[i]:\n",
    "                maxc = self.votes[i]\n",
    "                maxv = i\n",
    "            self.result.append(maxv)\n",
    "\n",
    "\n",
    "\n",
    "\n",
    "    def q(self, t: int) -> int:\n",
    "\n",
    "        left, right = 0, len(self.times)\n",
    "        while left < right:\n",
    "            mid = (left + right) // 2\n",
    "            if self.times[mid] <= t:\n",
    "                left = mid + 1\n",
    "            else:\n",
    "                right = mid\n",
    "        # print(left, right)\n",
    "        return self.result[left-1]\n",
    "\n",
    "\n",
    "\n",
    "# Your TopVotedCandidate object will be instantiated and called as such:\n",
    "# obj = TopVotedCandidate(persons, times)\n",
    "# param_1 = obj.q(t)\n",
    "# obj = TopVotedCandidate([0, 1, 1, 0, 0, 1, 0], [0, 5, 10, 15, 20, 25, 30])\n",
    "# print(obj.q(3))\n",
    "# print(obj.q(12))\n",
    "# print(obj.q(25))\n",
    "# print(obj.q(15))\n",
    "# print(obj.q(24))\n",
    "# print(obj.q(8))\n",
    "\n",
    "# [0,1,0,1,1],[24,29,31,76,81]\n",
    "\n",
    "obj = TopVotedCandidate([0,1,0,1,1],[24,29,31,76,81])\n",
    "print(obj.q(28))\n",
    "print(obj.q(24))\n",
    "print(obj.q(29))\n",
    "print(obj.q(77))\n",
    "print(obj.q(30))\n",
    "print(obj.q(25))\n"
   ]
  },
  {
   "cell_type": "markdown",
   "metadata": {},
   "source": [
    "# 807. [保持城市天际线](https://leetcode-cn.com/problems/max-increase-to-keep-city-skyline/)"
   ]
  },
  {
   "cell_type": "code",
   "execution_count": 8,
   "metadata": {},
   "outputs": [
    {
     "data": {
      "text/plain": [
       "35"
      ]
     },
     "execution_count": 8,
     "metadata": {},
     "output_type": "execute_result"
    }
   ],
   "source": [
    "from typing import List\n",
    "class Solution:\n",
    "    def maxIncreaseKeepingSkyline(self, grid: List[List[int]]) -> int:\n",
    "        n = len(grid)\n",
    "        maxc = [0] * n\n",
    "        maxr = [0] * n\n",
    "        for i in range(n):\n",
    "            for j in range(n):\n",
    "                x = grid[i][j]\n",
    "                maxc[j] = max(x, maxc[j])\n",
    "                maxr[i] = max(x, maxr[i])\n",
    "        sum = 0\n",
    "        for i in range(n):\n",
    "            for j in range(n):\n",
    "                x = grid[i][j]\n",
    "                sum += min(maxc[j], maxr[i]) - x\n",
    "        return sum\n",
    "# grid = [[3,0,8,4],[2,4,5,7],[9,2,6,3],[0,3,1,0]]\n",
    "Solution().maxIncreaseKeepingSkyline(grid = [[3,0,8,4],[2,4,5,7],[9,2,6,3],[0,3,1,0]])\n",
    "\n"
   ]
  },
  {
   "cell_type": "markdown",
   "metadata": {},
   "source": [
    "# 630. [课程表 III](https://leetcode-cn.com/problems/course-schedule-iii/)"
   ]
  },
  {
   "cell_type": "code",
   "execution_count": 5,
   "metadata": {},
   "outputs": [
    {
     "data": {
      "text/plain": [
       "3"
      ]
     },
     "execution_count": 5,
     "metadata": {},
     "output_type": "execute_result"
    }
   ],
   "source": [
    "from heapq import *\n",
    "from typing import List\n",
    "class Node:\n",
    "    def __init__(self, i, time):\n",
    "        self.i = i\n",
    "        self.time = time\n",
    "    \n",
    "    def __lt__(self, other):\n",
    "        return self.time > other.time\n",
    "\n",
    "class Solution:\n",
    "\n",
    "    def scheduleCourse(self, courses: List[List[int]]) -> int:\n",
    "        courses = sorted(courses, key = lambda x : x[1], reverse = False)\n",
    "        maxtime = 0\n",
    "        ans = 0\n",
    "        q = []\n",
    "        for i in range(len(courses)):\n",
    "            heappush(q, Node(i, courses[i][0]))\n",
    "            if maxtime + courses[i][0] <= courses[i][1]:\n",
    "                maxtime += courses[i][0]\n",
    "                ans += 1\n",
    "            else:\n",
    "                n = heappop(q)\n",
    "                if n.i != i:\n",
    "                    maxtime -= courses[n.i][0]\n",
    "                    maxtime += courses[i][0]\n",
    "        return ans\n",
    "\n",
    "Solution().scheduleCourse(courses = [[100, 200], [200, 1300], [1000, 1250], [2000, 3200]])"
   ]
  },
  {
   "cell_type": "code",
   "execution_count": 8,
   "metadata": {},
   "outputs": [
    {
     "data": {
      "text/plain": [
       "3"
      ]
     },
     "execution_count": 8,
     "metadata": {},
     "output_type": "execute_result"
    }
   ],
   "source": [
    "from heapq import *\n",
    "from typing import List\n",
    "class Solution:\n",
    "\n",
    "    def scheduleCourse(self, courses: List[List[int]]) -> int:\n",
    "        # courses = sorted(courses, key = lambda x : x[1], reverse = False)\n",
    "        courses.sort(key=lambda x : x[1])\n",
    "        maxtime = 0\n",
    "        q = []\n",
    "        for ti, tl in courses:\n",
    "            \n",
    "            if maxtime + ti <= tl:\n",
    "                maxtime += ti\n",
    "                heappush(q, -ti)\n",
    "            elif q and -q[0] > ti:\n",
    "                maxtime -= -q[0]\n",
    "                heappop(q)\n",
    "                heappush(q, -ti)\n",
    "        return len(q)\n",
    "\n",
    "Solution().scheduleCourse(courses = [[100, 200], [200, 1300], [1000, 1250], [2000, 3200]])"
   ]
  },
  {
   "cell_type": "markdown",
   "metadata": {},
   "source": [
    "# 851. [喧闹和富有](https://leetcode-cn.com/problems/loud-and-rich/)"
   ]
  },
  {
   "cell_type": "code",
   "execution_count": null,
   "metadata": {},
   "outputs": [],
   "source": [
    "# 拓扑排序\n",
    "richer = [[1,0],[2,1],[3,1],[3,7],[4,3],[5,3],[6,3]]\n",
    "quiet = [3,2,5,4,6,1,7,0]\n"
   ]
  },
  {
   "cell_type": "code",
   "execution_count": 21,
   "metadata": {},
   "outputs": [
    {
     "data": {
      "text/plain": [
       "[5, 5, 2, 5, 4, 5, 6, 7]"
      ]
     },
     "execution_count": 21,
     "metadata": {},
     "output_type": "execute_result"
    }
   ],
   "source": [
    "from collections import defaultdict\n",
    "from typing import List\n",
    "from functools import lru_cache\n",
    "class Solution:\n",
    "    def loudAndRich(self, richer: List[List[int]], quiet: List[int]) -> List[int]:\n",
    "        \n",
    "        graph = defaultdict(list)\n",
    "        for u,v in richer:\n",
    "            graph[v].append(u)\n",
    "        \n",
    "        self.quiet = quiet\n",
    "        self.graph = graph\n",
    "\n",
    "        ans = []\n",
    "        qs = [0]*len(quiet)\n",
    "        for i,v in enumerate(quiet):\n",
    "            qs[v] = i\n",
    "        for i,v in enumerate(quiet):\n",
    "            minq = self.dfs(i)\n",
    "            ans.append(qs[minq])\n",
    "        return ans\n",
    "\n",
    "    @lru_cache\n",
    "    def dfs(self, i) -> int:\n",
    "        minq = self.quiet[i]\n",
    "        if self.graph[i]:\n",
    "            for g in self.graph[i]:\n",
    "                ming = self.dfs(g)\n",
    "                if minq > ming:\n",
    "                    minq = ming\n",
    "        return minq\n",
    "        \n",
    "Solution().loudAndRich(richer = [[1,0],[2,1],[3,1],[3,7],[4,3],[5,3],[6,3]], quiet = [3,2,5,4,6,1,7,0])"
   ]
  },
  {
   "cell_type": "markdown",
   "metadata": {},
   "source": [
    "超时 哎哟"
   ]
  },
  {
   "cell_type": "code",
   "execution_count": 22,
   "metadata": {},
   "outputs": [
    {
     "data": {
      "text/plain": [
       "[5, 5, 2, 5, 4, 5, 6, 7]"
      ]
     },
     "execution_count": 22,
     "metadata": {},
     "output_type": "execute_result"
    }
   ],
   "source": [
    "from collections import defaultdict\n",
    "from typing import List\n",
    "class Solution:\n",
    "    def loudAndRich(self, richer: List[List[int]], quiet: List[int]) -> List[int]:\n",
    "        \n",
    "        graph = defaultdict(list)\n",
    "        for u,v in richer:\n",
    "            graph[v].append(u)\n",
    "        \n",
    "        self.quiet = quiet\n",
    "        self.graph = graph\n",
    "        self.ans = [-1] * len(quiet)\n",
    "        for i in range(len(quiet)):\n",
    "            self.dfs(i)\n",
    "        return self.ans\n",
    "\n",
    "\n",
    "    def dfs(self, i):\n",
    "        if self.ans[i] != -1:\n",
    "            return\n",
    "        self.ans[i] = i\n",
    "        if self.graph[i]:\n",
    "            for g in self.graph[i]:\n",
    "                self.dfs(g)\n",
    "                if self.quiet[self.ans[i]] > self.quiet[self.ans[g]]:\n",
    "                    self.ans[i] = self.ans[g]\n",
    "        \n",
    "Solution().loudAndRich(richer = [[1,0],[2,1],[3,1],[3,7],[4,3],[5,3],[6,3]], quiet = [3,2,5,4,6,1,7,0])"
   ]
  },
  {
   "cell_type": "markdown",
   "metadata": {},
   "source": [
    "# 1610. [可见点的最大数目](https://leetcode-cn.com/problems/maximum-number-of-visible-points/)\n",
    "\n",
    "题目太难了 涉及数学知识，cv了"
   ]
  }
 ],
 "metadata": {
  "interpreter": {
   "hash": "7e39ddccd74c9392b8bafa3abb5bd496fecd707f9b16768d04c49cfb73305cd6"
  },
  "kernelspec": {
   "display_name": "Python 3.8.0 64-bit ('.venv': venv)",
   "language": "python",
   "name": "python3"
  },
  "language_info": {
   "codemirror_mode": {
    "name": "ipython",
    "version": 3
   },
   "file_extension": ".py",
   "mimetype": "text/x-python",
   "name": "python",
   "nbconvert_exporter": "python",
   "pygments_lexer": "ipython3",
   "version": "3.8.10"
  },
  "orig_nbformat": 4
 },
 "nbformat": 4,
 "nbformat_minor": 2
}
