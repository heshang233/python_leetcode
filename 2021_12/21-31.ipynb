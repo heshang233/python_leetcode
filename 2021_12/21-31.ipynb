{
 "cells": [
  {
   "cell_type": "markdown",
   "metadata": {},
   "source": [
    "# 686. [重复叠加字符串匹配](https://leetcode-cn.com/problems/repeated-string-match/)"
   ]
  },
  {
   "cell_type": "markdown",
   "metadata": {},
   "source": [
    "## 字符串匹配算法"
   ]
  },
  {
   "cell_type": "markdown",
   "metadata": {},
   "source": [
    "### 朴素算法\n",
    "朴素的字符串匹配算法又称为暴力匹配算法（Brute Force Algorithm），它的主要特点是：\n",
    "- 没有预处理阶段；\n",
    "- 滑动窗口总是后移 1 位；\n",
    "- 对模式中的字符的比较顺序不限定，可以从前到后，也可以从后到前；\n",
    "- 匹配阶段需要 O((n - m + 1)m) 的时间复杂度；\n",
    "- 需要 2n 次的字符比较；\n",
    "\n",
    "朴素算法有两层循环，外层循环执行bn-an+1次，内层循环执行an次，其时间复杂度为O((bn-an+1)*an)"
   ]
  },
  {
   "cell_type": "code",
   "execution_count": 13,
   "metadata": {},
   "outputs": [
    {
     "name": "stdout",
     "output_type": "stream",
     "text": [
      "3\n"
     ]
    }
   ],
   "source": [
    "class Solution:\n",
    "    def search(self, a: str, b: str):\n",
    "        an = len(a)\n",
    "        bn = len(b)\n",
    "        for i in range(bn - an + 1):\n",
    "            for j in range(an):\n",
    "                if b[i+j] != a[j]:\n",
    "                    break\n",
    "            if j == an - 1:\n",
    "                print(i)\n",
    "Solution().search('abc', 'eadabcsde')\n",
    "        "
   ]
  },
  {
   "cell_type": "markdown",
   "metadata": {},
   "source": [
    "### Rabin-Karp算法\n",
    "参考链接：https://www.jianshu.com/p/24895aca0459"
   ]
  },
  {
   "cell_type": "code",
   "execution_count": 35,
   "metadata": {},
   "outputs": [
    {
     "name": "stdout",
     "output_type": "stream",
     "text": [
      "6385249 7233902\n",
      "65536\n",
      "3 6385249\n",
      "3\n"
     ]
    }
   ],
   "source": [
    "class Solution:\n",
    "    def search(self, a: str, b: str):\n",
    "        ahash = self.hashn(a, len(a))\n",
    "        bhash = self.hashn(b, len(a))\n",
    "        print(ahash, bhash)\n",
    "        if ahash != bhash:\n",
    "            RM = 1\n",
    "            for i in range(len(a)-1):\n",
    "                # 说是要个随即素数，我这随便网上找了个大素数\n",
    "                RM = (RM*256) % 1818972509 \n",
    "            print(RM)\n",
    "            for j in range(len(a), len(b)):\n",
    "                bhash = ((bhash - RM * ord(b[j - len(a)]) + 1818972509) * 256 + ord(b[j])) % 1818972509\n",
    "                print(j, bhash) \n",
    "                if bhash == ahash:\n",
    "                    print(j)     \n",
    "    def hashn(self, key, n):\n",
    "        h = 0\n",
    "        for i in range(n):\n",
    "            h = (h * 256 + ord(key[i])) % 1818972509\n",
    "        return h\n",
    "# Solution().search('abc', 'eadabcsde')\n",
    "Solution().search('ana', 'nana')\n",
    "        "
   ]
  },
  {
   "cell_type": "code",
   "execution_count": 39,
   "metadata": {},
   "outputs": [
    {
     "name": "stdout",
     "output_type": "stream",
     "text": [
      "3\n",
      "1\n",
      "-1\n",
      "2\n",
      "1\n",
      "1\n",
      "14\n",
      "-1\n",
      "2\n"
     ]
    }
   ],
   "source": [
    "class Solution:\n",
    "    def repeatedStringMatch(self, a: str, b: str) -> int:\n",
    "        an = len(a)\n",
    "        bn = len(b)\n",
    "        ans = -1\n",
    "        i = 0\n",
    "        while True:\n",
    "            f = True\n",
    "            for j in range(bn):\n",
    "                t = (i + j) % an\n",
    "                ans = ((i + j) // an ) + 1\n",
    "                if not b[j] in a:\n",
    "                    return -1\n",
    "                if a[t] != b[j]:\n",
    "                    f = False\n",
    "                    break\n",
    "            if f :\n",
    "                return ans\n",
    "            if ans * an > bn + 2*an and not f:\n",
    "                return -1\n",
    "            i += 1\n",
    "print(Solution().repeatedStringMatch('abcd', 'cdabcdab'))\n",
    "\n",
    "print(Solution().repeatedStringMatch('aa', 'a'))\n",
    "\n",
    "print(Solution().repeatedStringMatch('a', 'ab'))\n",
    "\n",
    "print(Solution().repeatedStringMatch('a', 'aa'))\n",
    "\n",
    "print(Solution().repeatedStringMatch('a', 'a'))\n",
    "\n",
    "print(Solution().repeatedStringMatch('cdabcdab', 'abcd'))\n",
    "\n",
    "print(Solution().repeatedStringMatch('ab', 'bababababababababababababa'))\n",
    "\n",
    "print(Solution().repeatedStringMatch('ab', 'babababababbabababababababa'))\n",
    "# \"aabaa\"\n",
    "# \"aaab\"\n",
    "print(Solution().repeatedStringMatch('aabaa', 'aaab'))"
   ]
  },
  {
   "cell_type": "markdown",
   "metadata": {},
   "source": [
    "摸不着头脑 就硬算 也能超越84% ，代码精简一下，官方解答光搞一些花里胡哨的。。。"
   ]
  },
  {
   "cell_type": "code",
   "execution_count": 38,
   "metadata": {},
   "outputs": [
    {
     "name": "stdout",
     "output_type": "stream",
     "text": [
      "3\n",
      "1\n",
      "-1\n",
      "2\n",
      "1\n",
      "1\n",
      "14\n",
      "-1\n",
      "2\n"
     ]
    }
   ],
   "source": [
    "class Solution:\n",
    "    def repeatedStringMatch(self, a: str, b: str) -> int:\n",
    "        an = len(a)\n",
    "        bn = len(b)\n",
    "        for bs in b:\n",
    "            if not bs in a:\n",
    "                return -1\n",
    "        ans = 1\n",
    "        while ans * an <= bn + 2*an:\n",
    "            if b in a*ans:\n",
    "                return ans\n",
    "            ans += 1\n",
    "        return -1\n",
    "print(Solution().repeatedStringMatch('abcd', 'cdabcdab'))\n",
    "\n",
    "print(Solution().repeatedStringMatch('aa', 'a'))\n",
    "\n",
    "print(Solution().repeatedStringMatch('a', 'ab'))\n",
    "\n",
    "print(Solution().repeatedStringMatch('a', 'aa'))\n",
    "\n",
    "print(Solution().repeatedStringMatch('a', 'a'))\n",
    "\n",
    "print(Solution().repeatedStringMatch('cdabcdab', 'abcd'))\n",
    "\n",
    "print(Solution().repeatedStringMatch('ab', 'bababababababababababababa'))\n",
    "\n",
    "print(Solution().repeatedStringMatch('ab', 'babababababbabababababababa'))\n",
    "# \"aabaa\"\n",
    "# \"aaab\"\n",
    "print(Solution().repeatedStringMatch('aabaa', 'aaab'))"
   ]
  },
  {
   "cell_type": "markdown",
   "metadata": {},
   "source": [
    "# 1044. [最长重复子串](https://leetcode-cn.com/problems/longest-duplicate-substring/)"
   ]
  },
  {
   "cell_type": "code",
   "execution_count": 77,
   "metadata": {},
   "outputs": [
    {
     "name": "stdout",
     "output_type": "stream",
     "text": [
      "t\n",
      "ana\n",
      "\n"
     ]
    }
   ],
   "source": [
    "class Solution:\n",
    "    def longestDupSubstring(self, s: str) -> str:\n",
    "        self.s = s\n",
    "        self.n = len(s)\n",
    "        left = 1\n",
    "        right = len(s) - 1\n",
    "        while left <= right:\n",
    "            mid = left + (right - left) // 2\n",
    "            if self.check(mid):\n",
    "                left = mid + 1\n",
    "            else:\n",
    "                right = mid - 1\n",
    "        if left - 1 > 0:\n",
    "            return self.s[self.j:left+self.j-1]\n",
    "            \n",
    "        return ''\n",
    "\n",
    "    def check(self, i: int) -> bool:\n",
    "        for j in range(self.n - i):\n",
    "            if self.s[j:i+j] in self.s[j+1:]:\n",
    "                self.j = j\n",
    "                return True\n",
    "        return False\n",
    "                \n",
    "\n",
    "\n",
    "print(Solution().longestDupSubstring('zxcvdqkfawuytt'))\n",
    "print(Solution().longestDupSubstring('banana'))\n",
    "print(Solution().longestDupSubstring('abcd'))\n"
   ]
  },
  {
   "cell_type": "code",
   "execution_count": 99,
   "metadata": {},
   "outputs": [
    {
     "name": "stdout",
     "output_type": "stream",
     "text": [
      "t\n",
      "ana\n",
      "\n"
     ]
    }
   ],
   "source": [
    "class Solution:\n",
    "    def longestDupSubstring(self, s: str) -> str:\n",
    "        self.s = s\n",
    "        self.n = len(s)\n",
    "        left = 1\n",
    "        right = len(s) - 1\n",
    "        self.mem = range(len(s))\n",
    "        while left <= right:\n",
    "            mid = left + (right - left) // 2\n",
    "            if self.check(mid):\n",
    "                left = mid + 1\n",
    "            else:\n",
    "                right = mid - 1\n",
    "        if left - 1 > 0:\n",
    "            j = self.mem[0]\n",
    "            return self.s[j:left+j-1]\n",
    "            \n",
    "        return ''\n",
    "\n",
    "    def check(self, i: int) -> bool:\n",
    "        jarray = []\n",
    "        for j in self.mem:\n",
    "            if i+j < self.n and self.s[j:i+j] in self.s[j+1:]:\n",
    "                self.j = j\n",
    "                jarray.append(j) \n",
    "        if jarray:\n",
    "            self.mem = jarray\n",
    "        return jarray\n",
    "                \n",
    "\n",
    "\n",
    "print(Solution().longestDupSubstring('zxcvdqkfawuytt'))\n",
    "print(Solution().longestDupSubstring('banana'))\n",
    "print(Solution().longestDupSubstring('abcd'))\n"
   ]
  },
  {
   "cell_type": "markdown",
   "metadata": {},
   "source": [
    "一直超时，过不了第63个测试用例，CV了"
   ]
  },
  {
   "cell_type": "code",
   "execution_count": 102,
   "metadata": {},
   "outputs": [
    {
     "name": "stdout",
     "output_type": "stream",
     "text": [
      "0 80 1902447245\n",
      "0 37 1841531258\n",
      "0 80 1902447245\n",
      "0 37 1841531258\n",
      "0 80 1902447245\n",
      "0 37 1841531258\n",
      "0 80 1902447245\n",
      "0 37 1841531258\n",
      "t\n",
      "0 38 2075655152\n",
      "0 89 1794692183\n",
      "0 38 2075655152\n",
      "0 89 1794692183\n",
      "0 38 2075655152\n",
      "0 89 1794692183\n",
      "ana\n",
      "0 94 2061682516\n",
      "0 26 1008760823\n",
      "0 94 2061682516\n",
      "0 26 1008760823\n",
      "\n"
     ]
    }
   ],
   "source": [
    "import random\n",
    "class Solution:\n",
    "    def longestDupSubstring(self, s: str) -> str:\n",
    "        # 生成两个进制\n",
    "        a1, a2 = random.randint(26, 100), random.randint(26, 100)\n",
    "        # 生成两个模\n",
    "        mod1, mod2 = random.randint(10**9+7, 2**31-1), random.randint(10**9+7, 2**31-1)\n",
    "        n = len(s)\n",
    "        # 先对所有字符进行编码\n",
    "        arr = [ord(c)-ord('a') for c in s]\n",
    "        # 二分查找的范围是[1, n-1]\n",
    "        l, r = 1, n-1\n",
    "        length, start = 0, -1\n",
    "        while l <= r:\n",
    "            m = l + (r - l + 1) // 2\n",
    "            idx = self.check(arr, m, a1, a2, mod1, mod2)\n",
    "            # 有重复子串，移动左边界\n",
    "            if idx != -1:\n",
    "                l = m + 1\n",
    "                length = m\n",
    "                start = idx\n",
    "            # 无重复子串，移动右边界\n",
    "            else:\n",
    "                r = m - 1\n",
    "        return s[start:start+length] if start != -1 else \"\"\n",
    "\n",
    "    def check(self, arr, m, a1, a2, mod1, mod2):\n",
    "        n = len(arr)\n",
    "        aL1, aL2 = pow(a1, m, mod1), pow(a2, m, mod2)\n",
    "        h1, h2 = 0, 0\n",
    "        print(h1, a1, mod1)\n",
    "        print(h2, a2, mod2)\n",
    "        for i in range(m):\n",
    "            h1 = (h1 * a1 + arr[i]) % mod1\n",
    "            h2 = (h2 * a2 + arr[i]) % mod2\n",
    "        # 存储一个编码组合是否出现过\n",
    "        # print(h1,h2)\n",
    "        seen = {(h1, h2)}\n",
    "        for start in range(1, n - m + 1):\n",
    "            h1 = (h1 * a1 - arr[start - 1] * aL1 + arr[start + m - 1]) % mod1\n",
    "            h2 = (h2 * a2 - arr[start - 1] * aL2 + arr[start + m - 1]) % mod2\n",
    "            # 如果重复，则返回重复串的起点\n",
    "            if (h1, h2) in seen:\n",
    "                return start\n",
    "            seen.add((h1, h2))\n",
    "        # 没有重复，则返回-1\n",
    "        return -1\n",
    "\n",
    "print(Solution().longestDupSubstring('zxcvdqkfawuytt'))\n",
    "print(Solution().longestDupSubstring('banana'))\n",
    "print(Solution().longestDupSubstring('abcd'))"
   ]
  },
  {
   "cell_type": "markdown",
   "metadata": {},
   "source": [
    "# 1705. [吃苹果的最大数目](https://leetcode-cn.com/problems/maximum-number-of-eaten-apples/)"
   ]
  },
  {
   "cell_type": "code",
   "execution_count": 34,
   "metadata": {},
   "outputs": [
    {
     "data": {
      "text/plain": [
       "5"
      ]
     },
     "execution_count": 34,
     "metadata": {},
     "output_type": "execute_result"
    }
   ],
   "source": [
    "from typing import List\n",
    "from queue import PriorityQueue\n",
    "class Solution:\n",
    "    def eatenApples(self, apples: List[int], days: List[int]) -> int:\n",
    "        n = len(apples)\n",
    "        q = PriorityQueue()\n",
    "        i = 0\n",
    "        ans = 0\n",
    "        while i < n or not q.empty():\n",
    "            if i < n and apples[i] > 0:\n",
    "                period = i+days[i]-1\n",
    "                q.put([period, apples[i]])\n",
    "            while not q.empty() and q.queue[0][0] < i:\n",
    "                q.get()\n",
    "            if not q.empty():\n",
    "                g = q.get()\n",
    "                g[1] -= 1\n",
    "                if g[1] > 0 and g[0] > i:\n",
    "                    q.put(g)\n",
    "                ans += 1\n",
    "            i += 1\n",
    "        return ans\n",
    "\n",
    "Solution().eatenApples(apples = [3,1,1,0,0,2], days = [3,1,1,0,0,2])\n"
   ]
  },
  {
   "cell_type": "markdown",
   "metadata": {},
   "source": [
    "# 825. [适龄的朋友](https://leetcode-cn.com/problems/friends-of-appropriate-ages/)\n",
    "\n",
    "- age[y] <= 0.5 * age[x] + 7\n",
    "- age[y] > age[x]\n",
    "- age[y] > 100 && age[x] < 100"
   ]
  },
  {
   "cell_type": "code",
   "execution_count": 34,
   "metadata": {},
   "outputs": [
    {
     "name": "stdout",
     "output_type": "stream",
     "text": [
      "[16, 16]\n",
      "2\n",
      "[16, 16, 16]\n",
      "6\n",
      "[16, 16, 16, 16]\n",
      "12\n",
      "[6, 6, 15, 26, 30, 35, 39, 46, 60, 71, 73, 100, 106, 110, 112]\n",
      "29\n",
      "[8, 8, 9, 9, 11, 11, 11, 13, 13, 14, 20, 21, 24, 29, 35, 36, 37, 39, 41, 47, 48, 50, 50, 51, 55, 56, 57, 57, 57, 59, 60, 61, 64, 65, 68, 68, 84, 87, 87, 89, 92, 93, 94, 96, 98, 104, 105, 108, 111, 116]\n",
      "439\n"
     ]
    }
   ],
   "source": [
    "from typing import List\n",
    "class Solution:\n",
    "    def numFriendRequests(self, ages: List[int]) -> int:\n",
    "        ans = 0\n",
    "        y = 0\n",
    "        ages.sort()\n",
    "        n = len(ages)\n",
    "        pren = 0\n",
    "        prev = 0\n",
    "        print(ages)\n",
    "        while y < n:\n",
    "            if prev == ages[y]:\n",
    "                ans += pren\n",
    "            elif y < n - 1:\n",
    "                l, r = y, n - 1\n",
    "                length = 0\n",
    "                while l <= r:\n",
    "                    m = l + (r - l + 1) // 2\n",
    "                    if ages[y] - ages[m] > 14 - ages[y]:\n",
    "                        l = m + 1\n",
    "                        length = m\n",
    "                    else:\n",
    "                        r = m - 1\n",
    "                pren = length - y  if length - y > 0 else 0\n",
    "                prev = ages[y]\n",
    "                ans += pren\n",
    "            y += 1\n",
    "        return ans\n",
    "\n",
    "# print(Solution().numFriendRequests(ages = [20,30,100,110,120]))\n",
    "        \n",
    "# print(Solution().numFriendRequests(ages = [16,17,18]))\n",
    "print(Solution().numFriendRequests(ages = [16,16]))    \n",
    "print(Solution().numFriendRequests(ages = [16,16,16]))\n",
    "print(Solution().numFriendRequests(ages = [16,16,16,16]))\n",
    "# # [73,106,39,6,26,15,30,100,71,35,46,112,6,60,110]\n",
    "print(Solution().numFriendRequests(ages = [73,106,39,6,26,15,30,100,71,35,46,112,6,60,110]))\n",
    "#  [98,60,24,89,84,51,61,96,108,87,68,29,14,11,13,50,13,104,57,8,57,111,92,87,9,59,65,116,56,39,55,11,21,105,57,36,48,93,20,94,35,68,64,41,37,11,50,47,8,9]\n",
    "print(Solution().numFriendRequests(ages = [98,60,24,89,84,51,61,96,108,87,68,29,14,11,13,50,13,104,57,8,57,111,92,87,9,59,65,116,56,39,55,11,21,105,57,36,48,93,20,94,35,68,64,41,37,11,50,47,8,9]))\n"
   ]
  },
  {
   "cell_type": "markdown",
   "metadata": {},
   "source": [
    "自己写的效率不行。排行第一的又有点看不懂。。。"
   ]
  },
  {
   "cell_type": "code",
   "execution_count": 37,
   "metadata": {},
   "outputs": [
    {
     "name": "stdout",
     "output_type": "stream",
     "text": [
      "2\n",
      "6\n",
      "12\n",
      "29\n",
      "439\n"
     ]
    }
   ],
   "source": [
    "from typing import List\n",
    "class Solution:\n",
    "    def numFriendRequests(self, ages: List[int]) -> int:\n",
    "        n = 125\n",
    "        cnt = [0 for _ in range(n)]\n",
    "        p, q, s, ans = 0, 0, 0, 0\n",
    "        for age in ages: cnt[age] += 1\n",
    "        while q < n:\n",
    "            if cnt[q] > 0:\n",
    "                while p < q and p <= q / 2 + 7:\n",
    "                    s -= cnt[p]\n",
    "                    p += 1\n",
    "                ans += cnt[q] * s \n",
    "                if q > q / 2 + 7: ans += (cnt[q] - 1) * cnt[q]\n",
    "                s += cnt[q]\n",
    "            q += 1\n",
    "        return ans\n",
    "\n",
    "# print(Solution().numFriendRequests(ages = [20,30,100,110,120]))\n",
    "        \n",
    "# print(Solution().numFriendRequests(ages = [16,17,18]))\n",
    "print(Solution().numFriendRequests(ages = [16,16]))    \n",
    "print(Solution().numFriendRequests(ages = [16,16,16]))\n",
    "print(Solution().numFriendRequests(ages = [16,16,16,16]))\n",
    "# # [73,106,39,6,26,15,30,100,71,35,46,112,6,60,110]\n",
    "print(Solution().numFriendRequests(ages = [73,106,39,6,26,15,30,100,71,35,46,112,6,60,110]))\n",
    "#  [98,60,24,89,84,51,61,96,108,87,68,29,14,11,13,50,13,104,57,8,57,111,92,87,9,59,65,116,56,39,55,11,21,105,57,36,48,93,20,94,35,68,64,41,37,11,50,47,8,9]\n",
    "print(Solution().numFriendRequests(ages = [98,60,24,89,84,51,61,96,108,87,68,29,14,11,13,50,13,104,57,8,57,111,92,87,9,59,65,116,56,39,55,11,21,105,57,36,48,93,20,94,35,68,64,41,37,11,50,47,8,9]))\n"
   ]
  },
  {
   "cell_type": "markdown",
   "metadata": {},
   "source": [
    "改成正常人能看懂的代码"
   ]
  },
  {
   "cell_type": "code",
   "execution_count": 17,
   "metadata": {},
   "outputs": [
    {
     "name": "stdout",
     "output_type": "stream",
     "text": [
      "3\n",
      "2\n",
      "2\n",
      "6\n",
      "12\n",
      "29\n",
      "439\n"
     ]
    }
   ],
   "source": [
    "from typing import List\n",
    "class Solution:\n",
    "    def numFriendRequests(self, ages: List[int]) -> int:\n",
    "        n = 125\n",
    "        cnt = [0 for _ in range(n)]\n",
    "        y, ans = 15, 0\n",
    "        for age in ages: cnt[age] += 1\n",
    "        while y < n:\n",
    "            if cnt[y] > 0:\n",
    "                x = 2 * y - 14 if 2 * y - 14 < n else n\n",
    "                ans += (sum( cnt[i] for i in range(y, x)) - 1) * cnt[y]\n",
    "            y += 1\n",
    "        return ans\n",
    "\n",
    "print(Solution().numFriendRequests(ages = [20,30,100,110,120]))\n",
    "        \n",
    "print(Solution().numFriendRequests(ages = [16,17,18]))\n",
    "print(Solution().numFriendRequests(ages = [16,16]))    \n",
    "print(Solution().numFriendRequests(ages = [16,16,16]))\n",
    "print(Solution().numFriendRequests(ages = [16,16,16,16]))\n",
    "# # [73,106,39,6,26,15,30,100,71,35,46,112,6,60,110]\n",
    "print(Solution().numFriendRequests(ages = [73,106,39,6,26,15,30,100,71,35,46,112,6,60,110]))\n",
    "#  [98,60,24,89,84,51,61,96,108,87,68,29,14,11,13,50,13,104,57,8,57,111,92,87,9,59,65,116,56,39,55,11,21,105,57,36,48,93,20,94,35,68,64,41,37,11,50,47,8,9]\n",
    "print(Solution().numFriendRequests(ages = [98,60,24,89,84,51,61,96,108,87,68,29,14,11,13,50,13,104,57,8,57,111,92,87,9,59,65,116,56,39,55,11,21,105,57,36,48,93,20,94,35,68,64,41,37,11,50,47,8,9]))\n"
   ]
  },
  {
   "cell_type": "markdown",
   "metadata": {},
   "source": [
    "# 472. [连接词](https://leetcode-cn.com/problems/concatenated-words/)"
   ]
  },
  {
   "cell_type": "code",
   "execution_count": 8,
   "metadata": {},
   "outputs": [
    {
     "name": "stdout",
     "output_type": "stream",
     "text": [
      "3\n",
      "4\n"
     ]
    }
   ],
   "source": [
    "class TrieNode:\n",
    "    def __init__(self):\n",
    "        self.count = 0\n",
    "        self.prefix = 0\n",
    "        self.nextNode = [None]*26\n",
    "def insert(root: TrieNode, s: str):\n",
    "    for i in range(len(s)):\n",
    "        x = ord(s[i])-ord('a')\n",
    "        if not root.nextNode[x]:\n",
    "            root.nextNode[x] = TrieNode()\n",
    "        root = root.nextNode[x]\n",
    "        root.prefix += 1\n",
    "    root.count += 1\n",
    "def search(root: TrieNode, s: str) -> int:\n",
    "    for i in range(len(s)):\n",
    "        x = ord(s[i])-ord('a')\n",
    "        if not root.nextNode[x]:\n",
    "            return -1\n",
    "        root = root.nextNode[x]\n",
    "    if root.count == 0:\n",
    "        return -1\n",
    "    return root.count\n",
    "def searchPrefix(root: TrieNode, s: str) -> int:\n",
    "    for i in range(len(s)):\n",
    "        x = ord(s[i])-ord('a')\n",
    "        if not root.nextNode[x]:\n",
    "            return -1\n",
    "        root = root.nextNode[x]\n",
    "    return root.prefix\n",
    "\n",
    "root = TrieNode()\n",
    "insert(root, 'apple')\n",
    "insert(root, 'apple')\n",
    "insert(root, 'apple')\n",
    "insert(root, 'applePen')\n",
    "print(search(root, 'apple'))\n",
    "print(searchPrefix(root, 'ap'))\n"
   ]
  },
  {
   "cell_type": "code",
   "execution_count": 15,
   "metadata": {},
   "outputs": [
    {
     "name": "stdout",
     "output_type": "stream",
     "text": [
      "['dogcatsdog', 'catsdogcats', 'ratcatdogcat']\n",
      "['catdog']\n"
     ]
    }
   ],
   "source": [
    "from typing import List\n",
    "class Solution:\n",
    "    class TrieNode:\n",
    "        def __init__(self):\n",
    "            self.count = 0\n",
    "            self.prefix = 0\n",
    "            self.nextNode = [None]*26\n",
    "    def insert(self, root: TrieNode, s: str):\n",
    "        for i in range(len(s)):\n",
    "            x = ord(s[i])-ord('a')\n",
    "            if not root.nextNode[x]:\n",
    "                root.nextNode[x] = self.TrieNode()\n",
    "            root = root.nextNode[x]\n",
    "            root.prefix += 1\n",
    "        root.count += 1\n",
    "    def search(self, root: TrieNode, s: str) -> bool:\n",
    "        tmp = root\n",
    "        for i in range(len(s)):\n",
    "            x = ord(s[i])-ord('a')\n",
    "            if not tmp.nextNode[x]:\n",
    "                return False\n",
    "            if tmp.nextNode[x].count != 0 and i+1<len(s) and self.search(root, s[i+1:]):\n",
    "                return True\n",
    "            tmp = tmp.nextNode[x]\n",
    "        if tmp.count == 0:\n",
    "            return False\n",
    "        return True\n",
    "    def findAllConcatenatedWordsInADict(self, words: List[str]) -> List[str]:\n",
    "        words.sort(key=len)\n",
    "        root = self.TrieNode()\n",
    "        ans = []\n",
    "        for word in words:\n",
    "            if len(word) == 0:\n",
    "                continue\n",
    "            if not self.search(root, word):\n",
    "                self.insert(root, word)\n",
    "            else:\n",
    "                ans.append(word)\n",
    "        return ans\n",
    "print(Solution().findAllConcatenatedWordsInADict(words = [\"cat\",\"cats\",\"catsdogcats\",\"dog\",\"dogcatsdog\",\"hippopotamuses\",\"rat\",\"ratcatdogcat\"]))\n",
    "print(Solution().findAllConcatenatedWordsInADict(words = [\"cat\",\"dog\",\"catdog\"]))  "
   ]
  },
  {
   "cell_type": "markdown",
   "metadata": {},
   "source": [
    "又臭又长，看看官方咋写，emmm好像差不多，cv一下看看"
   ]
  },
  {
   "cell_type": "code",
   "execution_count": null,
   "metadata": {},
   "outputs": [],
   "source": [
    "class Trie:\n",
    "    def __init__(self):\n",
    "        self.children = [None] * 26\n",
    "        self.isEnd = False\n",
    "\n",
    "    def insert(self, word: str):\n",
    "        node = self\n",
    "        for ch in word:\n",
    "            ch = ord(ch) - ord('a')\n",
    "            if not node.children[ch]:\n",
    "                node.children[ch] = Trie()\n",
    "            node = node.children[ch]\n",
    "        node.isEnd = True\n",
    "\n",
    "    def dfs(self, word: str, start: int) -> bool:\n",
    "        if start == len(word):\n",
    "            return True\n",
    "        node = self\n",
    "        for i in range(start, len(word)):\n",
    "            node = node.children[ord(word[i]) - ord('a')]\n",
    "            if node is None:\n",
    "                return False\n",
    "            if node.isEnd and self.dfs(word, i + 1):\n",
    "                return True\n",
    "        return False\n",
    "\n",
    "\n",
    "class Solution:\n",
    "    def findAllConcatenatedWordsInADict(self, words: List[str]) -> List[str]:\n",
    "        words.sort(key=len)\n",
    "\n",
    "        ans = []\n",
    "        root = Trie()\n",
    "        for word in words:\n",
    "            if word == \"\":\n",
    "                continue\n",
    "            if root.dfs(word, 0):\n",
    "                ans.append(word)\n",
    "            else:\n",
    "                root.insert(word)\n",
    "        return ans"
   ]
  },
  {
   "cell_type": "markdown",
   "metadata": {},
   "source": [
    "# 1995. [统计特殊四元组](https://leetcode-cn.com/problems/count-special-quadruplets/)\n",
    "两种很巧妙的方式减少了时间复杂度"
   ]
  },
  {
   "cell_type": "code",
   "execution_count": null,
   "metadata": {},
   "outputs": [],
   "source": [
    "from typing import List\n",
    "from collections import Counter\n",
    "class Solution:\n",
    "    def countQuadruplets(self, nums: List[int]) -> int:\n",
    "        cnt = Counter()\n",
    "        n = len(nums)\n",
    "        ans = 0\n",
    "        for c in range(n-2, 1, -1):\n",
    "            cnt[nums[c+1]] += 1\n",
    "            for a in range(c):\n",
    "                for b in range(a+1, c):\n",
    "                    d = nums[a]+nums[b]+nums[c]\n",
    "                    if d in cnt:\n",
    "                        ans += cnt[d]\n",
    "        return ans\n",
    "Solution().countQuadruplets([1,1,1,3,5])"
   ]
  },
  {
   "cell_type": "code",
   "execution_count": 2,
   "metadata": {},
   "outputs": [
    {
     "data": {
      "text/plain": [
       "4"
      ]
     },
     "execution_count": 2,
     "metadata": {},
     "output_type": "execute_result"
    }
   ],
   "source": [
    "from typing import List\n",
    "from collections import Counter\n",
    "class Solution:\n",
    "    def countQuadruplets(self, nums: List[int]) -> int:\n",
    "        cnt = Counter()\n",
    "        n = len(nums)\n",
    "        ans = 0\n",
    "        for b in range(n-3, 0, -1):\n",
    "            for d in range(b+2, n):\n",
    "                cnt[nums[d] - nums[b+1]] += 1\n",
    "            for a in range(b):\n",
    "                ab = nums[a]+nums[b]\n",
    "                if ab in cnt:\n",
    "                    ans += cnt[ab]\n",
    "        return ans\n",
    "Solution().countQuadruplets([1,1,1,3,5])"
   ]
  }
 ],
 "metadata": {
  "interpreter": {
   "hash": "3a57da47d7432be2ebf54640945d9cc60b99e6d1ae25722168e2af822ccabf93"
  },
  "kernelspec": {
   "display_name": "Python 3.8.10 64-bit ('.venv': venv)",
   "language": "python",
   "name": "python3"
  },
  "language_info": {
   "codemirror_mode": {
    "name": "ipython",
    "version": 3
   },
   "file_extension": ".py",
   "mimetype": "text/x-python",
   "name": "python",
   "nbconvert_exporter": "python",
   "pygments_lexer": "ipython3",
   "version": "3.8.10"
  },
  "orig_nbformat": 4
 },
 "nbformat": 4,
 "nbformat_minor": 2
}
