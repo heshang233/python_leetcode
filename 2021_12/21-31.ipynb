{
 "cells": [
  {
   "cell_type": "markdown",
   "metadata": {},
   "source": [
    "# 686. [重复叠加字符串匹配](https://leetcode-cn.com/problems/repeated-string-match/)"
   ]
  },
  {
   "cell_type": "markdown",
   "metadata": {},
   "source": [
    "## 字符串匹配算法"
   ]
  },
  {
   "cell_type": "markdown",
   "metadata": {},
   "source": [
    "### 朴素算法\n",
    "朴素的字符串匹配算法又称为暴力匹配算法（Brute Force Algorithm），它的主要特点是：\n",
    "- 没有预处理阶段；\n",
    "- 滑动窗口总是后移 1 位；\n",
    "- 对模式中的字符的比较顺序不限定，可以从前到后，也可以从后到前；\n",
    "- 匹配阶段需要 O((n - m + 1)m) 的时间复杂度；\n",
    "- 需要 2n 次的字符比较；\n",
    "\n",
    "朴素算法有两层循环，外层循环执行bn-an+1次，内层循环执行an次，其时间复杂度为O((bn-an+1)*an)"
   ]
  },
  {
   "cell_type": "code",
   "execution_count": 13,
   "metadata": {},
   "outputs": [
    {
     "name": "stdout",
     "output_type": "stream",
     "text": [
      "3\n"
     ]
    }
   ],
   "source": [
    "class Solution:\n",
    "    def search(self, a: str, b: str):\n",
    "        an = len(a)\n",
    "        bn = len(b)\n",
    "        for i in range(bn - an + 1):\n",
    "            for j in range(an):\n",
    "                if b[i+j] != a[j]:\n",
    "                    break\n",
    "            if j == an - 1:\n",
    "                print(i)\n",
    "Solution().search('abc', 'eadabcsde')\n",
    "        "
   ]
  },
  {
   "cell_type": "code",
   "execution_count": 39,
   "metadata": {},
   "outputs": [
    {
     "name": "stdout",
     "output_type": "stream",
     "text": [
      "3\n",
      "1\n",
      "-1\n",
      "2\n",
      "1\n",
      "1\n",
      "14\n",
      "-1\n",
      "2\n"
     ]
    }
   ],
   "source": [
    "class Solution:\n",
    "    def repeatedStringMatch(self, a: str, b: str) -> int:\n",
    "        an = len(a)\n",
    "        bn = len(b)\n",
    "        ans = -1\n",
    "        i = 0\n",
    "        while True:\n",
    "            f = True\n",
    "            for j in range(bn):\n",
    "                t = (i + j) % an\n",
    "                ans = ((i + j) // an ) + 1\n",
    "                if not b[j] in a:\n",
    "                    return -1\n",
    "                if a[t] != b[j]:\n",
    "                    f = False\n",
    "                    break\n",
    "            if f :\n",
    "                return ans\n",
    "            if ans * an > bn + 2*an and not f:\n",
    "                return -1\n",
    "            i += 1\n",
    "print(Solution().repeatedStringMatch('abcd', 'cdabcdab'))\n",
    "\n",
    "print(Solution().repeatedStringMatch('aa', 'a'))\n",
    "\n",
    "print(Solution().repeatedStringMatch('a', 'ab'))\n",
    "\n",
    "print(Solution().repeatedStringMatch('a', 'aa'))\n",
    "\n",
    "print(Solution().repeatedStringMatch('a', 'a'))\n",
    "\n",
    "print(Solution().repeatedStringMatch('cdabcdab', 'abcd'))\n",
    "\n",
    "print(Solution().repeatedStringMatch('ab', 'bababababababababababababa'))\n",
    "\n",
    "print(Solution().repeatedStringMatch('ab', 'babababababbabababababababa'))\n",
    "# \"aabaa\"\n",
    "# \"aaab\"\n",
    "print(Solution().repeatedStringMatch('aabaa', 'aaab'))"
   ]
  },
  {
   "cell_type": "markdown",
   "metadata": {},
   "source": [
    "摸不着头脑 就硬算 也能超越84% ，代码精简一下，官方解答光搞一些花里胡哨的。。。"
   ]
  },
  {
   "cell_type": "code",
   "execution_count": 38,
   "metadata": {},
   "outputs": [
    {
     "name": "stdout",
     "output_type": "stream",
     "text": [
      "3\n",
      "1\n",
      "-1\n",
      "2\n",
      "1\n",
      "1\n",
      "14\n",
      "-1\n",
      "2\n"
     ]
    }
   ],
   "source": [
    "class Solution:\n",
    "    def repeatedStringMatch(self, a: str, b: str) -> int:\n",
    "        an = len(a)\n",
    "        bn = len(b)\n",
    "        for bs in b:\n",
    "            if not bs in a:\n",
    "                return -1\n",
    "        ans = 1\n",
    "        while ans * an <= bn + 2*an:\n",
    "            if b in a*ans:\n",
    "                return ans\n",
    "            ans += 1\n",
    "        return -1\n",
    "print(Solution().repeatedStringMatch('abcd', 'cdabcdab'))\n",
    "\n",
    "print(Solution().repeatedStringMatch('aa', 'a'))\n",
    "\n",
    "print(Solution().repeatedStringMatch('a', 'ab'))\n",
    "\n",
    "print(Solution().repeatedStringMatch('a', 'aa'))\n",
    "\n",
    "print(Solution().repeatedStringMatch('a', 'a'))\n",
    "\n",
    "print(Solution().repeatedStringMatch('cdabcdab', 'abcd'))\n",
    "\n",
    "print(Solution().repeatedStringMatch('ab', 'bababababababababababababa'))\n",
    "\n",
    "print(Solution().repeatedStringMatch('ab', 'babababababbabababababababa'))\n",
    "# \"aabaa\"\n",
    "# \"aaab\"\n",
    "print(Solution().repeatedStringMatch('aabaa', 'aaab'))"
   ]
  }
 ],
 "metadata": {
  "interpreter": {
   "hash": "3a57da47d7432be2ebf54640945d9cc60b99e6d1ae25722168e2af822ccabf93"
  },
  "kernelspec": {
   "display_name": "Python 3.8.10 64-bit ('.venv': venv)",
   "language": "python",
   "name": "python3"
  },
  "language_info": {
   "codemirror_mode": {
    "name": "ipython",
    "version": 3
   },
   "file_extension": ".py",
   "mimetype": "text/x-python",
   "name": "python",
   "nbconvert_exporter": "python",
   "pygments_lexer": "ipython3",
   "version": "3.8.10"
  },
  "orig_nbformat": 4
 },
 "nbformat": 4,
 "nbformat_minor": 2
}
