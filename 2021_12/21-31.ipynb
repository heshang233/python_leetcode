{
 "cells": [
  {
   "cell_type": "markdown",
   "metadata": {},
   "source": [
    "# 686. [重复叠加字符串匹配](https://leetcode-cn.com/problems/repeated-string-match/)"
   ]
  },
  {
   "cell_type": "markdown",
   "metadata": {},
   "source": [
    "## 字符串匹配算法"
   ]
  },
  {
   "cell_type": "markdown",
   "metadata": {},
   "source": [
    "### 朴素算法\n",
    "朴素的字符串匹配算法又称为暴力匹配算法（Brute Force Algorithm），它的主要特点是：\n",
    "- 没有预处理阶段；\n",
    "- 滑动窗口总是后移 1 位；\n",
    "- 对模式中的字符的比较顺序不限定，可以从前到后，也可以从后到前；\n",
    "- 匹配阶段需要 O((n - m + 1)m) 的时间复杂度；\n",
    "- 需要 2n 次的字符比较；\n",
    "\n",
    "朴素算法有两层循环，外层循环执行bn-an+1次，内层循环执行an次，其时间复杂度为O((bn-an+1)*an)"
   ]
  },
  {
   "cell_type": "code",
   "execution_count": 13,
   "metadata": {},
   "outputs": [
    {
     "name": "stdout",
     "output_type": "stream",
     "text": [
      "3\n"
     ]
    }
   ],
   "source": [
    "class Solution:\n",
    "    def search(self, a: str, b: str):\n",
    "        an = len(a)\n",
    "        bn = len(b)\n",
    "        for i in range(bn - an + 1):\n",
    "            for j in range(an):\n",
    "                if b[i+j] != a[j]:\n",
    "                    break\n",
    "            if j == an - 1:\n",
    "                print(i)\n",
    "Solution().search('abc', 'eadabcsde')\n",
    "        "
   ]
  },
  {
   "cell_type": "markdown",
   "metadata": {},
   "source": [
    "### Rabin-Karp算法\n",
    "参考链接：https://www.jianshu.com/p/24895aca0459"
   ]
  },
  {
   "cell_type": "code",
   "execution_count": 35,
   "metadata": {},
   "outputs": [
    {
     "name": "stdout",
     "output_type": "stream",
     "text": [
      "6385249 7233902\n",
      "65536\n",
      "3 6385249\n",
      "3\n"
     ]
    }
   ],
   "source": [
    "class Solution:\n",
    "    def search(self, a: str, b: str):\n",
    "        ahash = self.hashn(a, len(a))\n",
    "        bhash = self.hashn(b, len(a))\n",
    "        print(ahash, bhash)\n",
    "        if ahash != bhash:\n",
    "            RM = 1\n",
    "            for i in range(len(a)-1):\n",
    "                # 说是要个随即素数，我这随便网上找了个大素数\n",
    "                RM = (RM*256) % 1818972509 \n",
    "            print(RM)\n",
    "            for j in range(len(a), len(b)):\n",
    "                bhash = ((bhash - RM * ord(b[j - len(a)]) + 1818972509) * 256 + ord(b[j])) % 1818972509\n",
    "                print(j, bhash) \n",
    "                if bhash == ahash:\n",
    "                    print(j)     \n",
    "    def hashn(self, key, n):\n",
    "        h = 0\n",
    "        for i in range(n):\n",
    "            h = (h * 256 + ord(key[i])) % 1818972509\n",
    "        return h\n",
    "# Solution().search('abc', 'eadabcsde')\n",
    "Solution().search('ana', 'nana')\n",
    "        "
   ]
  },
  {
   "cell_type": "code",
   "execution_count": 39,
   "metadata": {},
   "outputs": [
    {
     "name": "stdout",
     "output_type": "stream",
     "text": [
      "3\n",
      "1\n",
      "-1\n",
      "2\n",
      "1\n",
      "1\n",
      "14\n",
      "-1\n",
      "2\n"
     ]
    }
   ],
   "source": [
    "class Solution:\n",
    "    def repeatedStringMatch(self, a: str, b: str) -> int:\n",
    "        an = len(a)\n",
    "        bn = len(b)\n",
    "        ans = -1\n",
    "        i = 0\n",
    "        while True:\n",
    "            f = True\n",
    "            for j in range(bn):\n",
    "                t = (i + j) % an\n",
    "                ans = ((i + j) // an ) + 1\n",
    "                if not b[j] in a:\n",
    "                    return -1\n",
    "                if a[t] != b[j]:\n",
    "                    f = False\n",
    "                    break\n",
    "            if f :\n",
    "                return ans\n",
    "            if ans * an > bn + 2*an and not f:\n",
    "                return -1\n",
    "            i += 1\n",
    "print(Solution().repeatedStringMatch('abcd', 'cdabcdab'))\n",
    "\n",
    "print(Solution().repeatedStringMatch('aa', 'a'))\n",
    "\n",
    "print(Solution().repeatedStringMatch('a', 'ab'))\n",
    "\n",
    "print(Solution().repeatedStringMatch('a', 'aa'))\n",
    "\n",
    "print(Solution().repeatedStringMatch('a', 'a'))\n",
    "\n",
    "print(Solution().repeatedStringMatch('cdabcdab', 'abcd'))\n",
    "\n",
    "print(Solution().repeatedStringMatch('ab', 'bababababababababababababa'))\n",
    "\n",
    "print(Solution().repeatedStringMatch('ab', 'babababababbabababababababa'))\n",
    "# \"aabaa\"\n",
    "# \"aaab\"\n",
    "print(Solution().repeatedStringMatch('aabaa', 'aaab'))"
   ]
  },
  {
   "cell_type": "markdown",
   "metadata": {},
   "source": [
    "摸不着头脑 就硬算 也能超越84% ，代码精简一下，官方解答光搞一些花里胡哨的。。。"
   ]
  },
  {
   "cell_type": "code",
   "execution_count": 38,
   "metadata": {},
   "outputs": [
    {
     "name": "stdout",
     "output_type": "stream",
     "text": [
      "3\n",
      "1\n",
      "-1\n",
      "2\n",
      "1\n",
      "1\n",
      "14\n",
      "-1\n",
      "2\n"
     ]
    }
   ],
   "source": [
    "class Solution:\n",
    "    def repeatedStringMatch(self, a: str, b: str) -> int:\n",
    "        an = len(a)\n",
    "        bn = len(b)\n",
    "        for bs in b:\n",
    "            if not bs in a:\n",
    "                return -1\n",
    "        ans = 1\n",
    "        while ans * an <= bn + 2*an:\n",
    "            if b in a*ans:\n",
    "                return ans\n",
    "            ans += 1\n",
    "        return -1\n",
    "print(Solution().repeatedStringMatch('abcd', 'cdabcdab'))\n",
    "\n",
    "print(Solution().repeatedStringMatch('aa', 'a'))\n",
    "\n",
    "print(Solution().repeatedStringMatch('a', 'ab'))\n",
    "\n",
    "print(Solution().repeatedStringMatch('a', 'aa'))\n",
    "\n",
    "print(Solution().repeatedStringMatch('a', 'a'))\n",
    "\n",
    "print(Solution().repeatedStringMatch('cdabcdab', 'abcd'))\n",
    "\n",
    "print(Solution().repeatedStringMatch('ab', 'bababababababababababababa'))\n",
    "\n",
    "print(Solution().repeatedStringMatch('ab', 'babababababbabababababababa'))\n",
    "# \"aabaa\"\n",
    "# \"aaab\"\n",
    "print(Solution().repeatedStringMatch('aabaa', 'aaab'))"
   ]
  },
  {
   "cell_type": "markdown",
   "metadata": {},
   "source": [
    "# 1044. [最长重复子串](https://leetcode-cn.com/problems/longest-duplicate-substring/)"
   ]
  },
  {
   "cell_type": "code",
   "execution_count": 77,
   "metadata": {},
   "outputs": [
    {
     "name": "stdout",
     "output_type": "stream",
     "text": [
      "t\n",
      "ana\n",
      "\n"
     ]
    }
   ],
   "source": [
    "class Solution:\n",
    "    def longestDupSubstring(self, s: str) -> str:\n",
    "        self.s = s\n",
    "        self.n = len(s)\n",
    "        left = 1\n",
    "        right = len(s) - 1\n",
    "        while left <= right:\n",
    "            mid = left + (right - left) // 2\n",
    "            if self.check(mid):\n",
    "                left = mid + 1\n",
    "            else:\n",
    "                right = mid - 1\n",
    "        if left - 1 > 0:\n",
    "            return self.s[self.j:left+self.j-1]\n",
    "            \n",
    "        return ''\n",
    "\n",
    "    def check(self, i: int) -> bool:\n",
    "        for j in range(self.n - i):\n",
    "            if self.s[j:i+j] in self.s[j+1:]:\n",
    "                self.j = j\n",
    "                return True\n",
    "        return False\n",
    "                \n",
    "\n",
    "\n",
    "print(Solution().longestDupSubstring('zxcvdqkfawuytt'))\n",
    "print(Solution().longestDupSubstring('banana'))\n",
    "print(Solution().longestDupSubstring('abcd'))\n"
   ]
  },
  {
   "cell_type": "code",
   "execution_count": 99,
   "metadata": {},
   "outputs": [
    {
     "name": "stdout",
     "output_type": "stream",
     "text": [
      "t\n",
      "ana\n",
      "\n"
     ]
    }
   ],
   "source": [
    "class Solution:\n",
    "    def longestDupSubstring(self, s: str) -> str:\n",
    "        self.s = s\n",
    "        self.n = len(s)\n",
    "        left = 1\n",
    "        right = len(s) - 1\n",
    "        self.mem = range(len(s))\n",
    "        while left <= right:\n",
    "            mid = left + (right - left) // 2\n",
    "            if self.check(mid):\n",
    "                left = mid + 1\n",
    "            else:\n",
    "                right = mid - 1\n",
    "        if left - 1 > 0:\n",
    "            j = self.mem[0]\n",
    "            return self.s[j:left+j-1]\n",
    "            \n",
    "        return ''\n",
    "\n",
    "    def check(self, i: int) -> bool:\n",
    "        jarray = []\n",
    "        for j in self.mem:\n",
    "            if i+j < self.n and self.s[j:i+j] in self.s[j+1:]:\n",
    "                self.j = j\n",
    "                jarray.append(j) \n",
    "        if jarray:\n",
    "            self.mem = jarray\n",
    "        return jarray\n",
    "                \n",
    "\n",
    "\n",
    "print(Solution().longestDupSubstring('zxcvdqkfawuytt'))\n",
    "print(Solution().longestDupSubstring('banana'))\n",
    "print(Solution().longestDupSubstring('abcd'))\n"
   ]
  },
  {
   "cell_type": "markdown",
   "metadata": {},
   "source": [
    "一直超时，过不了第63个测试用例，CV了"
   ]
  },
  {
   "cell_type": "code",
   "execution_count": 102,
   "metadata": {},
   "outputs": [
    {
     "name": "stdout",
     "output_type": "stream",
     "text": [
      "0 80 1902447245\n",
      "0 37 1841531258\n",
      "0 80 1902447245\n",
      "0 37 1841531258\n",
      "0 80 1902447245\n",
      "0 37 1841531258\n",
      "0 80 1902447245\n",
      "0 37 1841531258\n",
      "t\n",
      "0 38 2075655152\n",
      "0 89 1794692183\n",
      "0 38 2075655152\n",
      "0 89 1794692183\n",
      "0 38 2075655152\n",
      "0 89 1794692183\n",
      "ana\n",
      "0 94 2061682516\n",
      "0 26 1008760823\n",
      "0 94 2061682516\n",
      "0 26 1008760823\n",
      "\n"
     ]
    }
   ],
   "source": [
    "import random\n",
    "class Solution:\n",
    "    def longestDupSubstring(self, s: str) -> str:\n",
    "        # 生成两个进制\n",
    "        a1, a2 = random.randint(26, 100), random.randint(26, 100)\n",
    "        # 生成两个模\n",
    "        mod1, mod2 = random.randint(10**9+7, 2**31-1), random.randint(10**9+7, 2**31-1)\n",
    "        n = len(s)\n",
    "        # 先对所有字符进行编码\n",
    "        arr = [ord(c)-ord('a') for c in s]\n",
    "        # 二分查找的范围是[1, n-1]\n",
    "        l, r = 1, n-1\n",
    "        length, start = 0, -1\n",
    "        while l <= r:\n",
    "            m = l + (r - l + 1) // 2\n",
    "            idx = self.check(arr, m, a1, a2, mod1, mod2)\n",
    "            # 有重复子串，移动左边界\n",
    "            if idx != -1:\n",
    "                l = m + 1\n",
    "                length = m\n",
    "                start = idx\n",
    "            # 无重复子串，移动右边界\n",
    "            else:\n",
    "                r = m - 1\n",
    "        return s[start:start+length] if start != -1 else \"\"\n",
    "\n",
    "    def check(self, arr, m, a1, a2, mod1, mod2):\n",
    "        n = len(arr)\n",
    "        aL1, aL2 = pow(a1, m, mod1), pow(a2, m, mod2)\n",
    "        h1, h2 = 0, 0\n",
    "        print(h1, a1, mod1)\n",
    "        print(h2, a2, mod2)\n",
    "        for i in range(m):\n",
    "            h1 = (h1 * a1 + arr[i]) % mod1\n",
    "            h2 = (h2 * a2 + arr[i]) % mod2\n",
    "        # 存储一个编码组合是否出现过\n",
    "        # print(h1,h2)\n",
    "        seen = {(h1, h2)}\n",
    "        for start in range(1, n - m + 1):\n",
    "            h1 = (h1 * a1 - arr[start - 1] * aL1 + arr[start + m - 1]) % mod1\n",
    "            h2 = (h2 * a2 - arr[start - 1] * aL2 + arr[start + m - 1]) % mod2\n",
    "            # 如果重复，则返回重复串的起点\n",
    "            if (h1, h2) in seen:\n",
    "                return start\n",
    "            seen.add((h1, h2))\n",
    "        # 没有重复，则返回-1\n",
    "        return -1\n",
    "\n",
    "print(Solution().longestDupSubstring('zxcvdqkfawuytt'))\n",
    "print(Solution().longestDupSubstring('banana'))\n",
    "print(Solution().longestDupSubstring('abcd'))"
   ]
  }
 ],
 "metadata": {
  "interpreter": {
   "hash": "3a57da47d7432be2ebf54640945d9cc60b99e6d1ae25722168e2af822ccabf93"
  },
  "kernelspec": {
   "display_name": "Python 3.8.10 64-bit ('.venv': venv)",
   "language": "python",
   "name": "python3"
  },
  "language_info": {
   "codemirror_mode": {
    "name": "ipython",
    "version": 3
   },
   "file_extension": ".py",
   "mimetype": "text/x-python",
   "name": "python",
   "nbconvert_exporter": "python",
   "pygments_lexer": "ipython3",
   "version": "3.8.10"
  },
  "orig_nbformat": 4
 },
 "nbformat": 4,
 "nbformat_minor": 2
}
