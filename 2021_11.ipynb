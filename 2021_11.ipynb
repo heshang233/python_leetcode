{
 "cells": [
  {
   "cell_type": "markdown",
   "metadata": {},
   "source": [
    "## 495. [提莫攻击](https://leetcode-cn.com/problems/teemo-attacking/) 2021-11-10"
   ]
  },
  {
   "cell_type": "markdown",
   "metadata": {},
   "source": [
    "在《英雄联盟》的世界中，有一个叫 “提莫” 的英雄。他的攻击可以让敌方英雄艾希（编者注：寒冰射手）进入中毒状态。\n",
    "\n",
    "当提莫攻击艾希，艾希的中毒状态正好持续`duration`秒。\n",
    "\n",
    "正式地讲，提莫在 t 发起发起攻击意味着艾希在时间区间`[t, t + duration - 1]`（含`t `和`t + duration - 1`）处于中毒状态。如果提莫在中毒影响结束**前**再次攻击，中毒状态计时器将会**重置**，在新的攻击之后，中毒影响将会在`duration`秒后结束。\n",
    "\n",
    "给你一个**非递减**的整数数组`timeSeries`，其中`timeSeries[i]`表示提莫在`timeSeries[i]`秒时对艾希发起攻击，以及一个表示中毒持续时间的整数`duration`。\n",
    "\n",
    "返回艾希处于中毒状态的**总**秒数。\n",
    "\n",
    " \n",
    "##### 示例 1：\n",
    "```\n",
    "输入：timeSeries = [1,4], duration = 2\n",
    "输出：4\n",
    "解释：提莫攻击对艾希的影响如下：\n",
    "- 第 1 秒，提莫攻击艾希并使其立即中毒。中毒状态会维持 2 秒，即第 1 秒和第 2 秒。\n",
    "- 第 4 秒，提莫再次攻击艾希，艾希中毒状态又持续 2 秒，即第 4 秒和第 5 秒。\n",
    "艾希在第 1、2、4、5 秒处于中毒状态，所以总中毒秒数是 4 。\n",
    "```\n",
    "##### 示例 2：\n",
    "```\n",
    "输入：timeSeries = [1,2], duration = 2  \n",
    "输出：3  \n",
    "解释：提莫攻击对艾希的影响如下：\n",
    "- 第 1 秒，提莫攻击艾希并使其立即中毒。中毒状态会维持 2 秒，即第 1 秒和第 2 秒。\n",
    "- 第 2 秒，提莫再次攻击艾希，并重置中毒计时器，艾希中毒状态需要持续 2 秒，即第 2 秒和第 3 秒。\n",
    "艾希在第 1、2、3 秒处于中毒状态，所以总中毒秒数是 3 。\n",
    "```\n",
    "\n",
    "##### 提示：\n",
    "\n",
    "- 1 <= timeSeries.length <= 104\n",
    "- 0 <= timeSeries[i], duration <= 107\n",
    "- timeSeries 按 非递减 顺序排列"
   ]
  },
  {
   "cell_type": "code",
   "execution_count": 14,
   "metadata": {},
   "outputs": [
    {
     "data": {
      "text/plain": [
       "8"
      ]
     },
     "execution_count": 14,
     "metadata": {},
     "output_type": "execute_result"
    }
   ],
   "source": [
    "from typing import List\n",
    "from functools import reduce\n",
    "class Solution:\n",
    "    def findPoisonedDuration(self, timeSeries: List[int], duration: int) -> int:\n",
    "        time = duration\n",
    "        n = 0\n",
    "        for i,t in enumerate(timeSeries):\n",
    "            if i == 0:\n",
    "                time = duration\n",
    "            else:\n",
    "                time += min(t-n, duration)\n",
    "            n = t\n",
    "        return time\n",
    "\n",
    "    \n",
    "print(Solution().findPoisonedDuration([1,2,4,9,10,15], 2))\n",
    "    \n",
    "print(Solution().findPoisonedDuration([1,2,3,4,5,6,7,8,9], 0))"
   ]
  },
  {
   "cell_type": "markdown",
   "metadata": {},
   "source": [
    "# 629. [K个逆序对数组](https://leetcode-cn.com/problems/k-inverse-pairs-array) 2021-11-11"
   ]
  },
  {
   "cell_type": "markdown",
   "metadata": {},
   "source": [
    "### 归并排序"
   ]
  },
  {
   "cell_type": "code",
   "execution_count": 17,
   "metadata": {},
   "outputs": [
    {
     "name": "stdout",
     "output_type": "stream",
     "text": [
      "[2, 3, 4, 5, 6, 7, 8, 12, 12, 24, 32, 32, 34, 43, 56, 72, 124, 321, 323, 541, 653, 5265, 6323, 31434]\n",
      "[1, 2, 3, 6, 8]\n"
     ]
    }
   ],
   "source": [
    "from typing import List\n",
    "class Solution:\n",
    "    def merge(self, a: List, start: int, mid: int, end: int):\n",
    "        l = start\n",
    "        j = mid + 1\n",
    "        k = start\n",
    "        while l<=mid and j<=end:\n",
    "            if a[l] > a[j]:\n",
    "                self.b[k] = a[j]\n",
    "                k += 1\n",
    "                j += 1\n",
    "            else:\n",
    "                self.b[k] = a[l]\n",
    "                k += 1\n",
    "                l += 1\n",
    "        while l<=mid:\n",
    "            self.b[k] = a[l]\n",
    "            k += 1\n",
    "            l += 1\n",
    "        while j<=end:\n",
    "            self.b[k] = a[j]\n",
    "            k += 1\n",
    "            j += 1\n",
    "        \n",
    "        for i in range(start, k):\n",
    "            a[i] = self.b[i]\n",
    "                \n",
    "\n",
    "    def mergeSort(self, a: List, start: int, end: int):\n",
    "        if start < end:\n",
    "            mid = start + (end-start)//2\n",
    "            self.mergeSort(a, start, mid)\n",
    "            self.mergeSort(a, mid+1, end)\n",
    "            self.merge(a, start, mid, end)\n",
    "\n",
    "    def sort(self, a: List) -> List:\n",
    "        self.b = [0]*len(a)\n",
    "        self.mergeSort(a, 0, len(a)-1)\n",
    "        return a\n",
    "\n",
    "print(Solution().sort([2,34,24,5,12,321,6,323,124,5265,72,31434,6323,12,43,653,4,3,32,541,32,56,7,8]))\n",
    "print(Solution().sort([2,3,8,6,1]))"
   ]
  },
  {
   "cell_type": "markdown",
   "metadata": {},
   "source": [
    "### 利用归并排序求逆序对数"
   ]
  },
  {
   "cell_type": "code",
   "execution_count": 16,
   "metadata": {},
   "outputs": [
    {
     "name": "stdout",
     "output_type": "stream",
     "text": [
      "134\n",
      "5\n"
     ]
    }
   ],
   "source": [
    "from typing import List\n",
    "class Solution:\n",
    "    def merge(self, a: List, start: int, mid: int, end: int):\n",
    "        l = start\n",
    "        j = mid + 1\n",
    "        k = start\n",
    "        while l<=mid and j<=end:\n",
    "            if a[l] > a[j]:\n",
    "                self.b[k] = a[j]\n",
    "                k += 1\n",
    "                j += 1\n",
    "                self.count += mid - l + 1\n",
    "            else:\n",
    "                self.b[k] = a[l]\n",
    "                k += 1\n",
    "                l += 1\n",
    "        while l<=mid:\n",
    "            self.b[k] = a[l]\n",
    "            k += 1\n",
    "            l += 1\n",
    "        while j<=end:\n",
    "            self.b[k] = a[j]\n",
    "            k += 1\n",
    "            j += 1\n",
    "        \n",
    "        for i in range(start, k):\n",
    "            a[i] = self.b[i]\n",
    "                \n",
    "\n",
    "    def mergeInversePairs(self, a: List, start: int, end: int):\n",
    "        if start < end:\n",
    "            mid = start + (end-start)//2\n",
    "            self.mergeInversePairs(a, start, mid)\n",
    "            self.mergeInversePairs(a, mid+1, end)\n",
    "            self.merge(a, start, mid, end)\n",
    "\n",
    "    def inversePairs(self, a: List) -> int:\n",
    "        self.b = [0]*len(a)\n",
    "        self.count = 0\n",
    "        self.mergeSort(a, 0, len(a)-1)\n",
    "        return self.count\n",
    "\n",
    "print(Solution().inversePairs([2,34,24,5,12,321,6,323,124,5265,72,31434,6323,12,43,653,4,3,32,541,32,56,7,8]))\n",
    "print(Solution().inversePairs([2,3,8,6,1]))"
   ]
  },
  {
   "cell_type": "markdown",
   "metadata": {},
   "source": [
    "### K个逆序对数组"
   ]
  },
  {
   "cell_type": "markdown",
   "metadata": {},
   "source": [
    "给出两个整数 n 和 k，找出所有包含从 1 到 n 的数字，且恰好拥有 k 个逆序对的不同的数组的个数。  \n",
    "\n",
    "逆序对的定义如下：对于数组的第i个和第 j个元素，如果满i < j且 a[i] > a[j]，则其为一个逆序对；否则不是。  \n",
    "\n",
    "由于答案可能很大，只需要返回 答案 mod 10^9 + 7 的值。   \n",
    "\n",
    "示例 1:\n",
    "```\n",
    "输入: n = 3, k = 0\n",
    "输出: 1\n",
    "解释: \n",
    "只有数组 [1,2,3] 包含了从1到3的整数并且正好拥有 0 个逆序对。\n",
    "```\n",
    "\n",
    "示例 2:\n",
    "```\n",
    "输入: n = 3, k = 1\n",
    "输出: 2\n",
    "解释: \n",
    "数组 [1,3,2] 和 [2,1,3] 都有 1 个逆序对。\n",
    "```\n",
    "说明:\n",
    "\n",
    " n 的范围是 [1, 1000] 并且 k 的范围是 [0, 1000]。\n"
   ]
  },
  {
   "cell_type": "markdown",
   "metadata": {},
   "source": [
    "逆序对个数对称排列：  \n",
    "n=3时\n",
    "|逆序对|组合|\n",
    "|---|---|\n",
    "|0|1|\n",
    "|1|2|\n",
    "|2|2|\n",
    "|3|1|\n",
    "\n",
    "n=4时\n",
    "|逆序对|组合|\n",
    "|---|---|\n",
    "|0|1|\n",
    "|1|3|\n",
    "|2|5|\n",
    "|3|6|\n",
    "|4|5|\n",
    "|5|3|\n",
    "|6|1|\n",
    "\n",
    "可以发现其规律,淦 不懂\n",
    "\n",
    "[1]0  \n",
    "[1]1  \n",
    "[1, 1]2 - 2(2-1)/2 = 1  \n",
    "[1, 2, 2, 1]3 - 3(3-1)/2 = 3  \n",
    "[1, 3, 5, 6, 5, 3, 1]4 - 4(4-1)/2 = 6  \n",
    "[1, 4, 9, 15, 20, 22, 20, 15, 9, 4, 1]5 - 5(5-1)/2 = 10  \n",
    "\n",
    "\n",
    "设f[i][j]表示我们使用数字 1, 2,...,i 的排列构成长度为 i 的数组，并且恰好包含 j 个逆序对的方案数。  \n",
    "假设我们选取了数字 k，那么数组的前 i-1 个元素由 1,..., k-1,以及 k+1, ...,i 的某个排列构成。数组中的逆序对的个数可以看成如下的两部分之和：\n",
    "- 数字 k 与前 i-1 个元素产生的逆序对的个数；\n",
    "- 前 i-1 个元素「内部」产生的逆序对个数。\n",
    "\n",
    "第一部分，我们可以求出：数字 k 会贡献 i-k 个逆序对，即 k+1,...,i 与 k 分别产生一个逆序对。  \n",
    "\n",
    "对于第二部分而言，我们希望它能够有 j−(i−k) 个逆序对，这样才能一共有 j 个逆序对。由于我们关心的是前 i−1 个元素「内部」产生的逆序对个数，而逆序对只和元素的「相对大小」有关，因此我们可以：\n",
    "\n",
    "* 1,⋯,k−1 这些元素保持不变；\n",
    "* k+1,⋯,i 这些元素均减少 1，变成 k,⋯,i−1。\n",
    "\n",
    "使得前 i−1 个元素中，任意两个元素的相对大小都不发生变化。此时，我们的目标变成了「对于 1,2,⋯,i−1，希望它能够有 j−(i−k) 个逆序对」，这就是动态规划中的子任务 f[i−1][j−(i−k)]。\n",
    "\n",
    "\n",
    "$$\n",
    "f[i][j]=∑ ^{i}_{k=1} f[i−1][j−(i−k)]=∑ ^{i−1}_{k=0}f[i−1][j−k]\n",
    "$$\n",
    "\n",
    "边界条件为：\n",
    "\n",
    "* f[0][0]=1，即不用任何数字可以构成一个空数组，它包含 0 个逆序对；\n",
    "* f[i][j<0]=0，由于逆序对的数量一定是非负整数，因此所有 j<0 的状态的值都为 0。我们不需要显式地存储这些状态，只需要在进行状态转移遇到这样的项时，注意特殊判断即可。\n",
    "\n",
    "最终的答案即为 f[n][k]。  \n",
    "优化推导后的公式[推导过程](https://leetcode-cn.com/problems/k-inverse-pairs-array/solution/guan-yu-guan-jie-you-hua-gong-shi-de-tui-2nwa/)  \n",
    "f[i][j]=f[i][j−1]−f[i−1][j−i]+f[i−1][j]\n",
    "\n"
   ]
  },
  {
   "cell_type": "code",
   "execution_count": 95,
   "metadata": {},
   "outputs": [
    {
     "name": "stdout",
     "output_type": "stream",
     "text": [
      "n=4\n",
      "5\n",
      "6\n",
      "n=10\n",
      "440\n"
     ]
    }
   ],
   "source": [
    "from functools import reduce\n",
    "class Solution:\n",
    "    def kInversePairs(self, n: int, k: int) -> int:\n",
    "        mod = 10**9 + 7\n",
    "        f = [1] + [0] * k\n",
    "        for i in range(1, n + 1):\n",
    "            g = [0] * (k + 1)\n",
    "            \n",
    "            for j in range(k + 1):\n",
    "                g[j] = (g[j - 1] if j - 1 >= 0 else 0) - (f[j - i] if j - i >= 0 else 0) + f[j]\n",
    "                g[j] %= mod\n",
    "            f = g\n",
    "        \n",
    "        return f[k]\n",
    "print('n=4')\n",
    "# print(Solution().kInversePairs(4,0))\n",
    "# print(Solution().kInversePairs(4,1))\n",
    "print(Solution().kInversePairs(4,2))\n",
    "print(Solution().kInversePairs(4,3))\n",
    "# print(Solution().kInversePairs(4,4))\n",
    "# print(Solution().kInversePairs(4,5))\n",
    "# print(Solution().kInversePairs(4,6))\n",
    "# print('n=3')\n",
    "# print(Solution().kInversePairs(3,0))\n",
    "# print(Solution().kInversePairs(3,1))\n",
    "# print(Solution().kInversePairs(3,2))\n",
    "# print(Solution().kInversePairs(3,3))\n",
    "\n",
    "print('n=10')\n",
    "print(Solution().kInversePairs(10,4))\n"
   ]
  },
  {
   "cell_type": "markdown",
   "metadata": {},
   "source": [
    "# 375. [猜数字大小 II](https://leetcode-cn.com/problems/guess-number-higher-or-lower-ii/)"
   ]
  },
  {
   "cell_type": "code",
   "execution_count": 9,
   "metadata": {},
   "outputs": [
    {
     "data": {
      "text/plain": [
       "16"
      ]
     },
     "execution_count": 9,
     "metadata": {},
     "output_type": "execute_result"
    }
   ],
   "source": [
    "class Solution:\n",
    "    # f[i][j] = min(k+max(f[i][k-1],f[k+1][j]))\n",
    "    def getMoneyAmount(self, n: int) -> int:\n",
    "        # 二维数组\n",
    "        f = [[0] * (n + 1) for _ in range(n + 1)]\n",
    "        for i in range(1, n)[::-1]:\n",
    "            for j in range(i + 1, n + 1):\n",
    "                f[i][j] = min( k + max(f[i][k - 1], f[k + 1][j]) for k in range(i, j) )\n",
    "        return f[1][n]\n",
    "\n",
    "Solution().getMoneyAmount(10)\n",
    "\n",
    "        "
   ]
  },
  {
   "cell_type": "markdown",
   "metadata": {},
   "source": [
    "# 319. [灯泡开关](https://leetcode-cn.com/problems/bulb-switcher/)"
   ]
  },
  {
   "cell_type": "markdown",
   "metadata": {},
   "source": [
    "假设有 k 有 约数x, 则 必有 k/x 的约数 , 约数是成对出现的, 因此当 x^2 = k时, 此时k的约数个数为奇数\n",
    "所以 1到k的完全平方数的个数 为 灯泡亮的个数"
   ]
  },
  {
   "cell_type": "code",
   "execution_count": 43,
   "metadata": {},
   "outputs": [],
   "source": [
    "from math import sqrt\n",
    "class Solution:\n",
    "    # def bulbSwitch(self, n: int) -> int:\n",
    "    #     if n==0:\n",
    "    #         return 0\n",
    "    #     c = 0\n",
    "    #     for i,v in enumerate(range(3, 63246, 2), 1):\n",
    "    #         n -= v\n",
    "    #         if n <=0:\n",
    "    #             c = i \n",
    "    #             break\n",
    "    #     return c\n",
    "    def bulbSwitch(self, n: int) -> int:\n",
    "        return int(sqrt(n+0.5))\n",
    "        \n",
    "# for i in range(1, 100):\n",
    "#     print(i, 'count', Solution().bulbSwitch(i))\n",
    "\n",
    "def fnc(n: int) -> int:\n",
    "    count = 0\n",
    "    for i in range(1, n+1):\n",
    "        c = sum(1 for j in range(1, i+1) if i%j == 0)\n",
    "        if c%2 == 1:\n",
    "            count += 1\n",
    "    return count\n",
    "for i in range(1, 100):\n",
    "    if Solution().bulbSwitch(i) != fnc(i):\n",
    "        print(False)\n",
    "# n = 1000000000\n",
    "# for i,v in enumerate(range(1, 63246, 2), 1):\n",
    "#     n -= v\n",
    "#     if n <=0:\n",
    "#         print(i,v)\n",
    "#         break\n"
   ]
  },
  {
   "cell_type": "markdown",
   "metadata": {},
   "source": [
    "# 391. [完美矩形](https://leetcode-cn.com/problems/perfect-rectangle/)"
   ]
  },
  {
   "cell_type": "markdown",
   "metadata": {},
   "source": [
    "## 扫描线算法\n",
    "### 简介\n",
    "扫描线一般运用在图形上面，它和它的字面意思十分相似，就是一条线在整个图上扫来扫去，它一般被用来解决图形面积，周长等问题。\n",
    "\n",
    "### Atlantis 问题\n",
    "#### 题意\n",
    "在二维坐标系上，给出多个矩形的左下以及右上坐标，求出所有矩形构成的图形的面积。\n",
    "\n",
    "#### 解法\n",
    "根据图片可知总面积可以直接暴力即可求出面积，如果数据大了怎么办？这时就需要讲到 扫描线 算法。\n",
    "\n",
    "#### 流程\n",
    "现在假设我们有一根线，从下往上开始扫描：\n",
    "![](https://oi-wiki.org/geometry/images/scanning.svg)\n",
    "\n",
    "\n",
    "- 如图所示，我们可以把整个矩形分成如图各个颜色不同的小矩形，那么这个小矩形的高就是我们扫过的距离，那么剩下了一个变量，那就是矩形的长一直在变化。\n",
    "- 我们的线段树就是为了维护矩形的长，我们给每一个矩形的上下边进行标记，下面的边标记为 1，上面的边标记为 -1，每遇到一个矩形时，我们知道了标记为 1 的边，我们就加进来这一条矩形的长，等到扫描到 -1 时，证明这一条边需要删除，就删去，利用 1 和 -1 可以轻松的到这种状态。\n",
    "- 还要注意这里的线段树指的并不是线段的一个端点，而指的是一个区间，所以我们要计算的是  和 。\n",
    "- 需要 离散化。"
   ]
  },
  {
   "cell_type": "code",
   "execution_count": 45,
   "metadata": {},
   "outputs": [
    {
     "name": "stdout",
     "output_type": "stream",
     "text": [
      "0\n",
      "180.0\n"
     ]
    }
   ],
   "source": [
    "from typing import List\n",
    "class Solution:\n",
    "    def atlantis(self, rectangles: List[List[int]]):\n",
    "        n = len(rectangles)\n",
    "        p = [dict() for i in range(n*2)]\n",
    "        self.s = [None]*(n*2)\n",
    "        self.lazy = [0]*(n<<3)\n",
    "        self.cl = [dict() for i in range(n<<3)] \n",
    "        \n",
    "        for i,rectangle in enumerate(rectangles):\n",
    "            x1 = rectangle[0]\n",
    "            y1 = rectangle[1]\n",
    "            x2 = rectangle[2]\n",
    "            y2 = rectangle[3]\n",
    "            p[i]['x'] = x1\n",
    "            p[i]['y1'] = y1\n",
    "            p[i]['y2'] = y2\n",
    "            p[i]['flag'] = 1\n",
    "            p[i + n]['x'] = x2\n",
    "            p[i + n]['y1'] = y1\n",
    "            p[i + n]['y2'] = y2\n",
    "            p[i + n]['flag'] = -1\n",
    "\n",
    "            self.s[i] = y1\n",
    "            self.s[i + n] = y2\n",
    "\n",
    "        self.s.sort()\n",
    "        p.sort(key=self.getx)\n",
    "        self.build(1, 1, 2*n)\n",
    "        self.update(1, p[0]['y1'], p[0]['y2'], p[0]['flag'])\n",
    "\n",
    "        self.ans = 0\n",
    "        for i in range(1, 2*n):\n",
    "            self.ans += (p[i]['x']-p[i-1]['x']) * self.cl[1]['sum']\n",
    "            self.update(1, p[i]['y1'], p[i]['y2'], p[i]['flag'])\n",
    "        print(self.ans)\n",
    "\n",
    "    def getx(self, elem):\n",
    "        return elem['x']\n",
    "\n",
    "    def build(self, rt, l, r):\n",
    "        if r-l>1:\n",
    "            self.cl[rt]['l'] = self.s[l - 1]\n",
    "            self.cl[rt]['r'] = self.s[r - 1]\n",
    "            self.build(rt*2, l, (l+r)//2)\n",
    "            self.build(rt*2+1, (l+r)//2, r)\n",
    "            self.pushup(rt)\n",
    "        else:\n",
    "            self.cl[rt]['l'] = self.s[l - 1]\n",
    "            self.cl[rt]['r'] = self.s[r - 1]\n",
    "            self.cl[rt]['sum'] = 0\n",
    "        \n",
    "\n",
    "    def pushup(self, rt):\n",
    "        if self.lazy[rt]>0:\n",
    "            self.cl[rt]['sum'] = self.cl[rt]['r'] - self.cl[rt]['l']\n",
    "        else:\n",
    "            self.cl[rt]['sum'] = self.cl[rt*2].get('sum', 0) + self.cl[rt*2+1].get('sum', 0)\n",
    "\n",
    "    def update(self, rt, y1, y2, flag):\n",
    "        if self.cl[rt]['l'] == y1 and self.cl[rt]['r'] == y2:\n",
    "            self.lazy[rt]+=flag\n",
    "            self.pushup(rt)\n",
    "        else:\n",
    "            if self.cl[rt*2]['r'] > y1 :\n",
    "                self.update(rt*2, y1, min(self.cl[rt*2]['r'], y2), flag)\n",
    "            if self.cl[rt*2+1]['l'] < y2 :\n",
    "                self.update(rt*2+1, max(self.cl[rt*2+1]['l'], y1), y2, flag)\n",
    "            self.pushup(rt)\n",
    "                    \n",
    "            \n",
    "Solution().atlantis([[10,10,20,20],[15,15,25,25.5]])\n",
    "Solution().atlantis([[110,110,120,120],[115,115,125,125.5]])\n",
    "Solution().atlantis([[-20,-20,-10,-10],[-25,-25.5,-15,-15]])\n",
    "        "
   ]
  },
  {
   "cell_type": "code",
   "execution_count": 7,
   "metadata": {},
   "outputs": [
    {
     "name": "stdout",
     "output_type": "stream",
     "text": [
      "False\n",
      "True\n",
      "False\n"
     ]
    }
   ],
   "source": [
    "from typing import List\n",
    "class Solution:\n",
    "    def isRectangleCover(self, rectangles: List[List[int]]) -> bool:\n",
    "        n = len(rectangles)\n",
    "        rs = [[0] * 4 for _ in range(2*n)]\n",
    "        i = 0\n",
    "        idx = 0\n",
    "        while i < n:\n",
    "            re = rectangles[i]\n",
    "            rs[idx] = [re[0], re[1], re[3], 1]\n",
    "            idx += 1\n",
    "            rs[idx] = [re[2], re[1], re[3], -1]\n",
    "            idx += 1\n",
    "            i += 1\n",
    "        \n",
    "        rs = sorted(rs, key=lambda x: (x[0], x[1]))\n",
    "        n *= 2\n",
    "        l1 = []\n",
    "        l2 = []\n",
    "        l = 0\n",
    "        while l < n:\n",
    "            r = l\n",
    "            l1 = []\n",
    "            l2 = []\n",
    "            while r < n and rs[r][0] == rs[l][0]:\n",
    "                r+=1\n",
    "            for i in range(l,r):\n",
    "                cur = [rs[i][1], rs[i][2]]\n",
    "                if rs[i][3] == 1:\n",
    "                    if self.append(l1, cur):\n",
    "                        return False\n",
    "                else:\n",
    "                    if self.append(l2, cur):\n",
    "                        return False\n",
    "            \n",
    "            if l > 0 and r < n:\n",
    "                if len(l1) != len(l2):\n",
    "                    return False\n",
    "                \n",
    "                for i in range(len(l1)):\n",
    "                    if l1[i][0] == l2[i][0] and l1[i][1] == l2[i][1]:\n",
    "                        continue\n",
    "                    return False\n",
    "            else:\n",
    "                if len(l1) + len(l2) != 1:\n",
    "                    return False\n",
    "            \n",
    "            l = r\n",
    "\n",
    "        return True\n",
    "    \n",
    "    def append(self, list, cur) -> bool:\n",
    "        if len(list) == 0:\n",
    "            list.append(cur)\n",
    "        else:\n",
    "            prev = list[-1]\n",
    "            if cur[0] < prev[1]:\n",
    "                return True\n",
    "            elif cur[0] == prev[1]:\n",
    "                prev[1] = cur[1]\n",
    "            else:\n",
    "                list.append(cur)\n",
    "        return False\n",
    "\n",
    "print(Solution().isRectangleCover([[1,1,2,3],[1,3,2,4],[3,1,4,2],[3,2,4,4]]))\n",
    "print(Solution().isRectangleCover([[1,1,3,3],[3,1,4,2],[3,2,4,4],[1,3,2,4],[2,3,3,4]]))\n",
    "print(Solution().isRectangleCover([[0,0,4,1],[0,0,4,1]]))\n"
   ]
  },
  {
   "cell_type": "markdown",
   "metadata": {},
   "source": [
    "# 318. [最大单词长度乘积](https://leetcode-cn.com/problems/maximum-product-of-word-lengths/)"
   ]
  },
  {
   "cell_type": "code",
   "execution_count": 36,
   "metadata": {},
   "outputs": [
    {
     "name": "stdout",
     "output_type": "stream",
     "text": [
      "58720383 58721279 False\n",
      "58720352 927 True\n",
      "3 14 False\n",
      "3 6 False\n"
     ]
    }
   ],
   "source": [
    "class Solution:\n",
    "    def convert(self, word) -> int:\n",
    "        mark = 0\n",
    "        for i in range(len(word)):\n",
    "            ch = word[i]\n",
    "            offset = ord(ch) - ord('a')\n",
    "            tmp = 1 << offset\n",
    "            if mark & tmp != tmp:\n",
    "                mark |= tmp\n",
    "        return mark\n",
    "\n",
    "m1 = Solution().convert('abcdefgxyz')\n",
    "m2 = Solution().convert('abcdefghijxyz')\n",
    "print(m1, m2, m1&m2 == 0)\n",
    "\n",
    "m1 = Solution().convert('fgxyz')\n",
    "m2 = Solution().convert('abcdehij')\n",
    "print(m1, m2, m1&m2 == 0)\n",
    "\n",
    "m1 = Solution().convert('ab')\n",
    "m2 = Solution().convert('bcd')\n",
    "print(m1, m2, m1&m2 == 0)\n",
    "\n",
    "m1 = Solution().convert('ab')\n",
    "m2 = Solution().convert('bc')\n",
    "print(m1, m2, m1&m2 == 0)"
   ]
  },
  {
   "cell_type": "code",
   "execution_count": 39,
   "metadata": {},
   "outputs": [
    {
     "name": "stdout",
     "output_type": "stream",
     "text": [
      "0\n",
      "4\n",
      "16\n"
     ]
    }
   ],
   "source": [
    "from typing import List\n",
    "class Solution:\n",
    "    def maxProduct(self, words: List[str]) -> int:\n",
    "        n = len(words)\n",
    "        f = [[0] * 2 for _ in range(n)]\n",
    "        for i,word in enumerate(words):\n",
    "            f[i][0] = self.convert(word)\n",
    "            f[i][1] = len(word)\n",
    "        \n",
    "        m = 0\n",
    "        for i in range(n):\n",
    "            for j in range(n):\n",
    "                if f[i][0] & f[j][0] != 0:\n",
    "                    continue\n",
    "                m = max(m, f[i][1] * f[j][1])\n",
    "\n",
    "        return m\n",
    "    \n",
    "    def convert(self, word) -> int:\n",
    "        mark = 0\n",
    "        for i in range(len(word)):\n",
    "            ch = word[i]\n",
    "            offset = ord(ch) - ord('a')\n",
    "            tmp = 1 << offset\n",
    "            if mark & tmp != tmp:\n",
    "                mark |= tmp\n",
    "        return mark\n",
    "print(Solution().maxProduct([\"a\",\"aa\",\"aaa\",\"aaaa\"]))\n",
    "print(Solution().maxProduct([\"a\",\"ab\",\"abc\",\"d\",\"cd\",\"bcd\",\"abcd\"])) \n",
    "print(Solution().maxProduct([\"abcw\",\"baz\",\"foo\",\"bar\",\"xtfn\",\"abcdef\"]))"
   ]
  },
  {
   "cell_type": "markdown",
   "metadata": {},
   "source": [
    "淦 写那么一大堆 实际上在python中只需要几行就搞定"
   ]
  },
  {
   "cell_type": "code",
   "execution_count": 46,
   "metadata": {},
   "outputs": [
    {
     "name": "stdout",
     "output_type": "stream",
     "text": [
      "0\n",
      "4\n",
      "16\n"
     ]
    }
   ],
   "source": [
    "from itertools import product\n",
    "from typing import List\n",
    "from functools import reduce\n",
    "from collections import defaultdict\n",
    "class Solution:\n",
    "    def maxProduct(self, words: List[str]) -> int:\n",
    "        map = defaultdict(int)\n",
    "        for word in words:\n",
    "            mask = reduce(lambda a,b:a|(1<<(ord(b)-ord('a'))), word, 0)\n",
    "            map[mask] = len(word)\n",
    "        return max((map[x]*map[y] for x, y in product(map, repeat=2) if x & y == 0), default = 0)\n",
    "\n",
    "print(Solution().maxProduct([\"a\",\"aa\",\"aaa\",\"aaaa\"]))\n",
    "print(Solution().maxProduct([\"a\",\"ab\",\"abc\",\"d\",\"cd\",\"bcd\",\"abcd\"])) \n",
    "print(Solution().maxProduct([\"abcw\",\"baz\",\"foo\",\"bar\",\"xtfn\",\"abcdef\"]))"
   ]
  }
 ],
 "metadata": {
  "interpreter": {
   "hash": "addc290ad06c3bc8a70039df2b011f561b54e541a49a8aaa0a6e89a01237bc66"
  },
  "kernelspec": {
   "display_name": "Python 3.8.10 64-bit ('.venv': venv)",
   "name": "python3"
  },
  "language_info": {
   "codemirror_mode": {
    "name": "ipython",
    "version": 3
   },
   "file_extension": ".py",
   "mimetype": "text/x-python",
   "name": "python",
   "nbconvert_exporter": "python",
   "pygments_lexer": "ipython3",
   "version": "3.8.10"
  },
  "orig_nbformat": 4
 },
 "nbformat": 4,
 "nbformat_minor": 2
}
