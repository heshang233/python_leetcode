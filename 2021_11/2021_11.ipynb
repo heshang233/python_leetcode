{
 "cells": [
  {
   "cell_type": "markdown",
   "metadata": {},
   "source": [
    "## 495. [提莫攻击](https://leetcode-cn.com/problems/teemo-attacking/) 2021-11-10"
   ]
  },
  {
   "cell_type": "markdown",
   "metadata": {},
   "source": [
    "在《英雄联盟》的世界中，有一个叫 “提莫” 的英雄。他的攻击可以让敌方英雄艾希（编者注：寒冰射手）进入中毒状态。\n",
    "\n",
    "当提莫攻击艾希，艾希的中毒状态正好持续`duration`秒。\n",
    "\n",
    "正式地讲，提莫在 t 发起发起攻击意味着艾希在时间区间`[t, t + duration - 1]`（含`t `和`t + duration - 1`）处于中毒状态。如果提莫在中毒影响结束**前**再次攻击，中毒状态计时器将会**重置**，在新的攻击之后，中毒影响将会在`duration`秒后结束。\n",
    "\n",
    "给你一个**非递减**的整数数组`timeSeries`，其中`timeSeries[i]`表示提莫在`timeSeries[i]`秒时对艾希发起攻击，以及一个表示中毒持续时间的整数`duration`。\n",
    "\n",
    "返回艾希处于中毒状态的**总**秒数。\n",
    "\n",
    " \n",
    "##### 示例 1：\n",
    "```\n",
    "输入：timeSeries = [1,4], duration = 2\n",
    "输出：4\n",
    "解释：提莫攻击对艾希的影响如下：\n",
    "- 第 1 秒，提莫攻击艾希并使其立即中毒。中毒状态会维持 2 秒，即第 1 秒和第 2 秒。\n",
    "- 第 4 秒，提莫再次攻击艾希，艾希中毒状态又持续 2 秒，即第 4 秒和第 5 秒。\n",
    "艾希在第 1、2、4、5 秒处于中毒状态，所以总中毒秒数是 4 。\n",
    "```\n",
    "##### 示例 2：\n",
    "```\n",
    "输入：timeSeries = [1,2], duration = 2  \n",
    "输出：3  \n",
    "解释：提莫攻击对艾希的影响如下：\n",
    "- 第 1 秒，提莫攻击艾希并使其立即中毒。中毒状态会维持 2 秒，即第 1 秒和第 2 秒。\n",
    "- 第 2 秒，提莫再次攻击艾希，并重置中毒计时器，艾希中毒状态需要持续 2 秒，即第 2 秒和第 3 秒。\n",
    "艾希在第 1、2、3 秒处于中毒状态，所以总中毒秒数是 3 。\n",
    "```\n",
    "\n",
    "##### 提示：\n",
    "\n",
    "- 1 <= timeSeries.length <= 104\n",
    "- 0 <= timeSeries[i], duration <= 107\n",
    "- timeSeries 按 非递减 顺序排列"
   ]
  },
  {
   "cell_type": "code",
   "execution_count": 1,
   "metadata": {},
   "outputs": [
    {
     "name": "stdout",
     "output_type": "stream",
     "text": [
      "10\n",
      "0\n"
     ]
    }
   ],
   "source": [
    "from typing import List\n",
    "from functools import reduce\n",
    "class Solution:\n",
    "    def findPoisonedDuration(self, timeSeries: List[int], duration: int) -> int:\n",
    "        time = duration\n",
    "        n = 0\n",
    "        for i,t in enumerate(timeSeries):\n",
    "            if i == 0:\n",
    "                time = duration\n",
    "            else:\n",
    "                time += min(t-n, duration)\n",
    "            n = t\n",
    "        return time\n",
    "\n",
    "    \n",
    "print(Solution().findPoisonedDuration([1,2,4,9,10,15], 2))\n",
    "    \n",
    "print(Solution().findPoisonedDuration([1,2,3,4,5,6,7,8,9], 0))"
   ]
  },
  {
   "cell_type": "markdown",
   "metadata": {},
   "source": [
    "# 629. [K个逆序对数组](https://leetcode-cn.com/problems/k-inverse-pairs-array) 2021-11-11"
   ]
  },
  {
   "cell_type": "markdown",
   "metadata": {},
   "source": [
    "### 归并排序"
   ]
  },
  {
   "cell_type": "code",
   "execution_count": 17,
   "metadata": {},
   "outputs": [
    {
     "name": "stdout",
     "output_type": "stream",
     "text": [
      "[2, 3, 4, 5, 6, 7, 8, 12, 12, 24, 32, 32, 34, 43, 56, 72, 124, 321, 323, 541, 653, 5265, 6323, 31434]\n",
      "[1, 2, 3, 6, 8]\n"
     ]
    }
   ],
   "source": [
    "from typing import List\n",
    "class Solution:\n",
    "    def merge(self, a: List, start: int, mid: int, end: int):\n",
    "        l = start\n",
    "        j = mid + 1\n",
    "        k = start\n",
    "        while l<=mid and j<=end:\n",
    "            if a[l] > a[j]:\n",
    "                self.b[k] = a[j]\n",
    "                k += 1\n",
    "                j += 1\n",
    "            else:\n",
    "                self.b[k] = a[l]\n",
    "                k += 1\n",
    "                l += 1\n",
    "        while l<=mid:\n",
    "            self.b[k] = a[l]\n",
    "            k += 1\n",
    "            l += 1\n",
    "        while j<=end:\n",
    "            self.b[k] = a[j]\n",
    "            k += 1\n",
    "            j += 1\n",
    "        \n",
    "        for i in range(start, k):\n",
    "            a[i] = self.b[i]\n",
    "                \n",
    "\n",
    "    def mergeSort(self, a: List, start: int, end: int):\n",
    "        if start < end:\n",
    "            mid = start + (end-start)//2\n",
    "            self.mergeSort(a, start, mid)\n",
    "            self.mergeSort(a, mid+1, end)\n",
    "            self.merge(a, start, mid, end)\n",
    "\n",
    "    def sort(self, a: List) -> List:\n",
    "        self.b = [0]*len(a)\n",
    "        self.mergeSort(a, 0, len(a)-1)\n",
    "        return a\n",
    "\n",
    "print(Solution().sort([2,34,24,5,12,321,6,323,124,5265,72,31434,6323,12,43,653,4,3,32,541,32,56,7,8]))\n",
    "print(Solution().sort([2,3,8,6,1]))"
   ]
  },
  {
   "cell_type": "markdown",
   "metadata": {},
   "source": [
    "### 利用归并排序求逆序对数"
   ]
  },
  {
   "cell_type": "code",
   "execution_count": 16,
   "metadata": {},
   "outputs": [
    {
     "name": "stdout",
     "output_type": "stream",
     "text": [
      "134\n",
      "5\n"
     ]
    }
   ],
   "source": [
    "from typing import List\n",
    "class Solution:\n",
    "    def merge(self, a: List, start: int, mid: int, end: int):\n",
    "        l = start\n",
    "        j = mid + 1\n",
    "        k = start\n",
    "        while l<=mid and j<=end:\n",
    "            if a[l] > a[j]:\n",
    "                self.b[k] = a[j]\n",
    "                k += 1\n",
    "                j += 1\n",
    "                self.count += mid - l + 1\n",
    "            else:\n",
    "                self.b[k] = a[l]\n",
    "                k += 1\n",
    "                l += 1\n",
    "        while l<=mid:\n",
    "            self.b[k] = a[l]\n",
    "            k += 1\n",
    "            l += 1\n",
    "        while j<=end:\n",
    "            self.b[k] = a[j]\n",
    "            k += 1\n",
    "            j += 1\n",
    "        \n",
    "        for i in range(start, k):\n",
    "            a[i] = self.b[i]\n",
    "                \n",
    "\n",
    "    def mergeInversePairs(self, a: List, start: int, end: int):\n",
    "        if start < end:\n",
    "            mid = start + (end-start)//2\n",
    "            self.mergeInversePairs(a, start, mid)\n",
    "            self.mergeInversePairs(a, mid+1, end)\n",
    "            self.merge(a, start, mid, end)\n",
    "\n",
    "    def inversePairs(self, a: List) -> int:\n",
    "        self.b = [0]*len(a)\n",
    "        self.count = 0\n",
    "        self.mergeSort(a, 0, len(a)-1)\n",
    "        return self.count\n",
    "\n",
    "print(Solution().inversePairs([2,34,24,5,12,321,6,323,124,5265,72,31434,6323,12,43,653,4,3,32,541,32,56,7,8]))\n",
    "print(Solution().inversePairs([2,3,8,6,1]))"
   ]
  },
  {
   "cell_type": "markdown",
   "metadata": {},
   "source": [
    "### K个逆序对数组"
   ]
  },
  {
   "cell_type": "markdown",
   "metadata": {},
   "source": [
    "给出两个整数 n 和 k，找出所有包含从 1 到 n 的数字，且恰好拥有 k 个逆序对的不同的数组的个数。  \n",
    "\n",
    "逆序对的定义如下：对于数组的第i个和第 j个元素，如果满i < j且 a[i] > a[j]，则其为一个逆序对；否则不是。  \n",
    "\n",
    "由于答案可能很大，只需要返回 答案 mod 10^9 + 7 的值。   \n",
    "\n",
    "示例 1:\n",
    "```\n",
    "输入: n = 3, k = 0\n",
    "输出: 1\n",
    "解释: \n",
    "只有数组 [1,2,3] 包含了从1到3的整数并且正好拥有 0 个逆序对。\n",
    "```\n",
    "\n",
    "示例 2:\n",
    "```\n",
    "输入: n = 3, k = 1\n",
    "输出: 2\n",
    "解释: \n",
    "数组 [1,3,2] 和 [2,1,3] 都有 1 个逆序对。\n",
    "```\n",
    "说明:\n",
    "\n",
    " n 的范围是 [1, 1000] 并且 k 的范围是 [0, 1000]。\n"
   ]
  },
  {
   "cell_type": "markdown",
   "metadata": {},
   "source": [
    "逆序对个数对称排列：  \n",
    "n=3时\n",
    "|逆序对|组合|\n",
    "|---|---|\n",
    "|0|1|\n",
    "|1|2|\n",
    "|2|2|\n",
    "|3|1|\n",
    "\n",
    "n=4时\n",
    "|逆序对|组合|\n",
    "|---|---|\n",
    "|0|1|\n",
    "|1|3|\n",
    "|2|5|\n",
    "|3|6|\n",
    "|4|5|\n",
    "|5|3|\n",
    "|6|1|\n",
    "\n",
    "可以发现其规律,淦 不懂\n",
    "\n",
    "[1]0  \n",
    "[1]1  \n",
    "[1, 1]2 - 2(2-1)/2 = 1  \n",
    "[1, 2, 2, 1]3 - 3(3-1)/2 = 3  \n",
    "[1, 3, 5, 6, 5, 3, 1]4 - 4(4-1)/2 = 6  \n",
    "[1, 4, 9, 15, 20, 22, 20, 15, 9, 4, 1]5 - 5(5-1)/2 = 10  \n",
    "\n",
    "\n",
    "设f[i][j]表示我们使用数字 1, 2,...,i 的排列构成长度为 i 的数组，并且恰好包含 j 个逆序对的方案数。  \n",
    "假设我们选取了数字 k，那么数组的前 i-1 个元素由 1,..., k-1,以及 k+1, ...,i 的某个排列构成。数组中的逆序对的个数可以看成如下的两部分之和：\n",
    "- 数字 k 与前 i-1 个元素产生的逆序对的个数；\n",
    "- 前 i-1 个元素「内部」产生的逆序对个数。\n",
    "\n",
    "第一部分，我们可以求出：数字 k 会贡献 i-k 个逆序对，即 k+1,...,i 与 k 分别产生一个逆序对。  \n",
    "\n",
    "对于第二部分而言，我们希望它能够有 j−(i−k) 个逆序对，这样才能一共有 j 个逆序对。由于我们关心的是前 i−1 个元素「内部」产生的逆序对个数，而逆序对只和元素的「相对大小」有关，因此我们可以：\n",
    "\n",
    "* 1,⋯,k−1 这些元素保持不变；\n",
    "* k+1,⋯,i 这些元素均减少 1，变成 k,⋯,i−1。\n",
    "\n",
    "使得前 i−1 个元素中，任意两个元素的相对大小都不发生变化。此时，我们的目标变成了「对于 1,2,⋯,i−1，希望它能够有 j−(i−k) 个逆序对」，这就是动态规划中的子任务 f[i−1][j−(i−k)]。\n",
    "\n",
    "\n",
    "$$\n",
    "f[i][j]=∑ ^{i}_{k=1} f[i−1][j−(i−k)]=∑ ^{i−1}_{k=0}f[i−1][j−k]\n",
    "$$\n",
    "\n",
    "边界条件为：\n",
    "\n",
    "* f[0][0]=1，即不用任何数字可以构成一个空数组，它包含 0 个逆序对；\n",
    "* f[i][j<0]=0，由于逆序对的数量一定是非负整数，因此所有 j<0 的状态的值都为 0。我们不需要显式地存储这些状态，只需要在进行状态转移遇到这样的项时，注意特殊判断即可。\n",
    "\n",
    "最终的答案即为 f[n][k]。  \n",
    "优化推导后的公式[推导过程](https://leetcode-cn.com/problems/k-inverse-pairs-array/solution/guan-yu-guan-jie-you-hua-gong-shi-de-tui-2nwa/)  \n",
    "f[i][j]=f[i][j−1]−f[i−1][j−i]+f[i−1][j]\n",
    "\n"
   ]
  },
  {
   "cell_type": "code",
   "execution_count": 95,
   "metadata": {},
   "outputs": [
    {
     "name": "stdout",
     "output_type": "stream",
     "text": [
      "n=4\n",
      "5\n",
      "6\n",
      "n=10\n",
      "440\n"
     ]
    }
   ],
   "source": [
    "from functools import reduce\n",
    "class Solution:\n",
    "    def kInversePairs(self, n: int, k: int) -> int:\n",
    "        mod = 10**9 + 7\n",
    "        f = [1] + [0] * k\n",
    "        for i in range(1, n + 1):\n",
    "            g = [0] * (k + 1)\n",
    "            \n",
    "            for j in range(k + 1):\n",
    "                g[j] = (g[j - 1] if j - 1 >= 0 else 0) - (f[j - i] if j - i >= 0 else 0) + f[j]\n",
    "                g[j] %= mod\n",
    "            f = g\n",
    "        \n",
    "        return f[k]\n",
    "print('n=4')\n",
    "# print(Solution().kInversePairs(4,0))\n",
    "# print(Solution().kInversePairs(4,1))\n",
    "print(Solution().kInversePairs(4,2))\n",
    "print(Solution().kInversePairs(4,3))\n",
    "# print(Solution().kInversePairs(4,4))\n",
    "# print(Solution().kInversePairs(4,5))\n",
    "# print(Solution().kInversePairs(4,6))\n",
    "# print('n=3')\n",
    "# print(Solution().kInversePairs(3,0))\n",
    "# print(Solution().kInversePairs(3,1))\n",
    "# print(Solution().kInversePairs(3,2))\n",
    "# print(Solution().kInversePairs(3,3))\n",
    "\n",
    "print('n=10')\n",
    "print(Solution().kInversePairs(10,4))\n"
   ]
  },
  {
   "cell_type": "markdown",
   "metadata": {},
   "source": [
    "# 375. [猜数字大小 II](https://leetcode-cn.com/problems/guess-number-higher-or-lower-ii/)"
   ]
  },
  {
   "cell_type": "code",
   "execution_count": 9,
   "metadata": {},
   "outputs": [
    {
     "data": {
      "text/plain": [
       "16"
      ]
     },
     "execution_count": 9,
     "metadata": {},
     "output_type": "execute_result"
    }
   ],
   "source": [
    "class Solution:\n",
    "    # f[i][j] = min(k+max(f[i][k-1],f[k+1][j]))\n",
    "    def getMoneyAmount(self, n: int) -> int:\n",
    "        # 二维数组\n",
    "        f = [[0] * (n + 1) for _ in range(n + 1)]\n",
    "        for i in range(1, n)[::-1]:\n",
    "            for j in range(i + 1, n + 1):\n",
    "                f[i][j] = min( k + max(f[i][k - 1], f[k + 1][j]) for k in range(i, j) )\n",
    "        return f[1][n]\n",
    "\n",
    "Solution().getMoneyAmount(10)\n",
    "\n",
    "        "
   ]
  },
  {
   "cell_type": "markdown",
   "metadata": {},
   "source": [
    "# 319. [灯泡开关](https://leetcode-cn.com/problems/bulb-switcher/)"
   ]
  },
  {
   "cell_type": "markdown",
   "metadata": {},
   "source": [
    "假设有 k 有 约数x, 则 必有 k/x 的约数 , 约数是成对出现的, 因此当 x^2 = k时, 此时k的约数个数为奇数\n",
    "所以 1到k的完全平方数的个数 为 灯泡亮的个数"
   ]
  },
  {
   "cell_type": "code",
   "execution_count": 43,
   "metadata": {},
   "outputs": [],
   "source": [
    "from math import sqrt\n",
    "class Solution:\n",
    "    # def bulbSwitch(self, n: int) -> int:\n",
    "    #     if n==0:\n",
    "    #         return 0\n",
    "    #     c = 0\n",
    "    #     for i,v in enumerate(range(3, 63246, 2), 1):\n",
    "    #         n -= v\n",
    "    #         if n <=0:\n",
    "    #             c = i \n",
    "    #             break\n",
    "    #     return c\n",
    "    def bulbSwitch(self, n: int) -> int:\n",
    "        return int(sqrt(n+0.5))\n",
    "        \n",
    "# for i in range(1, 100):\n",
    "#     print(i, 'count', Solution().bulbSwitch(i))\n",
    "\n",
    "def fnc(n: int) -> int:\n",
    "    count = 0\n",
    "    for i in range(1, n+1):\n",
    "        c = sum(1 for j in range(1, i+1) if i%j == 0)\n",
    "        if c%2 == 1:\n",
    "            count += 1\n",
    "    return count\n",
    "for i in range(1, 100):\n",
    "    if Solution().bulbSwitch(i) != fnc(i):\n",
    "        print(False)\n",
    "# n = 1000000000\n",
    "# for i,v in enumerate(range(1, 63246, 2), 1):\n",
    "#     n -= v\n",
    "#     if n <=0:\n",
    "#         print(i,v)\n",
    "#         break\n"
   ]
  },
  {
   "cell_type": "markdown",
   "metadata": {},
   "source": [
    "# 391. [完美矩形](https://leetcode-cn.com/problems/perfect-rectangle/)"
   ]
  },
  {
   "cell_type": "markdown",
   "metadata": {},
   "source": [
    "## 扫描线算法\n",
    "### 简介\n",
    "扫描线一般运用在图形上面，它和它的字面意思十分相似，就是一条线在整个图上扫来扫去，它一般被用来解决图形面积，周长等问题。\n",
    "\n",
    "### Atlantis 问题\n",
    "#### 题意\n",
    "在二维坐标系上，给出多个矩形的左下以及右上坐标，求出所有矩形构成的图形的面积。\n",
    "\n",
    "#### 解法\n",
    "根据图片可知总面积可以直接暴力即可求出面积，如果数据大了怎么办？这时就需要讲到 扫描线 算法。\n",
    "\n",
    "#### 流程\n",
    "现在假设我们有一根线，从下往上开始扫描：\n",
    "![](https://oi-wiki.org/geometry/images/scanning.svg)\n",
    "\n",
    "\n",
    "- 如图所示，我们可以把整个矩形分成如图各个颜色不同的小矩形，那么这个小矩形的高就是我们扫过的距离，那么剩下了一个变量，那就是矩形的长一直在变化。\n",
    "- 我们的线段树就是为了维护矩形的长，我们给每一个矩形的上下边进行标记，下面的边标记为 1，上面的边标记为 -1，每遇到一个矩形时，我们知道了标记为 1 的边，我们就加进来这一条矩形的长，等到扫描到 -1 时，证明这一条边需要删除，就删去，利用 1 和 -1 可以轻松的到这种状态。\n",
    "- 还要注意这里的线段树指的并不是线段的一个端点，而指的是一个区间，所以我们要计算的是  和 。\n",
    "- 需要 离散化。"
   ]
  },
  {
   "cell_type": "code",
   "execution_count": 45,
   "metadata": {},
   "outputs": [
    {
     "name": "stdout",
     "output_type": "stream",
     "text": [
      "0\n",
      "180.0\n"
     ]
    }
   ],
   "source": [
    "from typing import List\n",
    "class Solution:\n",
    "    def atlantis(self, rectangles: List[List[int]]):\n",
    "        n = len(rectangles)\n",
    "        p = [dict() for i in range(n*2)]\n",
    "        self.s = [None]*(n*2)\n",
    "        self.lazy = [0]*(n<<3)\n",
    "        self.cl = [dict() for i in range(n<<3)] \n",
    "        \n",
    "        for i,rectangle in enumerate(rectangles):\n",
    "            x1 = rectangle[0]\n",
    "            y1 = rectangle[1]\n",
    "            x2 = rectangle[2]\n",
    "            y2 = rectangle[3]\n",
    "            p[i]['x'] = x1\n",
    "            p[i]['y1'] = y1\n",
    "            p[i]['y2'] = y2\n",
    "            p[i]['flag'] = 1\n",
    "            p[i + n]['x'] = x2\n",
    "            p[i + n]['y1'] = y1\n",
    "            p[i + n]['y2'] = y2\n",
    "            p[i + n]['flag'] = -1\n",
    "\n",
    "            self.s[i] = y1\n",
    "            self.s[i + n] = y2\n",
    "\n",
    "        self.s.sort()\n",
    "        p.sort(key=self.getx)\n",
    "        self.build(1, 1, 2*n)\n",
    "        self.update(1, p[0]['y1'], p[0]['y2'], p[0]['flag'])\n",
    "\n",
    "        self.ans = 0\n",
    "        for i in range(1, 2*n):\n",
    "            self.ans += (p[i]['x']-p[i-1]['x']) * self.cl[1]['sum']\n",
    "            self.update(1, p[i]['y1'], p[i]['y2'], p[i]['flag'])\n",
    "        print(self.ans)\n",
    "\n",
    "    def getx(self, elem):\n",
    "        return elem['x']\n",
    "\n",
    "    def build(self, rt, l, r):\n",
    "        if r-l>1:\n",
    "            self.cl[rt]['l'] = self.s[l - 1]\n",
    "            self.cl[rt]['r'] = self.s[r - 1]\n",
    "            self.build(rt*2, l, (l+r)//2)\n",
    "            self.build(rt*2+1, (l+r)//2, r)\n",
    "            self.pushup(rt)\n",
    "        else:\n",
    "            self.cl[rt]['l'] = self.s[l - 1]\n",
    "            self.cl[rt]['r'] = self.s[r - 1]\n",
    "            self.cl[rt]['sum'] = 0\n",
    "        \n",
    "\n",
    "    def pushup(self, rt):\n",
    "        if self.lazy[rt]>0:\n",
    "            self.cl[rt]['sum'] = self.cl[rt]['r'] - self.cl[rt]['l']\n",
    "        else:\n",
    "            self.cl[rt]['sum'] = self.cl[rt*2].get('sum', 0) + self.cl[rt*2+1].get('sum', 0)\n",
    "\n",
    "    def update(self, rt, y1, y2, flag):\n",
    "        if self.cl[rt]['l'] == y1 and self.cl[rt]['r'] == y2:\n",
    "            self.lazy[rt]+=flag\n",
    "            self.pushup(rt)\n",
    "        else:\n",
    "            if self.cl[rt*2]['r'] > y1 :\n",
    "                self.update(rt*2, y1, min(self.cl[rt*2]['r'], y2), flag)\n",
    "            if self.cl[rt*2+1]['l'] < y2 :\n",
    "                self.update(rt*2+1, max(self.cl[rt*2+1]['l'], y1), y2, flag)\n",
    "            self.pushup(rt)\n",
    "                    \n",
    "            \n",
    "Solution().atlantis([[10,10,20,20],[15,15,25,25.5]])\n",
    "Solution().atlantis([[110,110,120,120],[115,115,125,125.5]])\n",
    "Solution().atlantis([[-20,-20,-10,-10],[-25,-25.5,-15,-15]])\n",
    "        "
   ]
  },
  {
   "cell_type": "code",
   "execution_count": 7,
   "metadata": {},
   "outputs": [
    {
     "name": "stdout",
     "output_type": "stream",
     "text": [
      "False\n",
      "True\n",
      "False\n"
     ]
    }
   ],
   "source": [
    "from typing import List\n",
    "class Solution:\n",
    "    def isRectangleCover(self, rectangles: List[List[int]]) -> bool:\n",
    "        n = len(rectangles)\n",
    "        rs = [[0] * 4 for _ in range(2*n)]\n",
    "        i = 0\n",
    "        idx = 0\n",
    "        while i < n:\n",
    "            re = rectangles[i]\n",
    "            rs[idx] = [re[0], re[1], re[3], 1]\n",
    "            idx += 1\n",
    "            rs[idx] = [re[2], re[1], re[3], -1]\n",
    "            idx += 1\n",
    "            i += 1\n",
    "        \n",
    "        rs = sorted(rs, key=lambda x: (x[0], x[1]))\n",
    "        n *= 2\n",
    "        l1 = []\n",
    "        l2 = []\n",
    "        l = 0\n",
    "        while l < n:\n",
    "            r = l\n",
    "            l1 = []\n",
    "            l2 = []\n",
    "            while r < n and rs[r][0] == rs[l][0]:\n",
    "                r+=1\n",
    "            for i in range(l,r):\n",
    "                cur = [rs[i][1], rs[i][2]]\n",
    "                if rs[i][3] == 1:\n",
    "                    if self.append(l1, cur):\n",
    "                        return False\n",
    "                else:\n",
    "                    if self.append(l2, cur):\n",
    "                        return False\n",
    "            \n",
    "            if l > 0 and r < n:\n",
    "                if len(l1) != len(l2):\n",
    "                    return False\n",
    "                \n",
    "                for i in range(len(l1)):\n",
    "                    if l1[i][0] == l2[i][0] and l1[i][1] == l2[i][1]:\n",
    "                        continue\n",
    "                    return False\n",
    "            else:\n",
    "                if len(l1) + len(l2) != 1:\n",
    "                    return False\n",
    "            \n",
    "            l = r\n",
    "\n",
    "        return True\n",
    "    \n",
    "    def append(self, list, cur) -> bool:\n",
    "        if len(list) == 0:\n",
    "            list.append(cur)\n",
    "        else:\n",
    "            prev = list[-1]\n",
    "            if cur[0] < prev[1]:\n",
    "                return True\n",
    "            elif cur[0] == prev[1]:\n",
    "                prev[1] = cur[1]\n",
    "            else:\n",
    "                list.append(cur)\n",
    "        return False\n",
    "\n",
    "print(Solution().isRectangleCover([[1,1,2,3],[1,3,2,4],[3,1,4,2],[3,2,4,4]]))\n",
    "print(Solution().isRectangleCover([[1,1,3,3],[3,1,4,2],[3,2,4,4],[1,3,2,4],[2,3,3,4]]))\n",
    "print(Solution().isRectangleCover([[0,0,4,1],[0,0,4,1]]))\n"
   ]
  },
  {
   "cell_type": "markdown",
   "metadata": {},
   "source": [
    "# 318. [最大单词长度乘积](https://leetcode-cn.com/problems/maximum-product-of-word-lengths/)"
   ]
  },
  {
   "cell_type": "code",
   "execution_count": 36,
   "metadata": {},
   "outputs": [
    {
     "name": "stdout",
     "output_type": "stream",
     "text": [
      "58720383 58721279 False\n",
      "58720352 927 True\n",
      "3 14 False\n",
      "3 6 False\n"
     ]
    }
   ],
   "source": [
    "class Solution:\n",
    "    def convert(self, word) -> int:\n",
    "        mark = 0\n",
    "        for i in range(len(word)):\n",
    "            ch = word[i]\n",
    "            offset = ord(ch) - ord('a')\n",
    "            tmp = 1 << offset\n",
    "            if mark & tmp != tmp:\n",
    "                mark |= tmp\n",
    "        return mark\n",
    "\n",
    "m1 = Solution().convert('abcdefgxyz')\n",
    "m2 = Solution().convert('abcdefghijxyz')\n",
    "print(m1, m2, m1&m2 == 0)\n",
    "\n",
    "m1 = Solution().convert('fgxyz')\n",
    "m2 = Solution().convert('abcdehij')\n",
    "print(m1, m2, m1&m2 == 0)\n",
    "\n",
    "m1 = Solution().convert('ab')\n",
    "m2 = Solution().convert('bcd')\n",
    "print(m1, m2, m1&m2 == 0)\n",
    "\n",
    "m1 = Solution().convert('ab')\n",
    "m2 = Solution().convert('bc')\n",
    "print(m1, m2, m1&m2 == 0)"
   ]
  },
  {
   "cell_type": "code",
   "execution_count": 39,
   "metadata": {},
   "outputs": [
    {
     "name": "stdout",
     "output_type": "stream",
     "text": [
      "0\n",
      "4\n",
      "16\n"
     ]
    }
   ],
   "source": [
    "from typing import List\n",
    "class Solution:\n",
    "    def maxProduct(self, words: List[str]) -> int:\n",
    "        n = len(words)\n",
    "        f = [[0] * 2 for _ in range(n)]\n",
    "        for i,word in enumerate(words):\n",
    "            f[i][0] = self.convert(word)\n",
    "            f[i][1] = len(word)\n",
    "        \n",
    "        m = 0\n",
    "        for i in range(n):\n",
    "            for j in range(n):\n",
    "                if f[i][0] & f[j][0] != 0:\n",
    "                    continue\n",
    "                m = max(m, f[i][1] * f[j][1])\n",
    "\n",
    "        return m\n",
    "    \n",
    "    def convert(self, word) -> int:\n",
    "        mark = 0\n",
    "        for i in range(len(word)):\n",
    "            ch = word[i]\n",
    "            offset = ord(ch) - ord('a')\n",
    "            tmp = 1 << offset\n",
    "            if mark & tmp != tmp:\n",
    "                mark |= tmp\n",
    "        return mark\n",
    "print(Solution().maxProduct([\"a\",\"aa\",\"aaa\",\"aaaa\"]))\n",
    "print(Solution().maxProduct([\"a\",\"ab\",\"abc\",\"d\",\"cd\",\"bcd\",\"abcd\"])) \n",
    "print(Solution().maxProduct([\"abcw\",\"baz\",\"foo\",\"bar\",\"xtfn\",\"abcdef\"]))"
   ]
  },
  {
   "cell_type": "markdown",
   "metadata": {},
   "source": [
    "淦 写那么一大堆 实际上在python中只需要几行就搞定"
   ]
  },
  {
   "cell_type": "code",
   "execution_count": 46,
   "metadata": {},
   "outputs": [
    {
     "name": "stdout",
     "output_type": "stream",
     "text": [
      "0\n",
      "4\n",
      "16\n"
     ]
    }
   ],
   "source": [
    "from itertools import product\n",
    "from typing import List\n",
    "from functools import reduce\n",
    "from collections import defaultdict\n",
    "class Solution:\n",
    "    def maxProduct(self, words: List[str]) -> int:\n",
    "        map = defaultdict(int)\n",
    "        for word in words:\n",
    "            mask = reduce(lambda a,b:a|(1<<(ord(b)-ord('a'))), word, 0)\n",
    "            map[mask] = len(word)\n",
    "        return max((map[x]*map[y] for x, y in product(map, repeat=2) if x & y == 0), default = 0)\n",
    "\n",
    "print(Solution().maxProduct([\"a\",\"aa\",\"aaa\",\"aaaa\"]))\n",
    "print(Solution().maxProduct([\"a\",\"ab\",\"abc\",\"d\",\"cd\",\"bcd\",\"abcd\"])) \n",
    "print(Solution().maxProduct([\"abcw\",\"baz\",\"foo\",\"bar\",\"xtfn\",\"abcdef\"]))"
   ]
  },
  {
   "cell_type": "markdown",
   "metadata": {},
   "source": [
    "# 563. [二叉树的坡度](https://leetcode-cn.com/problems/binary-tree-tilt/)"
   ]
  },
  {
   "cell_type": "markdown",
   "metadata": {},
   "source": [
    "## 深度优先搜索\n",
    "DFS 全称是 Depth First Search，中文名是深度优先搜索，是一种用于遍历或搜索树或图的算法。所谓深度优先，就是说每次都尝试向更深的节点走。\n",
    "\n",
    "该算法讲解时常常与 BFS 并列，但两者除了都能遍历图的连通块以外，用途完全不同，很少有能混用两种算法的情况。\n",
    "\n",
    "DFS 常常用来指代用递归函数实现的搜索，但实际上两者并不一样。有关该类搜索思想请参阅 DFS（搜索）.\n",
    "\n",
    "DFS 最显著的特征在于其 递归调用自身。同时与 BFS 类似，DFS 会对其访问过的点打上访问标记，在遍历图时跳过已打过标记的点，以确保 每个点仅访问一次。符合以上两条规则的函数，便是广义上的 DFS。\n",
    "\n",
    "具体地说，DFS 大致结构如下：\n",
    "```\n",
    "DFS(v) // v 可以是图中的一个顶点，也可以是抽象的概念，如 dp 状态等。\n",
    "  在 v 上打访问标记\n",
    "  for u in v 的相邻节点\n",
    "    if u 没有打过访问标记 then\n",
    "      DFS(u)\n",
    "    end\n",
    "  end\n",
    "end\n",
    "```\n",
    "\n",
    "以上代码只包含了 DFS 必需的主要结构。实际的 DFS 会在以上代码基础上加入一些代码，利用 DFS 性质进行其他操作。\n",
    "\n",
    "该算法通常的时间复杂度为 ，空间复杂度为 ，其中  表示点数， 表示边数。注意空间复杂度包含了栈空间，栈空间的空间复杂度是  的。在平均  遍历一条边的条件下才能达到此时间复杂度，例如用前向星或邻接表存储图；如果用邻接矩阵则不一定能达到此复杂度。"
   ]
  },
  {
   "cell_type": "code",
   "execution_count": 6,
   "metadata": {},
   "outputs": [
    {
     "name": "stdout",
     "output_type": "stream",
     "text": [
      "9\n",
      "1\n",
      "15\n",
      "0\n"
     ]
    }
   ],
   "source": [
    "# Definition for a binary tree node.\n",
    "class TreeNode:\n",
    "    def __init__(self, val=0, left=None, right=None):\n",
    "        self.val = val\n",
    "        self.left = left\n",
    "        self.right = right\n",
    "class Solution:\n",
    "\n",
    "    def findTilt(self, root: TreeNode) -> int:\n",
    "        if root:\n",
    "            return self.dfs(root).slope\n",
    "        return 0\n",
    "    \n",
    "    def dfs(self, root: TreeNode) -> TreeNode:\n",
    "        if root.left:\n",
    "            self.findTilt(root.left)\n",
    "        else:\n",
    "            root.left = TreeNode(0)\n",
    "            setattr(root.left, 'slope', 0)\n",
    "            setattr(root.left, 'sum', 0)\n",
    "        \n",
    "        if root.right:\n",
    "            self.findTilt(root.right)\n",
    "        else:\n",
    "            root.right = TreeNode(0)\n",
    "            setattr(root.right, 'slope', 0)\n",
    "            setattr(root.right, 'sum', 0)\n",
    "\n",
    "        setattr(root, 'sum', root.left.sum + root.right.sum + root.val)\n",
    "        setattr(root, 'slope', root.left.slope + root.right.slope + abs(root.left.sum - root.right.sum))\n",
    "        return root\n",
    "\n",
    "# 输入：root = [21,7,14,1,1,2,2,3,3]\n",
    "# 输出：9\n",
    "\n",
    "root = TreeNode(21,TreeNode(7, TreeNode(1, TreeNode(3),TreeNode(3)), TreeNode(1)), TreeNode(14, TreeNode(2), TreeNode(2)))\n",
    "print(Solution().findTilt(root))\n",
    "\n",
    "# 输入：root = [1,2,3]\n",
    "# 输出：1\n",
    "\n",
    "root = TreeNode(1, TreeNode(2), TreeNode(3))\n",
    "print(Solution().findTilt(root))\n",
    "\n",
    "# 输入：root = [4,2,9,3,5,null,7]\n",
    "# 输出：15\n",
    "\n",
    "root = TreeNode(4, TreeNode(2, TreeNode(3), TreeNode(5)), TreeNode(9, right= TreeNode(7)))\n",
    "print(Solution().findTilt(root))\n",
    "\n",
    "# 输入：root = []\n",
    "# 输出：0\n",
    "\n",
    "root = TreeNode()\n",
    "print(Solution().findTilt(root))\n"
   ]
  },
  {
   "cell_type": "markdown",
   "metadata": {},
   "source": [
    "自己写的太垃圾了"
   ]
  },
  {
   "cell_type": "code",
   "execution_count": 7,
   "metadata": {},
   "outputs": [
    {
     "name": "stdout",
     "output_type": "stream",
     "text": [
      "9\n",
      "1\n",
      "15\n",
      "0\n"
     ]
    }
   ],
   "source": [
    "# Definition for a binary tree node.\n",
    "class TreeNode:\n",
    "    def __init__(self, val=0, left=None, right=None):\n",
    "        self.val = val\n",
    "        self.left = left\n",
    "        self.right = right\n",
    "class Solution:\n",
    "\n",
    "    res = 0\n",
    "\n",
    "    def findTilt(self, root: TreeNode) -> int:\n",
    "        self.dfs(root)\n",
    "        return self.res\n",
    "    \n",
    "    def dfs(self, root: TreeNode) -> int:\n",
    "        if not root:\n",
    "            return 0\n",
    "\n",
    "        left = self.dfs(root.left)\n",
    "        right = self.dfs(root.right)\n",
    "        self.res += abs(left - right)\n",
    "        return left + right + root.val\n",
    "\n",
    "# 输入：root = [21,7,14,1,1,2,2,3,3]\n",
    "# 输出：9\n",
    "\n",
    "root = TreeNode(21,TreeNode(7, TreeNode(1, TreeNode(3),TreeNode(3)), TreeNode(1)), TreeNode(14, TreeNode(2), TreeNode(2)))\n",
    "print(Solution().findTilt(root))\n",
    "\n",
    "# 输入：root = [1,2,3]\n",
    "# 输出：1\n",
    "\n",
    "root = TreeNode(1, TreeNode(2), TreeNode(3))\n",
    "print(Solution().findTilt(root))\n",
    "\n",
    "# 输入：root = [4,2,9,3,5,null,7]\n",
    "# 输出：15\n",
    "\n",
    "root = TreeNode(4, TreeNode(2, TreeNode(3), TreeNode(5)), TreeNode(9, right= TreeNode(7)))\n",
    "print(Solution().findTilt(root))\n",
    "\n",
    "# 输入：root = []\n",
    "# 输出：0\n",
    "\n",
    "root = TreeNode()\n",
    "print(Solution().findTilt(root))"
   ]
  },
  {
   "cell_type": "markdown",
   "metadata": {},
   "source": [
    "# 397. [整数替换](https://leetcode-cn.com/problems/integer-replacement/)"
   ]
  },
  {
   "cell_type": "markdown",
   "metadata": {},
   "source": [
    "如何写记忆化搜索 \n",
    "\n",
    "- 把这道题的 dp 状态和方程写出来  \n",
    "- 根据它们写出 dfs 函数  \n",
    "- 添加记忆化数组  \n",
    "举例：\n",
    "\n",
    "（最长上升子序列）\n",
    "\n",
    "转为\n",
    "\n",
    "```\n",
    "def dfs(i):\n",
    "    if mem[i] != -1:\n",
    "        return mem[i]\n",
    "    ret = 1\n",
    "    for j in range(1, i):\n",
    "        if a[j] < a[i]:\n",
    "            ret = max(ret, dfs(j) + 1)\n",
    "    mem[i] = ret\n",
    "    return mem[i]\n",
    "```\n",
    "\n",
    "记忆化搜索的注意事项  \n",
    "- 千万别忘了加记忆化！（别笑，认真的）  \n",
    "- 边界条件要加在检查当前数组值是否为非法数值（防止越界）  \n",
    "- 数组不要开小了    \n",
    "\n",
    "模板  \n",
    "```\n",
    "int g[MAXN];\n",
    "int f(状态参数) {\n",
    "  if (g[规模] != 无效数值) return g[规模];\n",
    "  if (终止条件) return 最小子问题解;\n",
    "  g[规模] = f(缩小规模);\n",
    "  return g[规模];\n",
    "}\n",
    "int main() {\n",
    "  // ...\n",
    "  memset(g, 无效数值, sizeof(g));\n",
    "  // ...\n",
    "}\n",
    "```"
   ]
  },
  {
   "cell_type": "code",
   "execution_count": 25,
   "metadata": {},
   "outputs": [
    {
     "name": "stdout",
     "output_type": "stream",
     "text": [
      "3\n",
      "4\n",
      "2\n",
      "31\n"
     ]
    }
   ],
   "source": [
    "# 8  4,2,1\n",
    "# 7  8,4,2,1 6,3,2,1\n",
    "# 6  3,2,1\n",
    "# 5  4,2,1  6,3,2,1\n",
    "# 4  2\n",
    "# 3  2\n",
    "# 2  1\n",
    "# 1  0\n",
    "# 偶数 dp[n] = dp[n/2] + 1\n",
    "# 奇数 dp[n] = min(dp[n//2], dp[n//2 + 1]) + 2\n",
    "\n",
    "class Solution:\n",
    "\n",
    "    def integerReplacement(self, n: int) -> int:\n",
    "        self.mem = [None]* (n + 2)\n",
    "        return self.dfs(n)\n",
    "\n",
    "    def dfs(self, n: int) -> int:\n",
    "        if n == 1:\n",
    "            return 0\n",
    "        if not self.mem[n] :\n",
    "            self.mem[n] = self.dfs(n//2) + 1 if n%2 == 0 else min(self.dfs(n//2), self.dfs(n//2 + 1)) + 2\n",
    "        return self.mem[n]\n",
    "\n",
    "print(Solution().integerReplacement(8))\n",
    "print(Solution().integerReplacement(7))\n",
    "print(Solution().integerReplacement(4))\n",
    "print(Solution().integerReplacement(100000000))"
   ]
  },
  {
   "cell_type": "markdown",
   "metadata": {},
   "source": [
    "leetcode怎么执行都超时。。。。 然而用了lru_cache并没有快多少。。。"
   ]
  },
  {
   "cell_type": "code",
   "execution_count": 28,
   "metadata": {},
   "outputs": [
    {
     "name": "stdout",
     "output_type": "stream",
     "text": [
      "3\n",
      "4\n",
      "2\n",
      "31\n"
     ]
    }
   ],
   "source": [
    "from functools import lru_cache\n",
    "\n",
    "class Solution:\n",
    "    def integerReplacement(self, n: int) -> int:\n",
    "        return self.dfs(n)\n",
    "\n",
    "    @lru_cache\n",
    "    def dfs(self, n: int) -> int:\n",
    "        if n == 1:\n",
    "            return 0\n",
    "        return self.dfs(n//2) + 1 if n%2 == 0 else min(self.dfs(n//2), self.dfs(n//2 + 1)) + 2\n",
    "\n",
    "print(Solution().integerReplacement(8))\n",
    "print(Solution().integerReplacement(7))\n",
    "print(Solution().integerReplacement(4))\n",
    "print(Solution().integerReplacement(100000000))"
   ]
  },
  {
   "cell_type": "markdown",
   "metadata": {},
   "source": [
    "# 594. [最长和谐子序列](https://leetcode-cn.com/problems/longest-harmonious-subsequence/)"
   ]
  },
  {
   "cell_type": "code",
   "execution_count": 8,
   "metadata": {},
   "outputs": [
    {
     "name": "stdout",
     "output_type": "stream",
     "text": [
      "5\n",
      "2\n",
      "0\n"
     ]
    }
   ],
   "source": [
    "from typing import List\n",
    "class Solution:\n",
    "    def findLHS(self, nums: List[int]) -> int:\n",
    "        nums = sorted(nums)\n",
    "        d = dict()\n",
    "        max = 0\n",
    "        for num in nums:\n",
    "          d[num] = d.get(num, 0) + 1\n",
    "          if not d.__contains__(num-1):\n",
    "              continue\n",
    "          count = d[num-1] + d[num]\n",
    "          if count>max:\n",
    "              max = count\n",
    "        return max\n",
    "\n",
    "print(Solution().findLHS([1,3,2,2,5,2,3,7]))\n",
    "print(Solution().findLHS( [1,2,3,4]))\n",
    "print(Solution().findLHS([1,1,1,1,1]))"
   ]
  },
  {
   "cell_type": "code",
   "execution_count": 15,
   "metadata": {},
   "outputs": [
    {
     "name": "stdout",
     "output_type": "stream",
     "text": [
      "5\n",
      "2\n",
      "0\n"
     ]
    }
   ],
   "source": [
    "from typing import List\n",
    "from collections import Counter\n",
    "class Solution:\n",
    "    def findLHS(self, nums: List[int]) -> int:\n",
    "        maps = Counter(nums)\n",
    "        # max = 0\n",
    "        # for key in maps:\n",
    "        #   if maps.__contains__(key-1):\n",
    "        #     count = maps[key-1] + maps[key]\n",
    "        #     if count>max:\n",
    "        #         max = count\n",
    "        return max((maps[key-1] + val for key,val in maps.items() if key-1 in maps), default=0)\n",
    "\n",
    "print(Solution().findLHS([1,3,2,2,5,2,3,7]))\n",
    "print(Solution().findLHS( [1,2,3,4]))\n",
    "print(Solution().findLHS([1,1,1,1,1]))"
   ]
  },
  {
   "cell_type": "markdown",
   "metadata": {},
   "source": [
    "# 59. [N 叉树的最大深度](https://leetcode-cn.com/problems/maximum-depth-of-n-ary-tree/)"
   ]
  },
  {
   "cell_type": "code",
   "execution_count": 5,
   "metadata": {},
   "outputs": [
    {
     "data": {
      "text/plain": [
       "4"
      ]
     },
     "execution_count": 5,
     "metadata": {},
     "output_type": "execute_result"
    }
   ],
   "source": [
    "\n",
    "# Definition for a Node.\n",
    "class Node:\n",
    "    def __init__(self, val=None, children=None):\n",
    "        self.val = val\n",
    "        self.children = children # 复数，代表多个\n",
    "\n",
    "\n",
    "class Solution:\n",
    "    def maxDepth(self, root: 'Node') -> int:\n",
    "        return max((self.maxDepth(child) for child in root.children), default=0) + 1 if root else 0\n",
    "\n",
    "\n",
    "\n",
    "    "
   ]
  },
  {
   "cell_type": "markdown",
   "metadata": {},
   "source": [
    "# 384. [打乱数组](https://leetcode-cn.com/problems/shuffle-an-array/)"
   ]
  },
  {
   "cell_type": "markdown",
   "metadata": {},
   "source": [
    "## Fisher–Yates shuffle\n",
    "Fisher–Yates shuffle算法是高效和等概率的一个洗牌算法。其核心思想是从1到n之间随机出一个数和最后一个数(n)交换，然后从1到n-1之间随机出一个数和倒数第二个数(n-1)交换...假设我们有5个数0，1，2，3，4  \n",
    "\n",
    "0，1，2，3，4\n",
    "\n",
    "1. 从[0,4]这5个位置中（包含0和4）随机出一个数（比如是3）和4号交换。\n",
    "\n",
    "    0，1，2，4，3  \n",
    "    第4号位置放3的概率就是1/5   \n",
    "  \n",
    "2. 从[0,3]这4个位置中（包含0和3）随机出一个数（比如是0）和3号交换。\n",
    "\n",
    "    4，1，2，0，3  \n",
    "    第3号位置放0的概率就是(4/5)*(1/4)=1/5  \n",
    "\n",
    "\n",
    "3. 从[0,2]这3个位置中（包含0和2）随机出一个数（比如是0）和2号交换。  \n",
    "\n",
    "    2，1，4，0，3    \n",
    "    第2号位置放4的概率就是(4/5)x(3/4)x(1/3)=1/5  \n",
    "\n",
    "4. 从[0,1]这2个位置中（包含0和1）随机出一个数（比如是0）和1号交换。  \n",
    "\n",
    "    1，2，4，0，3  \n",
    "    第1号位置放2的概率就是(4/5)x(3/4)x(2/3)x(1/2)=1/5  \n",
    "      \n",
    "\n",
    "5. 从[0,0]这1个位置中（包含0和0）随机出一个数（比如是0）和0号交换。\n",
    "\n",
    "    1，2，4，0，3  \n",
    "    第0号位置放1的概率就是(4/5)x(3/4)x(2/3)x(1/2)=1/5  \n",
    "      \n",
    "\n",
    "其实第5步骤就是不用交换了。"
   ]
  },
  {
   "cell_type": "code",
   "execution_count": 6,
   "metadata": {},
   "outputs": [
    {
     "name": "stdout",
     "output_type": "stream",
     "text": [
      "[0, 1, 2, 3, 4, 5, 6]\n",
      "[3, 6, 1, 4, 0, 2, 5]\n",
      "[0, 1, 2, 3, 4, 5, 6]\n",
      "[1, 6, 3, 4, 0, 2, 5]\n",
      "[0, 1, 2, 3, 4, 5, 6]\n",
      "[6, 4, 3, 2, 0, 1, 5]\n"
     ]
    }
   ],
   "source": [
    "import random\n",
    "from typing import List\n",
    "class Solution:\n",
    "\n",
    "    def __init__(self, nums: List[int]):\n",
    "        self.nums = nums\n",
    "        self.orginal = self.nums.copy()\n",
    "\n",
    "\n",
    "    def reset(self) -> List[int]:\n",
    "        self.nums = self.orginal.copy()\n",
    "        return self.nums\n",
    "\n",
    "\n",
    "    def shuffle(self) -> List[int]:\n",
    "        n = len(self.nums)\n",
    "        for i in range(n):\n",
    "            r = random.randrange(i, n)\n",
    "            self.nums[i], self.nums[r] = self.nums[r], self.nums[i]\n",
    "        return self.nums\n",
    "\n",
    "\n",
    "\n",
    "# Your Solution object will be instantiated and called as such:\n",
    "obj = Solution([0,1,2,3,4,5,6])\n",
    "print(obj.reset())\n",
    "print(obj.shuffle())\n",
    "print(obj.reset())\n",
    "print(obj.shuffle())\n",
    "print(obj.reset())\n",
    "print(obj.shuffle())"
   ]
  },
  {
   "cell_type": "markdown",
   "metadata": {},
   "source": [
    "# 859. [亲密字符串](https://leetcode-cn.com/problems/buddy-strings/)"
   ]
  },
  {
   "cell_type": "code",
   "execution_count": 6,
   "metadata": {},
   "outputs": [
    {
     "name": "stdout",
     "output_type": "stream",
     "text": [
      "True\n",
      "False\n",
      "True\n",
      "True\n"
     ]
    }
   ],
   "source": [
    "class Solution:\n",
    "    def buddyStrings(self, s: str, goal: str) -> bool:\n",
    "        if len(s) != len(goal):\n",
    "            return False\n",
    "\n",
    "        if s == goal:\n",
    "            d = set()\n",
    "            for a in s:\n",
    "                if a in d:\n",
    "                    return True\n",
    "                else:\n",
    "                    d.add(a)\n",
    "        else:\n",
    "            nums = [i for i in range(len(s)) if s[i] != goal[i]]\n",
    "            \n",
    "            if len(nums) != 2:\n",
    "                return False\n",
    "\n",
    "            if s[nums[0]] == goal[nums[1]] and s[nums[1]] == goal[nums[0]]:\n",
    "                return True \n",
    "        return False\n",
    "print(Solution().buddyStrings('ab','ba'))\n",
    "print(Solution().buddyStrings('ab','ab'))\n",
    "print(Solution().buddyStrings('aa','aa'))\n",
    "print(Solution().buddyStrings('aaaaaaabc','aaaaaaacb'))"
   ]
  },
  {
   "cell_type": "code",
   "execution_count": 7,
   "metadata": {},
   "outputs": [
    {
     "name": "stdout",
     "output_type": "stream",
     "text": [
      "True\n",
      "False\n",
      "True\n",
      "True\n"
     ]
    }
   ],
   "source": [
    "class Solution:\n",
    "    def buddyStrings(self, s: str, goal: str) -> bool:\n",
    "        if len(s) != len(goal):\n",
    "            return False\n",
    "\n",
    "        if s == goal:\n",
    "            if len(set(s)) < len(goal):\n",
    "                return True\n",
    "            else:\n",
    "                return False\n",
    "        nums = [i for i in range(len(s)) if s[i] != goal[i]]\n",
    "        return len(nums) == 2 and s[nums[0]] == goal[nums[1]] and s[nums[1]] == goal[nums[0]]\n",
    "print(Solution().buddyStrings('ab','ba'))\n",
    "print(Solution().buddyStrings('ab','ab'))\n",
    "print(Solution().buddyStrings('aa','aa'))\n",
    "print(Solution().buddyStrings('aaaaaaabc','aaaaaaacb'))"
   ]
  },
  {
   "cell_type": "markdown",
   "metadata": {},
   "source": [
    "# 423. [从英文中重建数字](https://leetcode-cn.com/problems/reconstruct-original-digits-from-english/)"
   ]
  },
  {
   "cell_type": "code",
   "execution_count": 52,
   "metadata": {},
   "outputs": [
    {
     "name": "stdout",
     "output_type": "stream",
     "text": [
      "45\n",
      "0112\n"
     ]
    }
   ],
   "source": [
    "# zero\n",
    "# one\n",
    "# two \n",
    "# three\n",
    "# Four \n",
    "# five\n",
    "# six\n",
    "# seven\n",
    "# Eight\n",
    "# Nine\n",
    "# [\"e\",\"g\",\"f\",\"i\",\"h\",\"o\",\"n\",\"s\",\"r\",\"u\",\"t\",\"w\",\"v\",\"x\",\"z\"]\n",
    "# 给你一个字符串 s ，其中包含字母顺序打乱的用英文单词表示的若干数字（0-9）。按 升序 返回原始的数字。\n",
    "from collections import Counter\n",
    "class Solution:\n",
    "    def originalDigits(self, s: str) -> str:\n",
    "        nums = {'eight': 8, 'six': 6, 'four': 4, 'two': 2, 'zero': 0, 'three': 3, 'five': 5, 'seven': 7, 'one': 1, 'nine': 9}\n",
    "        d = Counter(s)\n",
    "        n = [0]*10\n",
    "        for num,i in nums.items():\n",
    "            mi = min((d[ns] for ns in num), default=0)\n",
    "            n[i] = mi\n",
    "            for ns in num :\n",
    "                d[ns] -= mi\n",
    "        return ''.join(str(i) * n[i] for i in range(10))\n",
    "        \n",
    "\n",
    "\n",
    "# fviefuro\n",
    "print(Solution().originalDigits('fviefuro'))\n",
    "# owoztneoer\n",
    "print(Solution().originalDigits('owoztneoerone'))\n"
   ]
  },
  {
   "cell_type": "code",
   "execution_count": 36,
   "metadata": {},
   "outputs": [
    {
     "name": "stdout",
     "output_type": "stream",
     "text": [
      "45\n",
      "0112\n",
      "aaa\n"
     ]
    }
   ],
   "source": [
    "from collections import Counter\n",
    "class Solution:\n",
    "    def originalDigits(self, s: str) -> str:\n",
    "        d = Counter(s)\n",
    "        nums = [0]*10\n",
    "        nums[0] = d['z']\n",
    "        nums[2] = d['w']\n",
    "        nums[4] = d['u']\n",
    "        nums[6] = d['x']\n",
    "        nums[8] = d['g']\n",
    "\n",
    "        nums[3] = d['h'] - nums[8]\n",
    "        nums[7] = d['s'] - nums[6]\n",
    "        nums[5] = d['v'] - nums[7]\n",
    "        nums[9] = d['i'] - nums[5] - nums[6] - nums[8]\n",
    "        nums[1] = d['o'] - nums[0] - nums[2] - nums[4]\n",
    "        return ''.join(str(i) * nums[i] for i in range(10))\n",
    "        \n",
    "# fviefuro\n",
    "print(Solution().originalDigits('fviefuro'))\n",
    "# owoztneoer\n",
    "print(Solution().originalDigits('owoztneoerone'))\n",
    "\n"
   ]
  },
  {
   "cell_type": "markdown",
   "metadata": {},
   "source": [
    "# 458. [可怜的小猪](https://leetcode-cn.com/problems/poor-pigs/)"
   ]
  },
  {
   "cell_type": "code",
   "execution_count": 8,
   "metadata": {},
   "outputs": [
    {
     "name": "stdout",
     "output_type": "stream",
     "text": [
      "5\n",
      "2\n",
      "2\n",
      "0\n",
      "4\n"
     ]
    }
   ],
   "source": [
    "# 一只小猪 4轮喝水 最多能辨别5桶水 每次喝一桶 最后一桶不用喝\n",
    "# 两只小猪 4轮喝水 最多能辨别25桶水 一只小猪每次喝五桶 形成5*5的二维矩阵 最后的九桶水不用喝\n",
    "# 三只小猪 4轮喝水 最多能辨别125桶水 一只小猪每次喝25桶 形成5*5*5的三维矩阵 \n",
    "# 以此类推\n",
    "# n只小猪  四轮喝水 最多能辨别5^n桶水 一只小猪每次喝5^(n-1)桶 形成 5*5*....*5*5的n维矩阵\n",
    "# n只小猪  m轮喝水 最多能辨别(m+1)^n桶水 一只小猪每次喝(m+1)^(n-1)桶 形成 (m+1)*(m+1)*....*(m+1)*(m+1)的n维矩阵\n",
    "class Solution:\n",
    "    def poorPigs(self, buckets: int, minutesToDie: int, minutesToTest: int) -> int:\n",
    "        c = 0\n",
    "        while buckets > (minutesToTest//minutesToDie + 1)**c:\n",
    "            c += 1\n",
    "        return c\n",
    "\n",
    "print(Solution().poorPigs(1000, 15, 60))\n",
    "print(Solution().poorPigs(4, 15, 30))\n",
    "print(Solution().poorPigs(4, 15, 15))\n",
    "print(Solution().poorPigs(1, 15, 15))\n",
    "print(Solution().poorPigs(10, 15, 15))"
   ]
  },
  {
   "cell_type": "markdown",
   "metadata": {},
   "source": [
    "# 700. [二叉搜索树中的搜索](https://leetcode-cn.com/problems/search-in-a-binary-search-tree/)"
   ]
  },
  {
   "cell_type": "code",
   "execution_count": 7,
   "metadata": {},
   "outputs": [
    {
     "name": "stdout",
     "output_type": "stream",
     "text": [
      "2 1 3\n"
     ]
    }
   ],
   "source": [
    "# Definition for a binary tree node.\n",
    "# \n",
    "# 二叉搜索树满足如下性质：\n",
    "# 左子树所有节点的元素值均小于根的元素值；\n",
    "# 右子树所有节点的元素值均大于根的元素值。\n",
    "class TreeNode:\n",
    "    def __init__(self, val=0, left=None, right=None):\n",
    "        self.val = val\n",
    "        self.left = left\n",
    "        self.right = right\n",
    "class Solution:\n",
    "    def searchBST(self, root: TreeNode, val: int) -> TreeNode:\n",
    "        if not root:\n",
    "            return None\n",
    "        if root.val == val:\n",
    "            return root\n",
    "        return self.searchBST(root.left if val < root.val else root.right, val)\n",
    "\n",
    "# 输入：root = [4,2,1,3,7]\n",
    "# 输出：9\n",
    "\n",
    "root = TreeNode(4,TreeNode(2, TreeNode(1), TreeNode(3)), TreeNode(7))\n",
    "root = Solution().searchBST(root, 2)\n",
    "print(root.val, root.left.val, root.right.val)"
   ]
  },
  {
   "cell_type": "markdown",
   "metadata": {},
   "source": [
    "# 519. [随机翻转矩阵](https://leetcode-cn.com/problems/random-flip-matrix/)"
   ]
  },
  {
   "cell_type": "code",
   "execution_count": 19,
   "metadata": {},
   "outputs": [
    {
     "name": "stdout",
     "output_type": "stream",
     "text": [
      "[471, 453]\n",
      "[949, 172]\n",
      "[956, 83]\n"
     ]
    }
   ],
   "source": [
    "# 淦 超时\n",
    "import random\n",
    "from typing import List\n",
    "class Solution:\n",
    "\n",
    "    def __init__(self, m: int, n: int):\n",
    "        self.m = m\n",
    "        self.n = n\n",
    "        self.reset()\n",
    "\n",
    "    def flip(self) -> List[int]:\n",
    "        x = self.nums.pop(0)\n",
    "        return [x//self.n, x%self.n]\n",
    "\n",
    "\n",
    "    def reset(self) -> None:\n",
    "        self.nums = [i for i in range(self.m * self.n)]\n",
    "        # for i in range(self.m * self.n):\n",
    "        #     r = random.randrange(i, self.m * self.n)\n",
    "        #     self.nums[i], self.nums[r] = self.nums[r], self.nums[i]\n",
    "        random.shuffle(self.nums)\n",
    "\n",
    "\n",
    "\n",
    "# Your Solution object will be instantiated and called as such:\n",
    "obj = Solution(1000, 1000)\n",
    "print(obj.flip())\n",
    "print(obj.flip())\n",
    "print(obj.flip())\n",
    "obj.reset()"
   ]
  },
  {
   "cell_type": "code",
   "execution_count": 24,
   "metadata": {},
   "outputs": [
    {
     "name": "stdout",
     "output_type": "stream",
     "text": [
      "[1, 0]\n",
      "[2, 0]\n",
      "[0, 0]\n"
     ]
    }
   ],
   "source": [
    "# 淦 超时\n",
    "import random\n",
    "from typing import List\n",
    "class Solution:\n",
    "\n",
    "    def __init__(self, m: int, n: int):\n",
    "        self.m = m\n",
    "        self.n = n\n",
    "        self.c = m * n\n",
    "        self.map = {}\n",
    "\n",
    "    def flip(self) -> List[int]:\n",
    "        r = random.randint(0, self.c-1)\n",
    "        self.c -= 1\n",
    "        x = self.map.get(r, r)\n",
    "        self.map[r] = self.map.get(self.c, self.c)\n",
    "        return [x//self.n, x%self.n]\n",
    "\n",
    "    def reset(self) -> None:\n",
    "        self.c = self.m * self.n\n",
    "        self.map.clear()\n",
    "\n",
    "\n",
    "\n",
    "# Your Solution object will be instantiated and called as such:\n",
    "obj = Solution(3, 1)\n",
    "print(obj.flip())\n",
    "print(obj.flip())\n",
    "print(obj.flip())\n",
    "obj.reset()"
   ]
  }
 ],
 "metadata": {
  "interpreter": {
   "hash": "addc290ad06c3bc8a70039df2b011f561b54e541a49a8aaa0a6e89a01237bc66"
  },
  "kernelspec": {
   "display_name": "Python 3.8.10 64-bit ('.venv': venv)",
   "name": "python3"
  },
  "language_info": {
   "codemirror_mode": {
    "name": "ipython",
    "version": 3
   },
   "file_extension": ".py",
   "mimetype": "text/x-python",
   "name": "python",
   "nbconvert_exporter": "python",
   "pygments_lexer": "ipython3",
   "version": "3.8.0"
  },
  "orig_nbformat": 4
 },
 "nbformat": 4,
 "nbformat_minor": 2
}
