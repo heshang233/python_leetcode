{
 "cells": [
  {
   "cell_type": "markdown",
   "metadata": {},
   "source": [
    "# 217. [存在重复元素](https://leetcode-cn.com/problems/contains-duplicate/)"
   ]
  },
  {
   "cell_type": "code",
   "execution_count": 1,
   "metadata": {},
   "outputs": [
    {
     "name": "stdout",
     "output_type": "stream",
     "text": [
      "True\n",
      "False\n"
     ]
    }
   ],
   "source": [
    "from typing import List\n",
    "import math\n",
    "class Solution:\n",
    "    def containsDuplicate(self, nums: List[int]) -> bool:\n",
    "        nums = sorted(nums) \n",
    "        for i in range(1, len(nums)):\n",
    "            if nums[i-1] == nums[i]:\n",
    "                return True\n",
    "        return False\n",
    "print(Solution().containsDuplicate([1,1,1,3,3,4,3,2,4,2]))\n",
    "print(Solution().containsDuplicate([1,2,3,4]))\n"
   ]
  },
  {
   "cell_type": "markdown",
   "metadata": {},
   "source": [
    "# 53. [最大子序和](https://leetcode-cn.com/problems/maximum-subarray/)"
   ]
  },
  {
   "cell_type": "markdown",
   "metadata": {},
   "source": [
    "分治法的基本步骤\n",
    "\n",
    "分治法在每一层递归上都有三个步骤：\n",
    "\n",
    "    step1 分解：将原问题分解为若干个规模较小，相互独立，与原问题形式相同的子问题；\n",
    "\n",
    "    step2 解决：若子问题规模较小而容易被解决则直接解，否则递归地解各个子问题\n",
    "\n",
    "    step3 合并：将各个子问题的解合并为原问题的解。\n",
    "\n",
    "它的一般的算法设计模式如下：\n",
    "\n",
    "    Divide-and-Conquer(P)\n",
    "\n",
    "    1. if |P|≤n0\n",
    "\n",
    "    2. then return(ADHOC(P))\n",
    "\n",
    "    3. 将P分解为较小的子问题 P1 ,P2 ,...,Pk\n",
    "\n",
    "    4. for i←1 to k\n",
    "\n",
    "    5. do yi ← Divide-and-Conquer(Pi) △ 递归解决Pi\n",
    "\n",
    "    6. T ← MERGE(y1,y2,...,yk) △ 合并子问题\n",
    "\n",
    "    7. return(T)\n",
    "\n",
    "    其中|P|表示问题P的规模；n0为一阈值，表示当问题P的规模不超过n0时，问题已容易直接解出，不必再继续分解。  \n",
    "    ADHOC(P)是该分治法中的基本子算法，用于直接解小规模的问题P。因此，当P的规模不超过n0时直接用算法ADHOC(P)求解。  \n",
    "    算法MERGE(y1,y2,...,yk)是该分治法中的合并子算法，用于将P的子问题P1 ,P2 ,...,Pk的相应的解y1,y2,...,yk合并为P的解。"
   ]
  },
  {
   "cell_type": "code",
   "execution_count": 4,
   "metadata": {},
   "outputs": [
    {
     "data": {
      "text/plain": [
       "6"
      ]
     },
     "execution_count": 4,
     "metadata": {},
     "output_type": "execute_result"
    }
   ],
   "source": [
    "# 分治法太复杂了\n",
    "# 动态转移方程：dp[i] = max(dp[i-1] + nums[i], dp[i-1])\n",
    "from typing import List\n",
    "class Solution:\n",
    "    def maxSubArray(self, nums: List[int]) -> int:\n",
    "        pre = 0\n",
    "        ans = nums[0]\n",
    "        for num in nums:\n",
    "            pre = max(pre+num, num)\n",
    "            ans = max(pre, ans)\n",
    "        return ans\n",
    "Solution().maxSubArray([-2,1,-3,4,-1,2,1,-5,4])\n",
    "        "
   ]
  }
 ],
 "metadata": {
  "interpreter": {
   "hash": "3a57da47d7432be2ebf54640945d9cc60b99e6d1ae25722168e2af822ccabf93"
  },
  "kernelspec": {
   "display_name": "Python 3.8.10 64-bit ('.venv': venv)",
   "language": "python",
   "name": "python3"
  },
  "language_info": {
   "codemirror_mode": {
    "name": "ipython",
    "version": 3
   },
   "file_extension": ".py",
   "mimetype": "text/x-python",
   "name": "python",
   "nbconvert_exporter": "python",
   "pygments_lexer": "ipython3",
   "version": "3.8.0"
  },
  "orig_nbformat": 4
 },
 "nbformat": 4,
 "nbformat_minor": 2
}
