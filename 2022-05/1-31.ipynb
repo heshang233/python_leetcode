{
 "cells": [
  {
   "cell_type": "markdown",
   "metadata": {},
   "source": [
    "433. [最小基因变化](https://leetcode-cn.com/problems/minimum-genetic-mutation/)"
   ]
  },
  {
   "cell_type": "code",
   "execution_count": null,
   "metadata": {},
   "outputs": [],
   "source": [
    "from typing import List\n",
    "class Solution:\n",
    "    def minMutation(self, start: str, end: str, bank: List[str]) -> int:\n",
    "        change = {'A': 'TCG', 'T': 'ACG', 'C': 'ATG', 'G': 'ATC'}\n",
    "        bank = set(bank)\n",
    "        if end not in bank:\n",
    "            return -1\n",
    "        q = [(start, 0)]\n",
    "        while q:\n",
    "            node, step = q.pop(0)\n",
    "            if node == end:\n",
    "                return step\n",
    "            for i, v in enumerate(node):\n",
    "                for j in change[v]:\n",
    "                    new = node[:i] + j + node[i+1:]\n",
    "                    if new in bank:\n",
    "                        q.append((new, step + 1))\n",
    "                        bank.remove(new)\n",
    "        return -1"
   ]
  }
 ],
 "metadata": {
  "interpreter": {
   "hash": "3a57da47d7432be2ebf54640945d9cc60b99e6d1ae25722168e2af822ccabf93"
  },
  "kernelspec": {
   "display_name": "Python 3.8.10 ('.venv': venv)",
   "language": "python",
   "name": "python3"
  },
  "language_info": {
   "name": "python",
   "version": "3.8.10"
  },
  "orig_nbformat": 4
 },
 "nbformat": 4,
 "nbformat_minor": 2
}
