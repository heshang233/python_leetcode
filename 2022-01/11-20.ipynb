{
 "cells": [
  {
   "cell_type": "markdown",
   "metadata": {},
   "source": [
    "# 1036. [逃离大迷宫](https://leetcode-cn.com/problems/escape-a-large-maze/)\n",
    "\n",
    "虽然是抄的答案，但是这个写法很妙啊"
   ]
  },
  {
   "cell_type": "code",
   "execution_count": null,
   "metadata": {},
   "outputs": [],
   "source": [
    "from typing import List\n",
    "from collections import deque\n",
    "class Solution:\n",
    "    def isEscapePossible(self, blocked: List[List[int]], source: List[int], target: List[int]) -> bool:\n",
    "        def bfs(sr, tr):\n",
    "            q = deque()\n",
    "            if not blocked:\n",
    "                return True\n",
    "            m = len(blocked)\n",
    "            visit = set()\n",
    "            for i in range(m):\n",
    "                visit.add(tuple(blocked[i]))\n",
    "            q.append((sr[0], sr[1]))\n",
    "            while q:\n",
    "                sz = len(q)\n",
    "                if sz >= len(blocked):\n",
    "                    return True\n",
    "                    \n",
    "                for _ in range(sz):\n",
    "                    x, y = q.popleft()\n",
    "                    for i, j in [(-1, 0), (1, 0), (0, 1), (0, -1)]:\n",
    "                        newx = x + i\n",
    "                        newy = y + i\n",
    "                        if newx == tr[0] and newy == tr[1]:\n",
    "                            return True\n",
    "                        if newx < 0 or newx >= 1e6 or newy <0 or newy >= 1e6:\n",
    "                            continue\n",
    "                        if (newx, newy) in visit:\n",
    "                            continue\n",
    "                        q.append((newx, newy))\n",
    "                        visit.add((newx, newy))\n",
    "            return False\n",
    "        return bfs(source, target) and bfs(target, source)\n"
   ]
  },
  {
   "cell_type": "code",
   "execution_count": null,
   "metadata": {},
   "outputs": [],
   "source": [
    "from typing import List\n",
    "from collections import deque\n",
    "class Solution:\n",
    "    def isEscapePossible(self, blocked: List[List[int]], source: List[int], target: List[int]) -> bool:\n",
    "        def bfs(s, t):\n",
    "            if not blocked:\n",
    "                return True\n",
    "            q = deque()\n",
    "            visit = set()\n",
    "            for b in blocked:\n",
    "                visit.add(tuple(b))\n",
    "            q.append(tuple(s))\n",
    "            while q:\n",
    "                n = len(q)\n",
    "                if n >= len(blocked):\n",
    "                    return True\n",
    "                \n",
    "                for i in range(n):\n",
    "                    x, y = q.popleft()\n",
    "                    for i, j in [(-1, 0), (1, 0), (0, 1), (0, -1)]:\n",
    "                        nx = x + i\n",
    "                        ny = y + j\n",
    "                        if nx == t[0] and ny == t[1]:\n",
    "                            return True\n",
    "                        if nx < 0 or nx >= 1e6 or ny < 0 or ny >= 1e6:\n",
    "                            continue\n",
    "                        if (nx, ny) in visit:\n",
    "                            continue\n",
    "                        q.append((nx, ny))\n",
    "                        visit.add((nx, ny))\n",
    "            return False\n",
    "        return bfs(source, target) and bfs(target, source)\n",
    "\n",
    "            "
   ]
  }
 ],
 "metadata": {
  "interpreter": {
   "hash": "3a57da47d7432be2ebf54640945d9cc60b99e6d1ae25722168e2af822ccabf93"
  },
  "kernelspec": {
   "display_name": "Python 3.8.10 64-bit ('.venv': venv)",
   "language": "python",
   "name": "python3"
  },
  "language_info": {
   "name": "python",
   "version": "3.8.10"
  },
  "orig_nbformat": 4
 },
 "nbformat": 4,
 "nbformat_minor": 2
}
