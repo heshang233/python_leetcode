{
 "cells": [
  {
   "cell_type": "markdown",
   "metadata": {},
   "source": [
    "# 2045. [到达目的地的第二短时间](https://leetcode-cn.com/problems/second-minimum-time-to-reach-destination/)"
   ]
  },
  {
   "cell_type": "code",
   "execution_count": 1,
   "metadata": {},
   "outputs": [
    {
     "data": {
      "text/plain": [
       "13"
      ]
     },
     "execution_count": 1,
     "metadata": {},
     "output_type": "execute_result"
    }
   ],
   "source": [
    "from typing import List\n",
    "from collections import deque\n",
    "\n",
    "class Solution:\n",
    "    def secondMinimum(self, n: int, edges: List[List[int]], time: int, change: int) -> int:\n",
    "        graph = [[] for _ in range(n + 1)]\n",
    "        for edge in edges:\n",
    "            graph[edge[0]].append(edge[1]) \n",
    "            graph[edge[1]].append(edge[0])        \n",
    "\n",
    "        dist = [[float('inf')] * 2 for _ in range(n + 1)]\n",
    "        dist[1][0] = 0\n",
    "        q = deque([(1, 0)])   \n",
    "        while dist[n][1] == float('inf'):\n",
    "            p = q.popleft()\n",
    "            for y in graph[p[0]]:\n",
    "                d = p[1] + 1\n",
    "                if d < dist[y][0]:\n",
    "                    dist[y][0] = d\n",
    "                    q.append((y, d))\n",
    "                elif dist[y][0] < d < dist[y][1]:\n",
    "                    dist[y][1] = d\n",
    "                    q.append((y, d))\n",
    "        \n",
    "        ans = 0\n",
    "        for _ in range(dist[n][1]):\n",
    "            if ans%(change*2) >= change:\n",
    "                ans += change*2 - ans%(change*2)\n",
    "            ans += time\n",
    "        return ans\n",
    "\n",
    "Solution().secondMinimum(n = 5, edges = [[1,2],[1,3],[1,4],[3,4],[4,5]], time = 3, change = 5)"
   ]
  },
  {
   "cell_type": "markdown",
   "metadata": {},
   "source": [
    "# 1688. [比赛中的配对次数](https://leetcode-cn.com/problems/count-of-matches-in-tournament/)"
   ]
  },
  {
   "cell_type": "code",
   "execution_count": 4,
   "metadata": {},
   "outputs": [
    {
     "name": "stdout",
     "output_type": "stream",
     "text": [
      "6\n",
      "13\n"
     ]
    }
   ],
   "source": [
    "class Solution:\n",
    "    def numberOfMatches(self, n: int) -> int:\n",
    "        # ans = 0\n",
    "        # while n > 1:\n",
    "        #     t = n // 2\n",
    "        #     n = t + n % 2\n",
    "        #     ans += t\n",
    "        # return ans\n",
    "        # 又是脑筋急转弯\n",
    "        return n - 1\n",
    "print(Solution().numberOfMatches(7))\n",
    "print(Solution().numberOfMatches(14))"
   ]
  }
 ],
 "metadata": {
  "interpreter": {
   "hash": "3a57da47d7432be2ebf54640945d9cc60b99e6d1ae25722168e2af822ccabf93"
  },
  "kernelspec": {
   "display_name": "Python 3.8.10 64-bit ('.venv': venv)",
   "language": "python",
   "name": "python3"
  },
  "language_info": {
   "codemirror_mode": {
    "name": "ipython",
    "version": 3
   },
   "file_extension": ".py",
   "mimetype": "text/x-python",
   "name": "python",
   "nbconvert_exporter": "python",
   "pygments_lexer": "ipython3",
   "version": "3.8.10"
  },
  "orig_nbformat": 4
 },
 "nbformat": 4,
 "nbformat_minor": 2
}
