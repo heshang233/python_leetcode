{
 "cells": [
  {
   "cell_type": "markdown",
   "metadata": {},
   "source": [
    "# 2045. [到达目的地的第二短时间](https://leetcode-cn.com/problems/second-minimum-time-to-reach-destination/)"
   ]
  },
  {
   "cell_type": "code",
   "execution_count": 1,
   "metadata": {},
   "outputs": [
    {
     "data": {
      "text/plain": [
       "13"
      ]
     },
     "execution_count": 1,
     "metadata": {},
     "output_type": "execute_result"
    }
   ],
   "source": [
    "from typing import List\n",
    "from collections import deque\n",
    "\n",
    "class Solution:\n",
    "    def secondMinimum(self, n: int, edges: List[List[int]], time: int, change: int) -> int:\n",
    "        graph = [[] for _ in range(n + 1)]\n",
    "        for edge in edges:\n",
    "            graph[edge[0]].append(edge[1]) \n",
    "            graph[edge[1]].append(edge[0])        \n",
    "\n",
    "        dist = [[float('inf')] * 2 for _ in range(n + 1)]\n",
    "        dist[1][0] = 0\n",
    "        q = deque([(1, 0)])   \n",
    "        while dist[n][1] == float('inf'):\n",
    "            p = q.popleft()\n",
    "            for y in graph[p[0]]:\n",
    "                d = p[1] + 1\n",
    "                if d < dist[y][0]:\n",
    "                    dist[y][0] = d\n",
    "                    q.append((y, d))\n",
    "                elif dist[y][0] < d < dist[y][1]:\n",
    "                    dist[y][1] = d\n",
    "                    q.append((y, d))\n",
    "        \n",
    "        ans = 0\n",
    "        for _ in range(dist[n][1]):\n",
    "            if ans%(change*2) >= change:\n",
    "                ans += change*2 - ans%(change*2)\n",
    "            ans += time\n",
    "        return ans\n",
    "\n",
    "Solution().secondMinimum(n = 5, edges = [[1,2],[1,3],[1,4],[3,4],[4,5]], time = 3, change = 5)"
   ]
  },
  {
   "cell_type": "markdown",
   "metadata": {},
   "source": [
    "# 1688. [比赛中的配对次数](https://leetcode-cn.com/problems/count-of-matches-in-tournament/)"
   ]
  },
  {
   "cell_type": "code",
   "execution_count": 4,
   "metadata": {},
   "outputs": [
    {
     "name": "stdout",
     "output_type": "stream",
     "text": [
      "6\n",
      "13\n"
     ]
    }
   ],
   "source": [
    "class Solution:\n",
    "    def numberOfMatches(self, n: int) -> int:\n",
    "        # ans = 0\n",
    "        # while n > 1:\n",
    "        #     t = n // 2\n",
    "        #     n = t + n % 2\n",
    "        #     ans += t\n",
    "        # return ans\n",
    "        # 又是脑筋急转弯\n",
    "        return n - 1\n",
    "print(Solution().numberOfMatches(7))\n",
    "print(Solution().numberOfMatches(14))"
   ]
  },
  {
   "cell_type": "markdown",
   "metadata": {},
   "source": [
    "# 2013. [检测正方形](https://leetcode-cn.com/problems/detect-squares/)"
   ]
  },
  {
   "cell_type": "code",
   "execution_count": 16,
   "metadata": {},
   "outputs": [
    {
     "name": "stdout",
     "output_type": "stream",
     "text": [
      "1\n",
      "2\n"
     ]
    }
   ],
   "source": [
    "from typing import List\n",
    "class DetectSquares:\n",
    "\n",
    "    def __init__(self):\n",
    "        self.mapx = {}\n",
    "        self.counts = {}\n",
    "\n",
    "    def add(self, point: List[int]) -> None:\n",
    "        x, y = point[0], point[1]\n",
    "        if x in self.mapx:\n",
    "            self.mapx[x].append(y)\n",
    "        else:\n",
    "            self.mapx[x] = [y]\n",
    "        key = str(point[0]) + '_' + str(point[1])\n",
    "        if key in self.counts:\n",
    "            self.counts[key] += 1\n",
    "        else:\n",
    "            self.counts[key] = 1\n",
    "\n",
    "\n",
    "    def count(self, point: List[int]) -> int:\n",
    "        ans, x, y = 0, point[0], point[1]\n",
    "        if x in self.mapx:\n",
    "            for yl in self.mapx[x]:\n",
    "                if y != yl :\n",
    "                    ys = y - yl\n",
    "                    tx = x + ys\n",
    "                   \n",
    "                    if (t3 := str(tx) + '_' + str(y)) in self.counts and (t4 := str(tx) + '_' + str(yl)) in self.counts :\n",
    "                        ans += self.counts[t3] * self.counts[t4]\n",
    "                    tx = x - ys\n",
    "                    if (t3 := str(tx) + '_' + str(y)) in self.counts and (t4 := str(tx) + '_' + str(yl)) in self.counts :\n",
    "                        ans += self.counts[t3] * self.counts[t4]\n",
    "        return ans\n",
    "\n",
    "\n",
    "\n",
    "# Your DetectSquares object will be instantiated and called as such:\n",
    "detectSquares =DetectSquares()\n",
    "detectSquares.add([3, 10])\n",
    "detectSquares.add([11, 2])\n",
    "detectSquares.add([3, 2])\n",
    "print(detectSquares.count([11, 10]))\n",
    "                               \n",
    "detectSquares.count([14, 8])\n",
    "detectSquares.add([11, 2])\n",
    "print(detectSquares.count([11, 10]))"
   ]
  },
  {
   "cell_type": "code",
   "execution_count": 20,
   "metadata": {},
   "outputs": [
    {
     "name": "stdout",
     "output_type": "stream",
     "text": [
      "1\n",
      "2\n"
     ]
    }
   ],
   "source": [
    "from typing import List\n",
    "class DetectSquares:\n",
    "\n",
    "    def __init__(self):\n",
    "        self.map = {}\n",
    "\n",
    "    def add(self, point: List[int]) -> None:\n",
    "        x, y = point[0], point[1]\n",
    "        if x in self.map:\n",
    "            if y in self.map[x]:\n",
    "                self.map[x][y] += 1\n",
    "            else:\n",
    "                self.map[x][y] = 1\n",
    "        else:\n",
    "            self.map[x] = {y:1}\n",
    "\n",
    "    def count(self, point: List[int]) -> int:\n",
    "        ans, x, y = 0, point[0], point[1]\n",
    "        if x in self.map:\n",
    "            t = []\n",
    "            for yl in self.map[x]:\n",
    "                if y != yl and yl not in t:\n",
    "                    ys = y - yl\n",
    "                    xt = x + ys\n",
    "                    if xt in self.map and  y in self.map[xt] and yl in self.map[xt]:\n",
    "                        ans += self.map[x][yl] * self.map[xt][y] * self.map[xt][yl]\n",
    "                    xt = x - ys\n",
    "                    if xt in self.map and y in self.map[xt] and yl in self.map[xt]:\n",
    "                        ans += self.map[x][yl] * self.map[xt][y] * self.map[xt][yl]\n",
    "                    t.append(yl)\n",
    "        return ans\n",
    "\n",
    "\n",
    "\n",
    "# Your DetectSquares object will be instantiated and called as such:\n",
    "detectSquares =DetectSquares()\n",
    "detectSquares.add([3, 10])\n",
    "detectSquares.add([11, 2])\n",
    "detectSquares.add([3, 2])\n",
    "print(detectSquares.count([11, 10]))\n",
    "                               \n",
    "detectSquares.count([14, 8])\n",
    "detectSquares.add([11, 2])\n",
    "print(detectSquares.count([11, 10]))"
   ]
  },
  {
   "cell_type": "markdown",
   "metadata": {},
   "source": [
    "# 1996. [游戏中弱角色的数量](https://leetcode-cn.com/problems/the-number-of-weak-characters-in-the-game/)"
   ]
  },
  {
   "cell_type": "code",
   "execution_count": 40,
   "metadata": {},
   "outputs": [
    {
     "name": "stdout",
     "output_type": "stream",
     "text": [
      "1\n",
      "3\n",
      "4\n",
      "7\n",
      "-----\n",
      "4\n",
      "3\n",
      "7\n",
      "1\n"
     ]
    }
   ],
   "source": [
    "# 单调栈应用\n",
    "list = [1,7,3,4,9,6]\n",
    "stack = []\n",
    "\n",
    "for l in list:\n",
    "    while stack and stack[-1] < l:\n",
    "        print(stack.pop())\n",
    "    stack.append(l)\n",
    "print('-----')\n",
    "stack = []\n",
    "for i in range(len(list)-1, -1, -1):\n",
    "    while stack and stack[-1] <= list[i]:\n",
    "        stack.pop()\n",
    "    if stack:\n",
    "        print(list[i])\n",
    "    stack.append(list[i])\n"
   ]
  },
  {
   "cell_type": "code",
   "execution_count": 30,
   "metadata": {},
   "outputs": [
    {
     "name": "stdout",
     "output_type": "stream",
     "text": [
      "0\n",
      "1\n",
      "1\n",
      "1\n",
      "0\n"
     ]
    }
   ],
   "source": [
    "from typing import List\n",
    "class Solution:\n",
    "    def numberOfWeakCharacters(self, properties: List[List[int]]) -> int:\n",
    "        properties.sort(key = lambda p : (p[0], -p[1]))\n",
    "        ans = 0\n",
    "        stack = []\n",
    "        for i in range(len(properties)-1, -1, -1):\n",
    "            while stack and stack[-1] <= properties[i][1] :\n",
    "                stack.pop()\n",
    "            ans += 1 if stack else 0\n",
    "            stack.append(properties[i][1])\n",
    "        return ans\n",
    "print(Solution().numberOfWeakCharacters(properties = [[5,5],[6,3],[3,6]]))\n",
    "print(Solution().numberOfWeakCharacters(properties = [[2,2],[3,3]]))\n",
    "print(Solution().numberOfWeakCharacters(properties = [[1,5],[10,4],[4,3]]))\n",
    "print(Solution().numberOfWeakCharacters(properties = [[1,6],[2,7],[2,8],[2,6],[30,5]]))\n",
    "print(Solution().numberOfWeakCharacters(properties = [[2,4],[2,8],[2,6]]))"
   ]
  },
  {
   "cell_type": "code",
   "execution_count": 32,
   "metadata": {},
   "outputs": [
    {
     "name": "stdout",
     "output_type": "stream",
     "text": [
      "0\n",
      "1\n",
      "1\n",
      "2\n",
      "0\n"
     ]
    }
   ],
   "source": [
    "from typing import List\n",
    "class Solution:\n",
    "    def numberOfWeakCharacters(self, properties: List[List[int]]) -> int:\n",
    "        properties.sort(key = lambda p : (p[0], -p[1]))\n",
    "        ans = 0\n",
    "        stack = []\n",
    "        for _, d in properties:\n",
    "            while stack and stack[-1] < d:\n",
    "                stack.pop()\n",
    "                ans += 1\n",
    "            stack.append(d) \n",
    "        return ans\n",
    "print(Solution().numberOfWeakCharacters(properties = [[5,5],[6,3],[3,6]]))\n",
    "print(Solution().numberOfWeakCharacters(properties = [[2,2],[3,3]]))\n",
    "print(Solution().numberOfWeakCharacters(properties = [[1,5],[10,4],[4,3]]))\n",
    "print(Solution().numberOfWeakCharacters(properties = [[1,6],[2,4],[2,8],[2,6],[30,5]]))\n",
    "print(Solution().numberOfWeakCharacters(properties = [[2,4],[2,8],[2,6]]))"
   ]
  }
 ],
 "metadata": {
  "interpreter": {
   "hash": "3a57da47d7432be2ebf54640945d9cc60b99e6d1ae25722168e2af822ccabf93"
  },
  "kernelspec": {
   "display_name": "Python 3.8.10 64-bit ('.venv': venv)",
   "language": "python",
   "name": "python3"
  },
  "language_info": {
   "codemirror_mode": {
    "name": "ipython",
    "version": 3
   },
   "file_extension": ".py",
   "mimetype": "text/x-python",
   "name": "python",
   "nbconvert_exporter": "python",
   "pygments_lexer": "ipython3",
   "version": "3.8.10"
  },
  "orig_nbformat": 4
 },
 "nbformat": 4,
 "nbformat_minor": 2
}
