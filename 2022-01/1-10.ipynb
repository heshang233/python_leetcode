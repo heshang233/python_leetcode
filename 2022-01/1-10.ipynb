{
 "cells": [
  {
   "cell_type": "markdown",
   "metadata": {},
   "source": [
    "# 913. [猫和老鼠](https://leetcode-cn.com/problems/cat-and-mouse/)"
   ]
  },
  {
   "cell_type": "code",
   "execution_count": null,
   "metadata": {},
   "outputs": [],
   "source": [
    " \n",
    "\"\"\"\n",
    "思路:\n",
    "将该问题视为状态方程，状态公式[mouse,cat,turn]代表老鼠的位置，猫的位置，下一步轮到谁走\n",
    "猫胜利的状态为[i,i,1]或[i,i,2]（i!=0），1代表老鼠走，2代表猫走\n",
    "老鼠胜利的状态为[0,i,1]或[0,i,2]\n",
    "用0代表未知状态，1代表老鼠赢，2代表猫赢\n",
    "由最终的胜利状态，回推\n",
    "假如当前父节点轮次是1（父节点轮次是2同样的道理）\n",
    "父节点=1 if 子节点是1\n",
    "或者\n",
    "父节点=2 if 所有子节点是2\n",
    "\"\"\"\n",
    "from typing import List\n",
    "import collections\n",
    "class Solution:\n",
    "    def catMouseGame(self, graph: List[List[int]]) -> int:\n",
    "        n = len(graph)\n",
    "        draw, mouse, cat = 0, 1, 2\n",
    "        \n",
    "        #获得任意节点的所有父节点\n",
    "        def parent(m, c, t):\n",
    "            if t == 1:\n",
    "                for i in graph[c]:\n",
    "                    if i:\n",
    "                        yield m, i, 3 - t\n",
    "            else:\n",
    "                for i in graph[m]:\n",
    "                    yield i, c, 3 - t\n",
    " \n",
    "        color = collections.defaultdict(int)\n",
    "        color[0, 0, 1] = mouse\n",
    "        color[0, 0, 2] = mouse\n",
    "        queue = []\n",
    "        degree = collections.defaultdict(int)\n",
    "        # 计算父节点的子节点数目\n",
    "        for i in range(n):\n",
    "            for j in range(n):\n",
    "                degree[i, j, 1] = len(graph[i])\n",
    "                degree[i, j, 2] = len(graph[j]) - (0 in graph[j])\n",
    "        # 计算已知节点\n",
    "        for i in range(1, n):\n",
    "            for j in range(1, 3):\n",
    "                color[i, i, j] = cat\n",
    "                color[0, i, j] = mouse\n",
    "                queue.append((i, i, j, cat))\n",
    "                queue.append((0, i, j, mouse))\n",
    "        while queue:\n",
    "            m, c, t, w = queue.pop(0)\n",
    "            for mp, cp, tp in parent(m, c, t):\n",
    "                if not color[mp, cp, tp]:\n",
    "                    if tp == w:\n",
    "                        color[mp, cp, tp] = w\n",
    "                        queue.append([mp, cp, tp, color[mp, cp, tp]])\n",
    "                    else:\n",
    "                        degree[mp, cp, tp] -= 1\n",
    "                        if not degree[mp, cp, tp]:\n",
    "                            color[mp, cp, tp] = w\n",
    "                            queue.append([mp, cp, tp, color[mp, cp, tp]])\n",
    "        return color[1, 2, 1]\n",
    " "
   ]
  },
  {
   "cell_type": "markdown",
   "metadata": {},
   "source": [
    "代码都看不太明白。动态规划太难了"
   ]
  },
  {
   "cell_type": "markdown",
   "metadata": {},
   "source": [
    "# 71. [简化路径](https://leetcode-cn.com/problems/simplify-path/)"
   ]
  },
  {
   "cell_type": "code",
   "execution_count": 24,
   "metadata": {},
   "outputs": [
    {
     "name": "stdout",
     "output_type": "stream",
     "text": [
      "/1212../.../21\n",
      "/home\n",
      "/\n",
      "/home/foo\n"
     ]
    }
   ],
   "source": [
    "class Solution:\n",
    "    def simplifyPath(self, path: str) -> str:\n",
    "        stack = []\n",
    "        for p in path.split('/'):\n",
    "            if not p or p == '.':\n",
    "                continue\n",
    "            if p == '..':\n",
    "                if stack:\n",
    "                    stack.pop()\n",
    "            else:\n",
    "                stack.append(p)\n",
    "        return '/'+'/'.join(stack)\n",
    "print(Solution().simplifyPath('/home///12/./../12/../../../../../1212../...///21'))\n",
    "print(Solution().simplifyPath('/home///'))\n",
    "print(Solution().simplifyPath('/..///'))\n",
    "print(Solution().simplifyPath('/home//foo/'))"
   ]
  },
  {
   "cell_type": "markdown",
   "metadata": {},
   "source": [
    "# 306. [累加数](https://leetcode-cn.com/problems/additive-number/)\n",
    "\n",
    "看上去挺复杂，但还挺快的。。以后有时间可以研究研究"
   ]
  },
  {
   "cell_type": "code",
   "execution_count": null,
   "metadata": {},
   "outputs": [],
   "source": [
    "class Solution:\n",
    "    def isAdditiveNumber(self, num: str) -> bool:\n",
    "        n = len(num)\n",
    "        for secondStart in range(1, n-1):\n",
    "            if num[0] == '0' and secondStart != 1:\n",
    "                break\n",
    "            for secondEnd in range(secondStart, n-1):\n",
    "                if num[secondStart] == '0' and secondStart != secondEnd:\n",
    "                    break\n",
    "                if self.valid(secondStart, secondEnd, num):\n",
    "                    return True\n",
    "        return False\n",
    "    \n",
    "    def valid(self, secondStart: int, secondEnd: int, num: str) -> bool:\n",
    "        n = len(num)\n",
    "        firstStart, firstEnd = 0, secondStart - 1\n",
    "        while secondEnd <= n - 1:\n",
    "            third = self.stringAdd(num, firstStart, firstEnd, secondStart, secondEnd)\n",
    "            thirdStart = secondEnd + 1\n",
    "            thirdEnd = secondEnd + len(third)\n",
    "            if thirdEnd >= n or num[thirdStart:thirdEnd+1] != third:\n",
    "                break\n",
    "            if thirdEnd == n-1:\n",
    "                return True\n",
    "            firstStart, firstEnd = secondStart, secondEnd\n",
    "            secondStart, secondEnd = thirdStart, thirdEnd\n",
    "        return False\n",
    "    \n",
    "    def stringAdd(self, s: str, firstStart: int, firstEnd: int, secondStart: int, secondEnd: int) -> str:\n",
    "        third = []\n",
    "        carry, cur = 0, 0\n",
    "        while firstEnd >= firstStart or secondEnd >= secondStart or carry != 0:\n",
    "            cur = carry\n",
    "            if firstEnd >= firstStart:\n",
    "                cur += ord(s[firstEnd]) - ord('0')\n",
    "                firstEnd -= 1\n",
    "            if secondEnd >= secondStart:\n",
    "                cur += ord(s[secondEnd]) - ord('0')\n",
    "                secondEnd -= 1\n",
    "            carry = cur // 10\n",
    "            cur %= 10\n",
    "            third.append(chr(cur + ord('0')))\n",
    "        return ''.join(third[::-1])"
   ]
  },
  {
   "cell_type": "markdown",
   "metadata": {},
   "source": [
    "#"
   ]
  }
 ],
 "metadata": {
  "interpreter": {
   "hash": "3a57da47d7432be2ebf54640945d9cc60b99e6d1ae25722168e2af822ccabf93"
  },
  "kernelspec": {
   "display_name": "Python 3.8.10 64-bit ('.venv': venv)",
   "language": "python",
   "name": "python3"
  },
  "language_info": {
   "codemirror_mode": {
    "name": "ipython",
    "version": 3
   },
   "file_extension": ".py",
   "mimetype": "text/x-python",
   "name": "python",
   "nbconvert_exporter": "python",
   "pygments_lexer": "ipython3",
   "version": "3.8.10"
  },
  "orig_nbformat": 4
 },
 "nbformat": 4,
 "nbformat_minor": 2
}
