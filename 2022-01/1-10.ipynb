{
 "cells": [
  {
   "cell_type": "markdown",
   "metadata": {},
   "source": [
    "# 913. [猫和老鼠](https://leetcode-cn.com/problems/cat-and-mouse/)"
   ]
  },
  {
   "cell_type": "code",
   "execution_count": null,
   "metadata": {},
   "outputs": [],
   "source": [
    " \n",
    "\"\"\"\n",
    "思路:\n",
    "将该问题视为状态方程，状态公式[mouse,cat,turn]代表老鼠的位置，猫的位置，下一步轮到谁走\n",
    "猫胜利的状态为[i,i,1]或[i,i,2]（i!=0），1代表老鼠走，2代表猫走\n",
    "老鼠胜利的状态为[0,i,1]或[0,i,2]\n",
    "用0代表未知状态，1代表老鼠赢，2代表猫赢\n",
    "由最终的胜利状态，回推\n",
    "假如当前父节点轮次是1（父节点轮次是2同样的道理）\n",
    "父节点=1 if 子节点是1\n",
    "或者\n",
    "父节点=2 if 所有子节点是2\n",
    "\"\"\"\n",
    "from typing import List\n",
    "import collections\n",
    "class Solution:\n",
    "    def catMouseGame(self, graph: List[List[int]]) -> int:\n",
    "        n = len(graph)\n",
    "        draw, mouse, cat = 0, 1, 2\n",
    "        \n",
    "        #获得任意节点的所有父节点\n",
    "        def parent(m, c, t):\n",
    "            if t == 1:\n",
    "                for i in graph[c]:\n",
    "                    if i:\n",
    "                        yield m, i, 3 - t\n",
    "            else:\n",
    "                for i in graph[m]:\n",
    "                    yield i, c, 3 - t\n",
    " \n",
    "        color = collections.defaultdict(int)\n",
    "        color[0, 0, 1] = mouse\n",
    "        color[0, 0, 2] = mouse\n",
    "        queue = []\n",
    "        degree = collections.defaultdict(int)\n",
    "        # 计算父节点的子节点数目\n",
    "        for i in range(n):\n",
    "            for j in range(n):\n",
    "                degree[i, j, 1] = len(graph[i])\n",
    "                degree[i, j, 2] = len(graph[j]) - (0 in graph[j])\n",
    "        # 计算已知节点\n",
    "        for i in range(1, n):\n",
    "            for j in range(1, 3):\n",
    "                color[i, i, j] = cat\n",
    "                color[0, i, j] = mouse\n",
    "                queue.append((i, i, j, cat))\n",
    "                queue.append((0, i, j, mouse))\n",
    "        while queue:\n",
    "            m, c, t, w = queue.pop(0)\n",
    "            for mp, cp, tp in parent(m, c, t):\n",
    "                if not color[mp, cp, tp]:\n",
    "                    if tp == w:\n",
    "                        color[mp, cp, tp] = w\n",
    "                        queue.append([mp, cp, tp, color[mp, cp, tp]])\n",
    "                    else:\n",
    "                        degree[mp, cp, tp] -= 1\n",
    "                        if not degree[mp, cp, tp]:\n",
    "                            color[mp, cp, tp] = w\n",
    "                            queue.append([mp, cp, tp, color[mp, cp, tp]])\n",
    "        return color[1, 2, 1]\n",
    " "
   ]
  },
  {
   "cell_type": "markdown",
   "metadata": {},
   "source": [
    "代码都看不太明白。动态规划太难了"
   ]
  }
 ],
 "metadata": {
  "interpreter": {
   "hash": "3a57da47d7432be2ebf54640945d9cc60b99e6d1ae25722168e2af822ccabf93"
  },
  "kernelspec": {
   "display_name": "Python 3.8.10 64-bit ('.venv': venv)",
   "language": "python",
   "name": "python3"
  },
  "language_info": {
   "name": "python",
   "version": "3.8.10"
  },
  "orig_nbformat": 4
 },
 "nbformat": 4,
 "nbformat_minor": 2
}
