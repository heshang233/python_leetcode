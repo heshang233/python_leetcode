{
 "cells": [
  {
   "cell_type": "markdown",
   "metadata": {},
   "source": [
    "# 420. [强密码检验器](https://leetcode-cn.com/problems/strong-password-checker/)"
   ]
  },
  {
   "cell_type": "code",
   "execution_count": 4,
   "metadata": {},
   "outputs": [
    {
     "name": "stdout",
     "output_type": "stream",
     "text": [
      "2\n",
      "6\n",
      "24\n"
     ]
    }
   ],
   "source": [
    "class Solution:\n",
    "    def strongPasswordChecker(self, password: str) -> int:\n",
    "        n = len(password)\n",
    "        has_lower = has_upper = has_digit = False\n",
    "        for ch in password:\n",
    "            if ch.islower():\n",
    "                has_lower = True\n",
    "            elif ch.isupper():\n",
    "                has_upper = True\n",
    "            elif ch.isdigit():\n",
    "                has_digit = True\n",
    "        categories = has_lower + has_upper + has_digit\n",
    "\n",
    "        if n < 6:\n",
    "            return max(6 - n, 3 - categories)\n",
    "        elif n <= 20:\n",
    "            replace = cnt = 0\n",
    "            cur = '#'\n",
    "            for ch in password:\n",
    "                if ch == cur:\n",
    "                    cnt += 1\n",
    "                else:\n",
    "                    replace += cnt // 3\n",
    "                    cnt = 1\n",
    "                    cur = ch\n",
    "            replace += cnt // 3\n",
    "            return max(replace, 3 - categories)\n",
    "        else:\n",
    "            replace, remove = 0, n - 20\n",
    "            rm2 = cnt = 0\n",
    "            cur = '#'\n",
    "            for ch in password:\n",
    "                if ch == cur:\n",
    "                    cnt += 1\n",
    "                else:\n",
    "                    if remove > 0 and cnt >= 3:\n",
    "                        if cnt % 3 == 0:\n",
    "                            remove -= 1\n",
    "                            replace -= 1\n",
    "                        elif cnt % 3 == 1:\n",
    "                            rm2 += 1\n",
    "                    replace += cnt // 3\n",
    "                    cnt = 1\n",
    "                    cur = ch\n",
    "            if remove > 0 and cnt >= 3:\n",
    "                if cnt % 3 == 0:\n",
    "                    remove -= 1\n",
    "                    replace -= 1\n",
    "                elif cnt % 3 == 1:\n",
    "                    rm2 += 1\n",
    "            replace += cnt // 3\n",
    "            use2 = min(replace, rm2, remove // 2)\n",
    "            replace -= use2\n",
    "            remove -= use2 * 2\n",
    "            use3 = min(replace, remove // 3)\n",
    "            replace -= use3\n",
    "            remove -= use3 * 3\n",
    "            return (n - 20) + max(replace, 3 -categories)\n",
    "print(Solution().strongPasswordChecker('aaaaa'))\n",
    "print(Solution().strongPasswordChecker('aaaaaaaaaaaaaaaaaaa'))\n",
    "print(Solution().strongPasswordChecker('aaaaaaaaaaaaaaaaaaaaaaaaaaaaaaaaaaaaaa'))"
   ]
  }
 ],
 "metadata": {
  "interpreter": {
   "hash": "3a57da47d7432be2ebf54640945d9cc60b99e6d1ae25722168e2af822ccabf93"
  },
  "kernelspec": {
   "display_name": "Python 3.8.10 ('.venv': venv)",
   "language": "python",
   "name": "python3"
  },
  "language_info": {
   "codemirror_mode": {
    "name": "ipython",
    "version": 3
   },
   "file_extension": ".py",
   "mimetype": "text/x-python",
   "name": "python",
   "nbconvert_exporter": "python",
   "pygments_lexer": "ipython3",
   "version": "3.8.10"
  },
  "orig_nbformat": 4
 },
 "nbformat": 4,
 "nbformat_minor": 2
}
