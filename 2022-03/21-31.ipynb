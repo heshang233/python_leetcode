{
 "cells": [
  {
   "cell_type": "markdown",
   "metadata": {},
   "source": [
    "# 2038. [如果相邻两个颜色均相同则删除当前颜色](https://leetcode-cn.com/problems/remove-colored-pieces-if-both-neighbors-are-the-same-color/)"
   ]
  },
  {
   "cell_type": "code",
   "execution_count": null,
   "metadata": {},
   "outputs": [],
   "source": [
    "class Solution:\n",
    "    def winnerOfGame(self, colors: str) -> bool:\n",
    "        sum = 0\n",
    "        for i in range(1, len(colors) - 1):\n",
    "            if colors[i] == 'A' and colors[i - 1] == 'A' and colors[i + 1] == 'A':\n",
    "                sum += 1\n",
    "            if colors[i] == 'B' and colors[i - 1] == 'B' and colors[i + 1] == 'B':\n",
    "                sum -= 1\n",
    "        return sum > 0"
   ]
  },
  {
   "cell_type": "markdown",
   "metadata": {},
   "source": [
    "# 440. [字典序的第K小数字](https://leetcode-cn.com/problems/k-th-smallest-in-lexicographical-order/)"
   ]
  },
  {
   "cell_type": "code",
   "execution_count": 13,
   "metadata": {},
   "outputs": [
    {
     "data": {
      "text/plain": [
       "2730010"
      ]
     },
     "execution_count": 13,
     "metadata": {},
     "output_type": "execute_result"
    }
   ],
   "source": [
    "class Trie:\n",
    "    def __init__(self):\n",
    "        self.count = 0\n",
    "        self.val = None\n",
    "        self.nextNode = [None]*10\n",
    "    def insert(self, s: str):\n",
    "        root = self\n",
    "        for i in range(len(s)):\n",
    "            x = int(s[i])\n",
    "            root.count += 1\n",
    "            if not root.nextNode[x]:\n",
    "                root.nextNode[x] = Trie()\n",
    "                root.nextNode[x].val = int(s)\n",
    "                root.nextNode[x].count = 1\n",
    "            root = root.nextNode[x]\n",
    "    \n",
    "\n",
    "class Solution:\n",
    "    def findKthNumber(self, n: int, k: int) -> int:\n",
    "        root = Trie()\n",
    "        for i in range(1, n+1):\n",
    "            root.insert(str(i))\n",
    "        sum = 0\n",
    "        while sum < k:\n",
    "            for i in range(10):\n",
    "                if root.nextNode[i]:\n",
    "                    if sum + root.nextNode[i].count >= k:\n",
    "                        root = root.nextNode[i]\n",
    "                        sum += 1\n",
    "                        break\n",
    "                    else:\n",
    "                        sum += root.nextNode[i].count\n",
    "        return root.val\n",
    "Solution().findKthNumber(4289384, 1922239)"
   ]
  },
  {
   "cell_type": "code",
   "execution_count": 14,
   "metadata": {},
   "outputs": [
    {
     "data": {
      "text/plain": [
       "2730010"
      ]
     },
     "execution_count": 14,
     "metadata": {},
     "output_type": "execute_result"
    }
   ],
   "source": [
    "class Solution:\n",
    "    def findKthNumber(self, n: int, k: int) -> int:\n",
    "        root = 1\n",
    "        while k > 1:\n",
    "            count = 0\n",
    "            f = root\n",
    "            s = root + 1\n",
    "            while f <= n:\n",
    "                count += min(n + 1, s) - f\n",
    "                f *= 10\n",
    "                s *= 10\n",
    "            if count <= k - 1:\n",
    "                root += 1\n",
    "                k -= count\n",
    "            else:\n",
    "                root *= 10\n",
    "                k -= 1\n",
    "        return root\n",
    "Solution().findKthNumber(4289384, 1922239)"
   ]
  },
  {
   "cell_type": "markdown",
   "metadata": {},
   "source": [
    "# 172. [阶乘后的零](https://leetcode-cn.com/problems/factorial-trailing-zeroes/)"
   ]
  },
  {
   "cell_type": "code",
   "execution_count": 72,
   "metadata": {},
   "outputs": [
    {
     "data": {
      "text/plain": [
       "2481"
      ]
     },
     "execution_count": 72,
     "metadata": {},
     "output_type": "execute_result"
    }
   ],
   "source": [
    "class Solution:\n",
    "    def trailingZeroes(self, n: int) -> int:\n",
    "        ans = 0\n",
    "        map = {875:3, 375:3, 625:4, 125:3, 25:2, 75:2, 5:1}\n",
    "        for i in range(1, n+1):\n",
    "            t = i\n",
    "            while t % 10 == 0:\n",
    "                t = t / 10\n",
    "                ans += 1\n",
    "            else:\n",
    "                for k, v in map.items():\n",
    "                    if t % (10**(v)) == k:\n",
    "                        ans += v\n",
    "                        break\n",
    "        return ans\n",
    "Solution().trailingZeroes(10000)\n",
    "# 穷举法没用~"
   ]
  },
  {
   "cell_type": "code",
   "execution_count": 75,
   "metadata": {},
   "outputs": [
    {
     "data": {
      "text/plain": [
       "2499"
      ]
     },
     "execution_count": 75,
     "metadata": {},
     "output_type": "execute_result"
    }
   ],
   "source": [
    "# 数有多少个5\n",
    "class Solution:\n",
    "    def trailingZeroes(self, n: int) -> int:\n",
    "        ans = 0\n",
    "        for i in range(5, n + 1, 5):\n",
    "            while i % 5 == 0:\n",
    "                ans += 1\n",
    "                i //= 5\n",
    "        return ans\n",
    "Solution().trailingZeroes(10000)"
   ]
  },
  {
   "cell_type": "code",
   "execution_count": 77,
   "metadata": {},
   "outputs": [
    {
     "data": {
      "text/plain": [
       "2499"
      ]
     },
     "execution_count": 77,
     "metadata": {},
     "output_type": "execute_result"
    }
   ],
   "source": [
    "# 优化方案：虽然看不懂，但有个例子，\n",
    "# 如找1-100有多少个5，\n",
    "# 第一次除以5得20 表示 存在20个有一个5的数字，如 5，10，15，20.。。。\n",
    "# 第二次除以5得4 表示 存在4个有两个5的数字，如 25，50，75，100\n",
    "# 第三次除以5得0 即 不存在有三个5得数字，如此即有24个\n",
    "class Solution:\n",
    "    def trailingZeroes(self, n: int) -> int:\n",
    "        ans = 0\n",
    "        while n >= 5:\n",
    "            ans += n // 5\n",
    "            n //= 5\n",
    "        return ans\n",
    "Solution().trailingZeroes(10000)\n"
   ]
  },
  {
   "cell_type": "markdown",
   "metadata": {},
   "source": [
    "# 2024. [考试的最大困扰度](https://leetcode-cn.com/problems/maximize-the-confusion-of-an-exam/)"
   ]
  },
  {
   "cell_type": "code",
   "execution_count": 3,
   "metadata": {},
   "outputs": [
    {
     "data": {
      "text/plain": [
       "5"
      ]
     },
     "execution_count": 3,
     "metadata": {},
     "output_type": "execute_result"
    }
   ],
   "source": [
    "class Solution:\n",
    "    def maxConsecutiveAnswers(self, answerKey: str, k: int) -> int:\n",
    "        l, r = 0, 0\n",
    "        sumT, sumF = 0, 0\n",
    "        ans = 0\n",
    "        n = len(answerKey)\n",
    "        while r < n:\n",
    "            if answerKey[r] == 'T':\n",
    "                sumT += 1\n",
    "            else:\n",
    "                sumF += 1\n",
    "            if sumT <= k or sumF <= k:\n",
    "                ans = max(ans, r - l + 1)\n",
    "            else:\n",
    "                while sumT > k and sumF > k:\n",
    "                    if answerKey[l] == 'T':\n",
    "                        sumT -= 1\n",
    "                    else:\n",
    "                        sumF -= 1 \n",
    "                    l += 1\n",
    "            r += 1\n",
    "        return ans\n",
    "Solution().maxConsecutiveAnswers(\"TTFTTFTT\", 1)"
   ]
  },
  {
   "cell_type": "markdown",
   "metadata": {},
   "source": [
    "# 1606. [找到处理最多请求的服务器](https://leetcode-cn.com/problems/find-servers-that-handled-most-number-of-requests/)"
   ]
  },
  {
   "cell_type": "code",
   "execution_count": 9,
   "metadata": {},
   "outputs": [
    {
     "name": "stdout",
     "output_type": "stream",
     "text": [
      "[1]\n"
     ]
    },
    {
     "data": {
      "text/plain": [
       "[0]"
      ]
     },
     "execution_count": 9,
     "metadata": {},
     "output_type": "execute_result"
    }
   ],
   "source": [
    "# 要确定服务器是否可用，请跟踪堆中每个任务的结束时间，并在最快的任务结束时间小于或等于要添加的下一个任务时将服务器添加到可用集中。\n",
    "# 要加快下一个可用服务器搜索，请以有序结构（例如有序集）跟踪可用服务器。\n",
    "from typing import List\n",
    "class Solution:\n",
    "    def busiestServers(self, k: int, arrival: List[int], load: List[int]) -> List[int]:\n",
    "        service = [0]*k\n",
    "        m = 0\n",
    "        result = [0]*k\n",
    "        for i, a in enumerate(arrival):\n",
    "            si = i%k\n",
    "            t = i\n",
    "            while service[si] > a:\n",
    "                si = (t+1)%k\n",
    "                t += 1\n",
    "                if t - i > k:\n",
    "                    break\n",
    "            else:\n",
    "                result[si] += 1\n",
    "                m = max(m, result[si])\n",
    "                service[si] = a + load[i]\n",
    "        return [i for i, ans in enumerate(result) if ans == m]\n",
    "Solution().busiestServers(k = 1, arrival = [1], load = [1])     \n",
    "                \n",
    "# 芭比Q了，暴力超时了\n"
   ]
  },
  {
   "cell_type": "code",
   "execution_count": 10,
   "metadata": {},
   "outputs": [
    {
     "data": {
      "text/plain": [
       "[0]"
      ]
     },
     "execution_count": 10,
     "metadata": {},
     "output_type": "execute_result"
    }
   ],
   "source": [
    "from typing import List\n",
    "from heapq import heappop\n",
    "from heapq import heappush\n",
    "class Solution:\n",
    "    def busiestServers(self, k: int, arrival: List[int], load: List[int]) -> List[int]:\n",
    "        available = list(range(k))\n",
    "        busy = []\n",
    "        requests = [0] * k\n",
    "        for i, (start, t) in enumerate(zip(arrival, load)):\n",
    "            while busy and busy[0][0] <= start:\n",
    "                _, id = heappop(busy)\n",
    "                heappush(available, i + (id - i) % k)\n",
    "            if available:\n",
    "                id = heappop(available) % k\n",
    "                requests[id] += 1\n",
    "                heappush(busy, (start + t, id))\n",
    "        maxRequest = max(requests)\n",
    "        return [i for i, req in enumerate(requests) if req == maxRequest]\n",
    "Solution().busiestServers(k = 1, arrival = [1], load = [1])     "
   ]
  }
 ],
 "metadata": {
  "interpreter": {
   "hash": "3a57da47d7432be2ebf54640945d9cc60b99e6d1ae25722168e2af822ccabf93"
  },
  "kernelspec": {
   "display_name": "Python 3.8.10 ('.venv': venv)",
   "language": "python",
   "name": "python3"
  },
  "language_info": {
   "codemirror_mode": {
    "name": "ipython",
    "version": 3
   },
   "file_extension": ".py",
   "mimetype": "text/x-python",
   "name": "python",
   "nbconvert_exporter": "python",
   "pygments_lexer": "ipython3",
   "version": "3.8.10"
  },
  "orig_nbformat": 4
 },
 "nbformat": 4,
 "nbformat_minor": 2
}
