{
 "cells": [
  {
   "cell_type": "markdown",
   "metadata": {},
   "source": [
    "# 2055. [蜡烛之间的盘子](https://leetcode-cn.com/problems/plates-between-candles/)"
   ]
  },
  {
   "cell_type": "code",
   "execution_count": 13,
   "metadata": {},
   "outputs": [
    {
     "name": "stdout",
     "output_type": "stream",
     "text": [
      "0 1 [3, 6, 12, 15, 16, 19]\n",
      "0 4 [3, 6, 12, 15, 16, 19]\n",
      "1 0 [3, 6, 12, 15, 16, 19]\n",
      "3 4 [3, 6, 12, 15, 16, 19]\n",
      "1 1 [3, 6, 12, 15, 16, 19]\n",
      "3 4 [3, 6, 12, 15, 16, 19]\n",
      "[2, 9, 0, 0, 0, 0]\n",
      "0 1 [2, 5, 9]\n",
      "1 2 [2, 5, 9]\n",
      "[2, 3]\n"
     ]
    }
   ],
   "source": [
    "from typing import List\n",
    "class Solution:\n",
    "    def platesBetweenCandles(self, s: str, queries: List[List[int]]) -> List[int]:\n",
    "        n = len(s)\n",
    "        candle = []\n",
    "        for i in range(n):\n",
    "            if s[i] == '|':\n",
    "                candle.append(i)\n",
    "        ans = [0] * len(queries)\n",
    "        for i, query in enumerate(queries):\n",
    "            left, right = query[0], query[1]\n",
    "            l, r = 0, len(candle) - 1\n",
    "            left_index = -1\n",
    "            while l <= r:\n",
    "                mid = l + ((r - l) >> 1)\n",
    "                if candle[mid] < left:\n",
    "                    l = mid + 1\n",
    "                elif candle[mid] > left:\n",
    "                    r = mid - 1\n",
    "                else:\n",
    "                    left_index = mid\n",
    "                    break\n",
    "            else:\n",
    "                left_index = l\n",
    "            l, r = 0, len(candle) - 1\n",
    "            right_index = -1\n",
    "            while l <= r:\n",
    "                mid = l + ((r - l) >> 1)\n",
    "                if candle[mid] < right:\n",
    "                    l = mid + 1\n",
    "                elif candle[mid] > right:\n",
    "                    r = mid - 1\n",
    "                else:\n",
    "                    right_index = mid\n",
    "                    break\n",
    "            else:\n",
    "                right_index = r\n",
    "            print(left_index, right_index, candle)\n",
    "            if right_index != left_index:\n",
    "                for j in range(left_index, right_index):\n",
    "                    ans[i] += (candle[j + 1] - candle[j] - 1)\n",
    "        return ans\n",
    "print(Solution().platesBetweenCandles(s = \"***|**|*****|**||**|*\", queries = [[0,6],[1,17],[4,5],[14,17],[5,11],[15,16]]))\n",
    "\n",
    "print(Solution().platesBetweenCandles(s = \"**|**|***|\", queries = [[2,5],[5,9]]))\n",
    "\n",
    "# 执行超时 gg"
   ]
  },
  {
   "cell_type": "code",
   "execution_count": 18,
   "metadata": {},
   "outputs": [
    {
     "name": "stdout",
     "output_type": "stream",
     "text": [
      "3 6 [0, 1, 2, 3, 3, 4, 5, 5, 6, 7, 8, 9, 10, 10, 11, 12, 12, 12, 13, 14, 14]\n",
      "3 16 [0, 1, 2, 3, 3, 4, 5, 5, 6, 7, 8, 9, 10, 10, 11, 12, 12, 12, 13, 14, 14]\n",
      "6 3 [0, 1, 2, 3, 3, 4, 5, 5, 6, 7, 8, 9, 10, 10, 11, 12, 12, 12, 13, 14, 14]\n",
      "15 16 [0, 1, 2, 3, 3, 4, 5, 5, 6, 7, 8, 9, 10, 10, 11, 12, 12, 12, 13, 14, 14]\n",
      "6 6 [0, 1, 2, 3, 3, 4, 5, 5, 6, 7, 8, 9, 10, 10, 11, 12, 12, 12, 13, 14, 14]\n",
      "15 16 [0, 1, 2, 3, 3, 4, 5, 5, 6, 7, 8, 9, 10, 10, 11, 12, 12, 12, 13, 14, 14]\n",
      "[2, 9, 0, 0, 0, 0]\n",
      "2 5 [0, 1, 2, 2, 3, 4, 4, 5, 6, 7]\n",
      "5 9 [0, 1, 2, 2, 3, 4, 4, 5, 6, 7]\n",
      "[2, 3]\n"
     ]
    }
   ],
   "source": [
    "from typing import List\n",
    "class Solution:\n",
    "    def platesBetweenCandles(self, s: str, queries: List[List[int]]) -> List[int]:\n",
    "        n = len(s)\n",
    "        lcandle, rcandle = [-1] * n, [-1] * n\n",
    "        prefix_plate = [0] * n\n",
    "        if s[0] == '|':\n",
    "            lcandle[0] = 0\n",
    "        if s[n - 1] == '|':\n",
    "            rcandle[n - 1] = n - 1\n",
    "        for i in range(1, n):\n",
    "            prefix_plate[i] = prefix_plate[i - 1] + 1 if s[i - 1] == '*' else prefix_plate[i - 1]\n",
    "            lcandle[i] = i if s[i] == '|' else lcandle[i - 1]\n",
    "        for i in range(n-2, -1, -1):\n",
    "            rcandle[i] = i if s[i] == '|' else rcandle[i + 1]\n",
    "\n",
    "        ans = [0] * len(queries)\n",
    "        for i, (left, right) in enumerate(queries):\n",
    "            left_index, right_index = rcandle[left], lcandle[right]\n",
    "            if left_index >= 0 and right_index >= 0 and left_index < right_index:\n",
    "                ans[i] = prefix_plate[right_index] - prefix_plate[left_index]\n",
    "        return ans\n",
    "print(Solution().platesBetweenCandles(s = \"***|**|*****|**||**|*\", queries = [[0,6],[1,17],[4,5],[14,17],[5,11],[15,16]]))\n",
    "\n",
    "print(Solution().platesBetweenCandles(s = \"**|**|***|\", queries = [[2,5],[5,9]]))\n"
   ]
  },
  {
   "cell_type": "markdown",
   "metadata": {},
   "source": [
    "# 798. [得分最高的最小轮调](https://leetcode-cn.com/problems/smallest-rotation-with-highest-score/)"
   ]
  },
  {
   "cell_type": "code",
   "execution_count": 21,
   "metadata": {},
   "outputs": [
    {
     "name": "stdout",
     "output_type": "stream",
     "text": [
      "0 2 2 [-2, -2, 1, -1, 4] []\n",
      "1 3 3 [-2, 1, -1, 4] [-2]\n",
      "2 3 3 [1, -1, 4] [-2, -2]\n",
      "3 4 4 [-1, 4] [-2, -2, 1]\n",
      "4 4 3 [4] [-2, -2, 1, -1]\n",
      "0 3 3 [-1, -2, 2, 1, 0] []\n",
      "1 3 3 [-2, 2, 1, 0] [-1]\n",
      "2 3 3 [2, 1, 0] [-1, -2]\n",
      "3 3 3 [1, 0] [-1, -2, 2]\n",
      "4 3 3 [0] [-1, -2, 2, 1]\n"
     ]
    },
    {
     "data": {
      "text/plain": [
       "0"
      ]
     },
     "execution_count": 21,
     "metadata": {},
     "output_type": "execute_result"
    }
   ],
   "source": [
    "from typing import List\n",
    "from functools import reduce\n",
    "class Solution:\n",
    "    def bestRotation(self, nums: List[int]) -> int:\n",
    "        sub, n = [], len(nums)\n",
    "        for i, num in enumerate(nums):\n",
    "            sub.append(i - num)\n",
    "        max_point = 0\n",
    "        ans = 0\n",
    "        for k in range(n):\n",
    "            point_x = 0\n",
    "            if k > 0:\n",
    "                point_x = reduce(lambda x, y: x + y, [1 if v >= k - n else 0 for v in sub[0:k]])\n",
    "            point_y = reduce(lambda x, y: x + y, [1 if v >= k else 0 for v in sub[k::]])\n",
    "            if max_point < point_x + point_y:\n",
    "                max_point = point_x + point_y\n",
    "                ans = k \n",
    "            print(k, max_point, point_x + point_y, sub[k::], sub[0:k])\n",
    "        return ans\n",
    "Solution().bestRotation(nums = [2,3,1,4,0])\n",
    "Solution().bestRotation(nums = [1,3,0,2,4])\n",
    "        \n",
    "# 必超时"
   ]
  },
  {
   "cell_type": "code",
   "execution_count": 24,
   "metadata": {},
   "outputs": [
    {
     "name": "stdout",
     "output_type": "stream",
     "text": [
      "[2, 1, 0, 1, -1, -3]\n",
      "[3, 0, 0, 0, 0, -3]\n"
     ]
    },
    {
     "data": {
      "text/plain": [
       "0"
      ]
     },
     "execution_count": 24,
     "metadata": {},
     "output_type": "execute_result"
    }
   ],
   "source": [
    "from typing import List\n",
    "from functools import reduce\n",
    "class Solution:\n",
    "    def bestRotation(self, nums: List[int]) -> int:\n",
    "        n = len(nums)\n",
    "        map = [0] * (n + 1)\n",
    "        for i, num in enumerate(nums):\n",
    "            if i < num:\n",
    "                map[i + 1] += 1\n",
    "                map[n + i - num + 1] -= 1\n",
    "            else:\n",
    "                map[0] += 1\n",
    "                map[i - num + 1] -= 1\n",
    "                map[i + 1] += 1\n",
    "                map[n] -= 1\n",
    "        ans = 0\n",
    "        print(map)\n",
    "        for i in range(n):\n",
    "            map[i] += map[i - 1]\n",
    "            if map[i] > map[ans]:\n",
    "                ans = i\n",
    "        return ans\n",
    "Solution().bestRotation(nums = [2,3,1,4,0])\n",
    "Solution().bestRotation(nums = [1,3,0,2,4])"
   ]
  },
  {
   "cell_type": "markdown",
   "metadata": {},
   "source": [
    "### 这个所谓最详细解法的思路分析还是看不懂\n",
    "思路分析：这道题可能大家都是想着直接移动，然后计算分数，再取最高值。蛋式A的长度比较大的时候耗时就非常大了。\n",
    "\n",
    "我们以A=[2,3,1,4,0]为例寻找规律:\n",
    "\n",
    "A[0]=2移动到 2 号索引位置[4,0,2,3,1]其对应的K为3=(0-A[0]+5)%5  \n",
    "A[1]=3移动到 3 号索引位置[0,2,3,1,4]其对应的K为3=(1-A[1]+5)%5  \n",
    "A[2]=1移动到 1 号索引位置[3,1,4,0,2]其对应的K为1=(2-A[2]+5)%5  \n",
    "A[3]=4移动到 4 号索引位置[0,2,3,1,4]其对应的K为1=(3-A[3]+5)%5  \n",
    "A[4]=0移动到 0 号索引位置[0,2,3,1,4]其对应的K为3=(4-A[4]+5)%5  \n",
    "\n",
    "由此可以得出一个公式，将A[i]向左移动到下标A[A[i]]的位置需要K = (i - A[i] + N) % N  \n",
    "并且我们发现，A[A[i]]是第一个A[i]能得分的位置，如果这时减小K，则A[i]继续得分，如果增大K则A[i]将不得分。  \n",
    "如果我们能够刚好把所有A[i]都移动到A[A[i]]的位置，那么我们拿到的分数肯定的是最高的，蛋式这种情况几乎不可能。  \n",
    "\n",
    "当我们把A[i]移动到A[A[i]]后，再向左移动一个位置（即K增加1）。A[i]的移动公式为K’ = (1 + i - A[i] + N) % N这个时候A[i]刚好不得分。  \n",
    "\n",
    "我们可以在这个刚好不得分的k标记一下，通过+1进行标记，这个k就是 (i - A[i] + 1 + N) % N。用一个长度为N  \n",
    "的myK数组，对于每个元素A[i]，我们都找到其刚好不得分的k = (i - A[i] + 1 + N) % N，那么此时myK[k]就表示  \n",
    "数组中的数字在K = k时，A数组中不得分的元素个数。  \n",
    "\n",
    "可以发现，如果当K = k时，A[i]刚好不得分，当K = k + 1时（左移一个）A[i]继续不得分，蛋式当K = k + 1时  \n",
    "有一个元素开始得分了，就是在当K = k处于A[0]的元素开始得分！！！  \n",
    "\n",
    "因此递推公式为：myK[k + 1] += myK[k] - 1"
   ]
  },
  {
   "cell_type": "code",
   "execution_count": 38,
   "metadata": {},
   "outputs": [
    {
     "name": "stdout",
     "output_type": "stream",
     "text": [
      "3\n",
      "3\n",
      "1\n",
      "4\n",
      "4\n",
      "[2, 0, 1, 0, 2]\n",
      "[2, 1, 1, 0, 1]\n"
     ]
    },
    {
     "data": {
      "text/plain": [
       "3"
      ]
     },
     "execution_count": 38,
     "metadata": {},
     "output_type": "execute_result"
    }
   ],
   "source": [
    "from typing import List\n",
    "from functools import reduce\n",
    "class Solution:\n",
    "    def bestRotation(self, nums: List[int]) -> int:\n",
    "        n = len(nums)\n",
    "        map = [0] * n\n",
    "        for i, num in enumerate(nums):\n",
    "            print((i - num + n) % n)\n",
    "            map[(i - num + 1 + n) % n] += 1\n",
    "        ans = 0\n",
    "        print(map)\n",
    "        for i in range(1, n):\n",
    "            map[i] += map[i - 1] - 1\n",
    "            if map[i] < map[ans]:\n",
    "                ans = i\n",
    "        print(map)\n",
    "        return ans\n",
    "Solution().bestRotation(nums = [2,3,1,4,0])"
   ]
  },
  {
   "cell_type": "markdown",
   "metadata": {},
   "source": [
    "# 2049. [统计最高分的节点数目](https://leetcode-cn.com/problems/count-nodes-with-the-highest-score/)"
   ]
  },
  {
   "cell_type": "code",
   "execution_count": 23,
   "metadata": {},
   "outputs": [
    {
     "name": "stdout",
     "output_type": "stream",
     "text": [
      "[4, 0, 2, 0, 0]\n"
     ]
    },
    {
     "data": {
      "text/plain": [
       "3"
      ]
     },
     "execution_count": 23,
     "metadata": {},
     "output_type": "execute_result"
    }
   ],
   "source": [
    "from typing import List\n",
    "class Solution:\n",
    "    def countHighestScoreNodes(self, parents: List[int]) -> int:\n",
    "        n = len(parents)\n",
    "        map = [0] * n\n",
    "        tree = [[] for _ in range(n)]\n",
    "        for i, v in enumerate(parents):\n",
    "            if v != -1:\n",
    "                tree[v].append(i)\n",
    "        def dfs(root: int) -> int:\n",
    "            if tree[root]:\n",
    "                for child in tree[root]:\n",
    "                    map[root] += dfs(child)\n",
    "                return map[root] + 1\n",
    "            else:\n",
    "                return 1\n",
    "        dfs(0)\n",
    "        max = 0\n",
    "        ans = 0\n",
    "        for i in range(n):\n",
    "            left = map[tree[i][0]] + 1 if tree[i] else 1\n",
    "            right = map[tree[i][1]] + 1 if tree[i] and len(tree[i]) > 1 else 1\n",
    "            other = n - map[i] - 1 if n - map[i] - 1 > 0 else 1\n",
    "            product = other * right * left\n",
    "            if max < product:\n",
    "                max = product\n",
    "                ans = 1\n",
    "            elif max == product:\n",
    "                ans += 1\n",
    "        return ans\n",
    "\n",
    "Solution().countHighestScoreNodes(parents = [-1,2,0,2,0])          "
   ]
  },
  {
   "cell_type": "markdown",
   "metadata": {},
   "source": [
    "# 2044. [统计按位或能得到最大值的子集数目](https://leetcode-cn.com/problems/count-number-of-maximum-bitwise-or-subsets/)"
   ]
  },
  {
   "cell_type": "code",
   "execution_count": 4,
   "metadata": {},
   "outputs": [
    {
     "data": {
      "text/plain": [
       "2"
      ]
     },
     "execution_count": 4,
     "metadata": {},
     "output_type": "execute_result"
    }
   ],
   "source": [
    "from typing import List\n",
    "class Solution:\n",
    "    def countMaxOrSubsets(self, nums: List[int]) -> int:\n",
    "        max = 0\n",
    "        n = len(nums)\n",
    "        for num in nums:\n",
    "            max |= num\n",
    "        def dfs(i: int, value: int) -> int:\n",
    "            if i == n:\n",
    "                return 1 if value == max else 0\n",
    "            return dfs(i + 1, value | nums[i]) + dfs(i + 1, value)\n",
    "        return dfs(0, 0)\n",
    "\n",
    "Solution().countMaxOrSubsets([3,1])\n",
    "        "
   ]
  },
  {
   "cell_type": "markdown",
   "metadata": {},
   "source": [
    "# 432. [全 O(1) 的数据结构](https://leetcode-cn.com/problems/all-oone-data-structure/)"
   ]
  },
  {
   "cell_type": "code",
   "execution_count": 16,
   "metadata": {},
   "outputs": [
    {
     "name": "stdout",
     "output_type": "stream",
     "text": [
      "hello\n",
      "hello\n",
      "hello\n",
      "leet\n",
      "hello\n",
      "hello\n"
     ]
    }
   ],
   "source": [
    "class Node(object):\n",
    "    def __init__(self, key = '', count = 0):\n",
    "        self.keys = {key}\n",
    "        self.count = count\n",
    "        self.next = None\n",
    "        self.prev = None\n",
    "    \n",
    "    def insert(self, node: 'Node') -> 'Node':\n",
    "        node.prev = self\n",
    "        node.next = self.next\n",
    "        node.prev.next = node\n",
    "        node.next.prev = node\n",
    "        return node\n",
    "\n",
    "    def remove(self):\n",
    "        self.prev.next = self.next\n",
    "        self.next.prev = self.prev\n",
    "\n",
    "class AllOne:\n",
    "\n",
    "    def __init__(self):\n",
    "        self.root = Node()\n",
    "        self.root.prev = self.root\n",
    "        self.root.next = self.root\n",
    "        self.nodes = {}\n",
    "\n",
    "\n",
    "    def inc(self, key: str) -> None:\n",
    "        if key not in self.nodes:\n",
    "            if self.root.next is self.root or self.root.next.count > 1:\n",
    "                self.nodes[key] = self.root.insert(Node(key, 1))\n",
    "            else:\n",
    "                self.root.next.keys.add(key)\n",
    "                self.nodes[key] = self.root.next\n",
    "        else:\n",
    "            cur = self.nodes[key]\n",
    "            nxt = cur.next\n",
    "            if nxt is self.root or nxt.count > cur.count + 1:\n",
    "                self.nodes[key] = cur.insert(Node(key, cur.count + 1))\n",
    "            else:\n",
    "                nxt.keys.add(key)\n",
    "                self.nodes[key] = nxt\n",
    "            cur.keys.remove(key)\n",
    "            if len(cur.keys) == 0:\n",
    "                cur.remove()\n",
    "\n",
    "    def dec(self, key: str) -> None:\n",
    "        cur = self.nodes[key]\n",
    "        if cur.count == 1:\n",
    "            del self.nodes[key]\n",
    "        else:\n",
    "            pre = cur.prev\n",
    "            if pre is self.root or pre.count < cur.count - 1:\n",
    "                self.nodes[key] = cur.prev.insert(Node(key, cur.count - 1))\n",
    "            else:\n",
    "                pre.keys.add(key)\n",
    "                self.nodes[key] = pre\n",
    "        cur.keys.remove(key)\n",
    "        if len(cur.keys) == 0:\n",
    "            cur.remove()\n",
    "\n",
    "    def getMaxKey(self) -> str:\n",
    "        return next(iter(self.root.prev.keys)) if self.root.prev is not self.root else ''\n",
    "\n",
    "\n",
    "    def getMinKey(self) -> str:\n",
    "        return next(iter(self.root.next.keys)) if self.root.next is not self.root else ''\n",
    "\n",
    "\n",
    "\n",
    "# Your AllOne object will be instantiated and called as such:\n",
    "obj = AllOne()\n",
    "obj.inc('hello')\n",
    "obj.inc('hello')\n",
    "print(obj.getMaxKey())\n",
    "print(obj.getMinKey())\n",
    "obj.inc('leet')\n",
    "print(obj.getMaxKey())\n",
    "print(obj.getMinKey())\n",
    "obj.dec('leet')\n",
    "print(obj.getMaxKey())\n",
    "print(obj.getMinKey())"
   ]
  },
  {
   "cell_type": "markdown",
   "metadata": {},
   "source": [
    "# 720. [词典中最长的单词](https://leetcode-cn.com/problems/longest-word-in-dictionary/)"
   ]
  },
  {
   "cell_type": "code",
   "execution_count": 18,
   "metadata": {},
   "outputs": [
    {
     "data": {
      "text/plain": [
       "'a'"
      ]
     },
     "execution_count": 18,
     "metadata": {},
     "output_type": "execute_result"
    }
   ],
   "source": [
    "from typing import List\n",
    "\n",
    "class Solution:\n",
    "    def longestWord(self, words: List[str]) -> str:\n",
    "        words.sort(key=lambda i: (-len(i), i))\n",
    "        hashset = set(words)\n",
    "        for word in words:\n",
    "            n = len(words)\n",
    "            for i in range(n - 1, -1, -1):\n",
    "                if word[:n-i] not in hashset:\n",
    "                    break\n",
    "            else:\n",
    "                return word\n",
    "        return ''\n",
    "\n",
    "Solution().longestWord([\"a\"])\n"
   ]
  },
  {
   "cell_type": "code",
   "execution_count": 20,
   "metadata": {},
   "outputs": [
    {
     "name": "stdout",
     "output_type": "stream",
     "text": [
      "['a', 'ap', 'app', 'appl', 'apply', 'apple', 'banana']\n"
     ]
    },
    {
     "data": {
      "text/plain": [
       "'apple'"
      ]
     },
     "execution_count": 20,
     "metadata": {},
     "output_type": "execute_result"
    }
   ],
   "source": [
    "from typing import List\n",
    "\n",
    "class Solution:\n",
    "    def longestWord(self, words: List[str]) -> str:\n",
    "        words.sort(key=lambda i: (-len(i), i), reverse=True)\n",
    "        print(words)\n",
    "        hashmap = {''}\n",
    "        ans = ''\n",
    "        for word in words:\n",
    "            if word[:-1] in hashmap:\n",
    "                ans = word\n",
    "                hashmap.add(word)\n",
    "        return ans\n",
    "\n",
    "Solution().longestWord( [\"a\", \"banana\", \"app\", \"appl\", \"ap\", \"apply\", \"apple\"])\n"
   ]
  }
 ],
 "metadata": {
  "interpreter": {
   "hash": "3a57da47d7432be2ebf54640945d9cc60b99e6d1ae25722168e2af822ccabf93"
  },
  "kernelspec": {
   "display_name": "Python 3.8.10 ('.venv': venv)",
   "language": "python",
   "name": "python3"
  },
  "language_info": {
   "codemirror_mode": {
    "name": "ipython",
    "version": 3
   },
   "file_extension": ".py",
   "mimetype": "text/x-python",
   "name": "python",
   "nbconvert_exporter": "python",
   "pygments_lexer": "ipython3",
   "version": "3.8.10"
  },
  "orig_nbformat": 4
 },
 "nbformat": 4,
 "nbformat_minor": 2
}
