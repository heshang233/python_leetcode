{
 "cells": [
  {
   "cell_type": "markdown",
   "metadata": {},
   "source": [
    "# 2055. [蜡烛之间的盘子](https://leetcode-cn.com/problems/plates-between-candles/)"
   ]
  },
  {
   "cell_type": "code",
   "execution_count": 13,
   "metadata": {},
   "outputs": [
    {
     "name": "stdout",
     "output_type": "stream",
     "text": [
      "0 1 [3, 6, 12, 15, 16, 19]\n",
      "0 4 [3, 6, 12, 15, 16, 19]\n",
      "1 0 [3, 6, 12, 15, 16, 19]\n",
      "3 4 [3, 6, 12, 15, 16, 19]\n",
      "1 1 [3, 6, 12, 15, 16, 19]\n",
      "3 4 [3, 6, 12, 15, 16, 19]\n",
      "[2, 9, 0, 0, 0, 0]\n",
      "0 1 [2, 5, 9]\n",
      "1 2 [2, 5, 9]\n",
      "[2, 3]\n"
     ]
    }
   ],
   "source": [
    "from typing import List\n",
    "class Solution:\n",
    "    def platesBetweenCandles(self, s: str, queries: List[List[int]]) -> List[int]:\n",
    "        n = len(s)\n",
    "        candle = []\n",
    "        for i in range(n):\n",
    "            if s[i] == '|':\n",
    "                candle.append(i)\n",
    "        ans = [0] * len(queries)\n",
    "        for i, query in enumerate(queries):\n",
    "            left, right = query[0], query[1]\n",
    "            l, r = 0, len(candle) - 1\n",
    "            left_index = -1\n",
    "            while l <= r:\n",
    "                mid = l + ((r - l) >> 1)\n",
    "                if candle[mid] < left:\n",
    "                    l = mid + 1\n",
    "                elif candle[mid] > left:\n",
    "                    r = mid - 1\n",
    "                else:\n",
    "                    left_index = mid\n",
    "                    break\n",
    "            else:\n",
    "                left_index = l\n",
    "            l, r = 0, len(candle) - 1\n",
    "            right_index = -1\n",
    "            while l <= r:\n",
    "                mid = l + ((r - l) >> 1)\n",
    "                if candle[mid] < right:\n",
    "                    l = mid + 1\n",
    "                elif candle[mid] > right:\n",
    "                    r = mid - 1\n",
    "                else:\n",
    "                    right_index = mid\n",
    "                    break\n",
    "            else:\n",
    "                right_index = r\n",
    "            print(left_index, right_index, candle)\n",
    "            if right_index != left_index:\n",
    "                for j in range(left_index, right_index):\n",
    "                    ans[i] += (candle[j + 1] - candle[j] - 1)\n",
    "        return ans\n",
    "print(Solution().platesBetweenCandles(s = \"***|**|*****|**||**|*\", queries = [[0,6],[1,17],[4,5],[14,17],[5,11],[15,16]]))\n",
    "\n",
    "print(Solution().platesBetweenCandles(s = \"**|**|***|\", queries = [[2,5],[5,9]]))\n",
    "\n",
    "# 执行超时 gg"
   ]
  },
  {
   "cell_type": "code",
   "execution_count": 18,
   "metadata": {},
   "outputs": [
    {
     "name": "stdout",
     "output_type": "stream",
     "text": [
      "3 6 [0, 1, 2, 3, 3, 4, 5, 5, 6, 7, 8, 9, 10, 10, 11, 12, 12, 12, 13, 14, 14]\n",
      "3 16 [0, 1, 2, 3, 3, 4, 5, 5, 6, 7, 8, 9, 10, 10, 11, 12, 12, 12, 13, 14, 14]\n",
      "6 3 [0, 1, 2, 3, 3, 4, 5, 5, 6, 7, 8, 9, 10, 10, 11, 12, 12, 12, 13, 14, 14]\n",
      "15 16 [0, 1, 2, 3, 3, 4, 5, 5, 6, 7, 8, 9, 10, 10, 11, 12, 12, 12, 13, 14, 14]\n",
      "6 6 [0, 1, 2, 3, 3, 4, 5, 5, 6, 7, 8, 9, 10, 10, 11, 12, 12, 12, 13, 14, 14]\n",
      "15 16 [0, 1, 2, 3, 3, 4, 5, 5, 6, 7, 8, 9, 10, 10, 11, 12, 12, 12, 13, 14, 14]\n",
      "[2, 9, 0, 0, 0, 0]\n",
      "2 5 [0, 1, 2, 2, 3, 4, 4, 5, 6, 7]\n",
      "5 9 [0, 1, 2, 2, 3, 4, 4, 5, 6, 7]\n",
      "[2, 3]\n"
     ]
    }
   ],
   "source": [
    "from typing import List\n",
    "class Solution:\n",
    "    def platesBetweenCandles(self, s: str, queries: List[List[int]]) -> List[int]:\n",
    "        n = len(s)\n",
    "        lcandle, rcandle = [-1] * n, [-1] * n\n",
    "        prefix_plate = [0] * n\n",
    "        if s[0] == '|':\n",
    "            lcandle[0] = 0\n",
    "        if s[n - 1] == '|':\n",
    "            rcandle[n - 1] = n - 1\n",
    "        for i in range(1, n):\n",
    "            prefix_plate[i] = prefix_plate[i - 1] + 1 if s[i - 1] == '*' else prefix_plate[i - 1]\n",
    "            lcandle[i] = i if s[i] == '|' else lcandle[i - 1]\n",
    "        for i in range(n-2, -1, -1):\n",
    "            rcandle[i] = i if s[i] == '|' else rcandle[i + 1]\n",
    "\n",
    "        ans = [0] * len(queries)\n",
    "        for i, (left, right) in enumerate(queries):\n",
    "            left_index, right_index = rcandle[left], lcandle[right]\n",
    "            if left_index >= 0 and right_index >= 0 and left_index < right_index:\n",
    "                ans[i] = prefix_plate[right_index] - prefix_plate[left_index]\n",
    "        return ans\n",
    "print(Solution().platesBetweenCandles(s = \"***|**|*****|**||**|*\", queries = [[0,6],[1,17],[4,5],[14,17],[5,11],[15,16]]))\n",
    "\n",
    "print(Solution().platesBetweenCandles(s = \"**|**|***|\", queries = [[2,5],[5,9]]))\n"
   ]
  }
 ],
 "metadata": {
  "interpreter": {
   "hash": "3a57da47d7432be2ebf54640945d9cc60b99e6d1ae25722168e2af822ccabf93"
  },
  "kernelspec": {
   "display_name": "Python 3.8.10 ('.venv': venv)",
   "language": "python",
   "name": "python3"
  },
  "language_info": {
   "codemirror_mode": {
    "name": "ipython",
    "version": 3
   },
   "file_extension": ".py",
   "mimetype": "text/x-python",
   "name": "python",
   "nbconvert_exporter": "python",
   "pygments_lexer": "ipython3",
   "version": "3.8.10"
  },
  "orig_nbformat": 4
 },
 "nbformat": 4,
 "nbformat_minor": 2
}
